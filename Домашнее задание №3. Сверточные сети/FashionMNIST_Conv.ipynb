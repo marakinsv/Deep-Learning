{
  "nbformat": 4,
  "nbformat_minor": 0,
  "metadata": {
    "kernelspec": {
      "display_name": "Python 3",
      "language": "python",
      "name": "python3"
    },
    "language_info": {
      "codemirror_mode": {
        "name": "ipython",
        "version": 3
      },
      "file_extension": ".py",
      "mimetype": "text/x-python",
      "name": "python",
      "nbconvert_exporter": "python",
      "pygments_lexer": "ipython3",
      "version": "3.7.1"
    },
    "colab": {
      "provenance": []
    }
  },
  "cells": [
    {
      "cell_type": "code",
      "metadata": {
        "ExecuteTime": {
          "end_time": "2019-11-12T16:56:53.930939Z",
          "start_time": "2019-11-12T16:56:53.927524Z"
        },
        "id": "WIcNCt4ZmPZZ"
      },
      "source": [
        "import torch\n",
        "import numpy as np\n",
        "import torchvision as tv\n",
        "from torch import nn\n",
        "import time\n",
        "import matplotlib.pyplot as plt\n",
        "%matplotlib inline"
      ],
      "execution_count": 99,
      "outputs": []
    },
    {
      "cell_type": "code",
      "metadata": {
        "ExecuteTime": {
          "end_time": "2019-11-12T16:56:57.876097Z",
          "start_time": "2019-11-12T16:56:57.866730Z"
        },
        "id": "qb_NW7cVmPZs"
      },
      "source": [
        "BATCH_SIZE=256"
      ],
      "execution_count": 100,
      "outputs": []
    },
    {
      "cell_type": "code",
      "metadata": {
        "ExecuteTime": {
          "end_time": "2019-11-12T17:11:52.832124Z",
          "start_time": "2019-11-12T17:11:52.776322Z"
        },
        "id": "Kw5Kv2i6mPZu"
      },
      "source": [
        "train_dataset = tv.datasets.FashionMNIST('.', train=True, transform=tv.transforms.ToTensor(), download=True)\n",
        "test_dataset = tv.datasets.FashionMNIST('.', train=False, transform=tv.transforms.ToTensor(), download=True)\n",
        "train_iter = torch.utils.data.DataLoader(train_dataset, batch_size=BATCH_SIZE)\n",
        "test_iter = torch.utils.data.DataLoader(test_dataset, batch_size=BATCH_SIZE)"
      ],
      "execution_count": 101,
      "outputs": []
    },
    {
      "cell_type": "code",
      "metadata": {
        "ExecuteTime": {
          "end_time": "2019-11-12T16:57:07.025198Z",
          "start_time": "2019-11-12T16:57:06.829381Z"
        },
        "scrolled": false,
        "id": "1pgo64r1mPZx",
        "outputId": "824259f5-5192-48d7-a706-d0ed1d819d54",
        "colab": {
          "base_uri": "https://localhost:8080/",
          "height": 282
        }
      },
      "source": [
        "plt.imshow(train_dataset[0][0].numpy().reshape(28,28), cmap='gray')"
      ],
      "execution_count": 102,
      "outputs": [
        {
          "output_type": "execute_result",
          "data": {
            "text/plain": [
              "<matplotlib.image.AxesImage at 0x7fb8193af690>"
            ]
          },
          "metadata": {},
          "execution_count": 102
        },
        {
          "output_type": "display_data",
          "data": {
            "text/plain": [
              "<Figure size 432x288 with 1 Axes>"
            ],
            "image/png": "[encoded data removed]"
          },
          "metadata": {
            "needs_background": "light"
          }
        }
      ]
    },
    {
      "cell_type": "code",
      "source": [
        "plt.imshow(train_dataset[1][0].numpy().reshape(28,28), cmap='gray')"
      ],
      "metadata": {
        "id": "x6dsrFp4ms4U",
        "outputId": "406010e8-a91f-4cfb-fd08-f0acff829627",
        "colab": {
          "base_uri": "https://localhost:8080/",
          "height": 282
        }
      },
      "execution_count": 103,
      "outputs": [
        {
          "output_type": "execute_result",
          "data": {
            "text/plain": [
              "<matplotlib.image.AxesImage at 0x7fb8193390d0>"
            ]
          },
          "metadata": {},
          "execution_count": 103
        },
        {
          "output_type": "display_data",
          "data": {
            "text/plain": [
              "<Figure size 432x288 with 1 Axes>"
            ],
            "image/png": "[encoded data removed]"
          },
          "metadata": {
            "needs_background": "light"
          }
        }
      ]
    },
    {
      "cell_type": "markdown",
      "metadata": {
        "id": "-LcgNXwOmPZ5"
      },
      "source": [
        "## Модель"
      ]
    },
    {
      "cell_type": "code",
      "metadata": {
        "ExecuteTime": {
          "end_time": "2019-11-12T17:27:43.689461Z",
          "start_time": "2019-11-12T17:27:43.684254Z"
        },
        "id": "V7qWC2EbmPZ5"
      },
      "source": [
        "model = nn.Sequential(\n",
        "    nn.Conv2d(1, 8, kernel_size=5, padding=3),\n",
        "    nn.ReLU(),\n",
        "    nn.MaxPool2d(2, stride=2),\n",
        "    nn.Conv2d(8, 16, kernel_size=5),\n",
        "    nn.ReLU(),\n",
        "    nn.MaxPool2d(2, stride=2),\n",
        "    nn.Flatten(),\n",
        "    nn.Linear(400, 200),\n",
        "    nn.ReLU(),\n",
        "    nn.Linear(200, 50),\n",
        "    nn.ReLU(),\n",
        "    nn.Linear(50, 10)\n",
        ")"
      ],
      "execution_count": 142,
      "outputs": []
    },
    {
      "cell_type": "code",
      "source": [
        "from torchsummary import summary\n",
        "\n",
        "summary(model, input_size=(1, 28, 28), device='cpu')"
      ],
      "metadata": {
        "colab": {
          "base_uri": "https://localhost:8080/"
        },
        "id": "vbmloNjyh2Bo",
        "outputId": "8a5d5441-566a-4641-b0bc-34ef1b10244e"
      },
      "execution_count": 143,
      "outputs": [
        {
          "output_type": "stream",
          "name": "stdout",
          "text": [
            "----------------------------------------------------------------\n",
            "        Layer (type)               Output Shape         Param #\n",
            "================================================================\n",
            "            Conv2d-1            [-1, 8, 30, 30]             208\n",
            "              ReLU-2            [-1, 8, 30, 30]               0\n",
            "         MaxPool2d-3            [-1, 8, 15, 15]               0\n",
            "            Conv2d-4           [-1, 16, 11, 11]           3,216\n",
            "              ReLU-5           [-1, 16, 11, 11]               0\n",
            "         MaxPool2d-6             [-1, 16, 5, 5]               0\n",
            "           Flatten-7                  [-1, 400]               0\n",
            "            Linear-8                  [-1, 200]          80,200\n",
            "              ReLU-9                  [-1, 200]               0\n",
            "           Linear-10                   [-1, 50]          10,050\n",
            "             ReLU-11                   [-1, 50]               0\n",
            "           Linear-12                   [-1, 10]             510\n",
            "================================================================\n",
            "Total params: 94,184\n",
            "Trainable params: 94,184\n",
            "Non-trainable params: 0\n",
            "----------------------------------------------------------------\n",
            "Input size (MB): 0.00\n",
            "Forward/backward pass size (MB): 0.16\n",
            "Params size (MB): 0.36\n",
            "Estimated Total Size (MB): 0.53\n",
            "----------------------------------------------------------------\n"
          ]
        }
      ]
    },
    {
      "cell_type": "code",
      "metadata": {
        "ExecuteTime": {
          "end_time": "2019-11-12T17:27:44.112235Z",
          "start_time": "2019-11-12T17:27:44.108751Z"
        },
        "id": "5ZF9RBZomPZ-"
      },
      "source": [
        "def evaluate_accuracy(data_iter, net):\n",
        "    acc_sum, n = torch.Tensor([0]), 0\n",
        "    for X, y in data_iter:\n",
        "        acc_sum += (net(X).argmax(axis=1) == y).sum()\n",
        "        n += y.shape[0]\n",
        "    return acc_sum.item() / n"
      ],
      "execution_count": 144,
      "outputs": []
    },
    {
      "cell_type": "code",
      "metadata": {
        "ExecuteTime": {
          "start_time": "2019-11-12T17:27:44.267Z"
        },
        "id": "vVqz1hvTmPaA"
      },
      "source": [
        "def train(net, train_iter, test_iter, optimizer, num_epochs):\n",
        "    loss = nn.CrossEntropyLoss()\n",
        "\n",
        "    for epoch in range(num_epochs):\n",
        "        train_l_sum, train_acc_sum, n, start = 0.0, 0.0, 0, time.time()\n",
        "    \n",
        "        for X, y in train_iter:\n",
        "            optimizer.zero_grad()\n",
        "            y_hat = net(X)\n",
        "            l = loss(y_hat, y)\n",
        "            l.backward()\n",
        "            optimizer.step()\n",
        "            train_l_sum += l.item()\n",
        "            train_acc_sum += (y_hat.argmax(axis=1) == y).sum().item()\n",
        "            n += y.shape[0]\n",
        "      \n",
        "        test_acc = evaluate_accuracy(test_iter, net)\n",
        "        print(f'epoch {epoch + 1}, loss {train_l_sum / n:.4f}, train acc {train_acc_sum / n:.3f}' \\\n",
        "              f', test acc {test_acc:.3f}, time {time.time() - start:.1f} sec')"
      ],
      "execution_count": 145,
      "outputs": []
    },
    {
      "cell_type": "code",
      "source": [
        "lr, num_epochs = 0.01, 20\n",
        "optimizer = torch.optim.Adam(model.parameters(), lr=lr)\n",
        "train(model, train_iter, test_iter, optimizer, num_epochs)"
      ],
      "metadata": {
        "colab": {
          "base_uri": "https://localhost:8080/"
        },
        "id": "46TFxMPK5Wfg",
        "outputId": "1e757bf3-d6ac-41bf-e8b7-c05e1ef511bd"
      },
      "execution_count": 146,
      "outputs": [
        {
          "output_type": "stream",
          "name": "stdout",
          "text": [
            "epoch 1, loss 0.0022, train acc 0.786, test acc 0.836, time 22.1 sec\n",
            "epoch 2, loss 0.0013, train acc 0.875, test acc 0.855, time 22.1 sec\n",
            "epoch 3, loss 0.0012, train acc 0.889, test acc 0.873, time 24.3 sec\n",
            "epoch 4, loss 0.0011, train acc 0.899, test acc 0.888, time 22.1 sec\n",
            "epoch 5, loss 0.0010, train acc 0.906, test acc 0.875, time 22.1 sec\n",
            "epoch 6, loss 0.0010, train acc 0.909, test acc 0.892, time 23.0 sec\n",
            "epoch 7, loss 0.0009, train acc 0.912, test acc 0.887, time 22.1 sec\n",
            "epoch 8, loss 0.0009, train acc 0.915, test acc 0.889, time 22.0 sec\n",
            "epoch 9, loss 0.0009, train acc 0.917, test acc 0.893, time 23.0 sec\n",
            "epoch 10, loss 0.0008, train acc 0.922, test acc 0.892, time 22.9 sec\n",
            "epoch 11, loss 0.0008, train acc 0.923, test acc 0.896, time 23.0 sec\n",
            "epoch 12, loss 0.0008, train acc 0.924, test acc 0.889, time 22.2 sec\n",
            "epoch 13, loss 0.0008, train acc 0.926, test acc 0.885, time 22.3 sec\n",
            "epoch 14, loss 0.0008, train acc 0.927, test acc 0.889, time 23.4 sec\n",
            "epoch 15, loss 0.0007, train acc 0.929, test acc 0.893, time 22.8 sec\n",
            "epoch 16, loss 0.0007, train acc 0.929, test acc 0.890, time 22.7 sec\n",
            "epoch 17, loss 0.0007, train acc 0.931, test acc 0.887, time 23.1 sec\n",
            "epoch 18, loss 0.0007, train acc 0.934, test acc 0.888, time 22.8 sec\n",
            "epoch 19, loss 0.0007, train acc 0.935, test acc 0.891, time 23.0 sec\n",
            "epoch 20, loss 0.0007, train acc 0.935, test acc 0.886, time 23.5 sec\n"
          ]
        }
      ]
    }
  ]
}