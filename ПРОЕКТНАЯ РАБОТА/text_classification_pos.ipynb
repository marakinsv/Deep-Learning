{
  "cells": [
    {
      "cell_type": "code",
      "source": [
        "                !pip install -q transformers"
      ],
      "metadata": {
        "id": "pT-BjEyUSXuT"
      },
      "execution_count": null,
      "outputs": []
    },
    {
      "cell_type": "code",
      "source": [
        "import numpy as np # linear algebra\n",
        "import pandas as pd # data processing, CSV file I/O (e.g. pd.read_csv)\n",
        "import json\n",
        "import os\n",
        "from sklearn.metrics import roc_curve\n",
        "from sklearn.metrics import accuracy_score\n",
        "from sklearn.metrics import f1_score\n",
        "from sklearn.model_selection import train_test_split\n",
        "import torch\n",
        "import torch.nn as nn\n",
        "from sklearn.model_selection import train_test_split\n",
        "from sklearn.metrics import classification_report\n",
        "import transformers\n",
        "from transformers import BertModel, BertTokenizer\n",
        "import warnings\n",
        "warnings.filterwarnings('ignore')\n",
        "# specify GPU\n",
        "device = torch.device(\"cuda\")\n",
        "print(device)"
      ],
      "metadata": {
        "id": "KyoyY9YPcx3n",
        "colab": {
          "base_uri": "https://localhost:8080/"
        },
        "outputId": "0271879a-b82c-46a8-fe3d-d51ab206712d"
      },
      "execution_count": null,
      "outputs": [
        {
          "output_type": "stream",
          "name": "stdout",
          "text": [
            "cuda\n"
          ]
        }
      ]
    },
    {
      "cell_type": "code",
      "source": [
        "from google.colab import drive\n",
        "drive.mount('/content/drive')"
      ],
      "metadata": {
        "colab": {
          "base_uri": "https://localhost:8080/"
        },
        "id": "dNlKs_9Hb-VO",
        "outputId": "8b28924c-19bd-405b-efc2-f607620786e0"
      },
      "execution_count": null,
      "outputs": [
        {
          "output_type": "stream",
          "name": "stdout",
          "text": [
            "Drive already mounted at /content/drive; to attempt to forcibly remount, call drive.mount(\"/content/drive\", force_remount=True).\n"
          ]
        }
      ]
    },
    {
      "cell_type": "code",
      "source": [
        "def split_text(text):\n",
        "    text = text.replace('«', '')\n",
        "    text = text.replace('»', '')\n",
        "    text = text.replace('\"', '')\n",
        "    text = text.replace('-', '')\n",
        "\n",
        "    text = text.replace('т. д.', 'т д')\n",
        "    text = text.replace('т. п.', 'т п')\n",
        "    text = text.replace('др.', 'др')\n",
        "\n",
        "    text = text.replace('...,', ',')\n",
        "    text = text.replace('?,', ',')\n",
        "    text = text.replace('!,', ',')\n",
        "    text = text.replace('.,', ',')\n",
        "    text = text.replace('.)', ')')\n",
        "    text = text.replace(';,', ',')\n",
        "\n",
        "    text = text.replace('....', ';')\n",
        "    text = text.replace('...', ';')\n",
        "    text = text.replace('..', ';')\n",
        "\n",
        "    text = text.replace('!', ';')\n",
        "    text = text.replace('!!', ';')\n",
        "    text = text.replace('!!!', ';')\n",
        "    text = text.replace('?', ';')\n",
        "    text = text.replace('??', ';')\n",
        "    text = text.replace('???', ';')\n",
        "    text = text.replace('!?', ';')\n",
        "    text = text.replace('?!', ';')\n",
        "    text = text.replace('.', ';')\n",
        "    text = text.replace(u'\\xa0', u' ')\n",
        "\n",
        "    return [txt.strip() for txt in text.split(';')]"
      ],
      "metadata": {
        "id": "D6D6Z7QCb_ZU"
      },
      "execution_count": null,
      "outputs": []
    },
    {
      "cell_type": "markdown",
      "source": [
        "**Загрузка описания психологических векторов.**"
      ],
      "metadata": {
        "id": "zWesr9__cHVr"
      }
    },
    {
      "cell_type": "code",
      "source": [
        "person_vectors = (\"brown\", \"black\", \"red\", \"orange\", \"yellow\", \"green\", \"blue\", \"purple\")\n",
        "danger_types = (\"type1\", \"type2\", \"type3\", \"type4\")"
      ],
      "metadata": {
        "id": "nejPs-qPcKek"
      },
      "execution_count": null,
      "outputs": []
    },
    {
      "cell_type": "code",
      "source": [
        "label_map = {'positive': 0, 'negative': 1}\n",
        "id2label = {0: 'positive', 1: 'negative'}"
      ],
      "metadata": {
        "id": "k1S9fSpmhaSm"
      },
      "execution_count": null,
      "outputs": []
    },
    {
      "cell_type": "code",
      "source": [
        "train_text = []; train_labels = []\n",
        "\n",
        "# Загружаем описание личности человека для каждого вектора из книги В.К. Толкачева\n",
        "for person_vector in person_vectors:\n",
        "    with open(\"drive/MyDrive/vectors/\" + person_vector + \".txt\", encoding=\"utf8\") as rf:\n",
        "        with open(\"drive/MyDrive/vectors/\" + person_vector + \"_neg.txt\", encoding=\"utf8\") as rf_:\n",
        "            sentences_neg = split_text(rf_.read().strip())\n",
        "            for sentence in split_text(rf.read().strip()):\n",
        "                if len(sentence) <= 5: continue\n",
        "                train_text.append(sentence.strip())\n",
        "                if sentence in sentences_neg:\n",
        "                    #print(sentence)\n",
        "                    train_labels.append(1)\n",
        "                else:\n",
        "                  train_labels.append(0)\n",
        "\n",
        "# Загружаем описание личности человека для каждого вектора из книги М.В. Бородянского\n",
        "for person_vector in person_vectors:\n",
        "    with open(\"drive/MyDrive/vectors_/\" + person_vector + \".txt\", encoding=\"utf8\") as rf:\n",
        "        with open(\"drive/MyDrive/vectors_/\" + person_vector + \"_neg.txt\", encoding=\"utf8\") as rf_:\n",
        "            sentences_neg = split_text(rf_.read().strip())\n",
        "            for sentence in split_text(rf.read().strip()):\n",
        "                if len(sentence) <= 5: continue\n",
        "                train_text.append(sentence.strip())\n",
        "                if sentence in sentences_neg:\n",
        "                    #print(sentence)\n",
        "                    train_labels.append(1)\n",
        "                else:\n",
        "                  train_labels.append(0)\n",
        "\n",
        "# Загружаем описание личности человека для каждого типа из книги Джо Наварро \"Опасные личности\"\n",
        "for danger_type in danger_types:\n",
        "    with open(\"drive/MyDrive/danger_types/\" + danger_type + \".txt\", encoding=\"utf8\") as rf:\n",
        "        for text in rf.readlines():\n",
        "            for sentence in split_text(text):\n",
        "              if len(sentence) <= 5: continue\n",
        "              train_text.append(sentence.strip())\n",
        "              train_labels.append(1)\n",
        "\n",
        "train_text = np.array(train_text)\n",
        "train_labels = np.array(train_labels)"
      ],
      "metadata": {
        "id": "TWmmomZOcDb-"
      },
      "execution_count": null,
      "outputs": []
    },
    {
      "cell_type": "code",
      "source": [
        "train_text[:10]"
      ],
      "metadata": {
        "colab": {
          "base_uri": "https://localhost:8080/"
        },
        "id": "HxhyLe4uj2Mx",
        "outputId": "b0ac2800-43de-4beb-8e09-34261cac529c"
      },
      "execution_count": null,
      "outputs": [
        {
          "output_type": "execute_result",
          "data": {
            "text/plain": [
              "array(['Люди, которых я хотел бы описать, выделяются тем, что в их характере обнаруживается, как правило, присутствие следующих трех черт: они аккуратны, бережливы и упрямы',\n",
              "       'От себя добавим, что есть в этом характере и четвертая обязательная черта — склонность к садизму, в том числе и в его скрытых, латентных формах',\n",
              "       'Аккуратность обозначает здесь не только физическую чистоплотность, но также и добросовестность в исполнении иного рода мелких обязательств: на людей аккуратных в этом смысле можно положиться',\n",
              "       'Эти люди обладают морально нравственной чистоплотностью, иногда просто патологически честны',\n",
              "       'Такой ребенок может ответить по телефону: Мама сказала, что ее нет дома',\n",
              "       'Он — классический флегматик (носитель флегматического темперамента), он способен спокойно и рассудительно продумать расходование каждого рубля',\n",
              "       'При покупке товара в магазине ведет себя крайне нерешительно и выбирает долго, перетрогает и перепробует весь то вар, при этом будет спрашивать совет у продавца и других покупателей',\n",
              "       'Он — человек нерешительный, нуждается в советах и ищет советчиков',\n",
              "       'Помогите ему советами в начале дела',\n",
              "       'По нашему мнению его гнев и мстительность — это не гнев и мстительность в чистом виде, а проявления бытового садизма в скрытых формах'],\n",
              "      dtype='<U775')"
            ]
          },
          "metadata": {},
          "execution_count": 8
        }
      ]
    },
    {
      "cell_type": "code",
      "source": [
        "val_text = []; val_labels = []\n",
        "\n",
        "for i in range(2):\n",
        "    rf = None\n",
        "    if i == 0:\n",
        "        with open(\"drive/MyDrive/val/\" + \"Дюймовочка.txt\", encoding=\"utf8\") as rf:\n",
        "            for sentence in split_text(rf.read().strip()):\n",
        "                if len(sentence) <= 5: continue\n",
        "                val_text.append(sentence.strip())\n",
        "                val_labels.append(i)\n",
        "    else:\n",
        "        with open(\"drive/MyDrive/val/\" + \"Потрошитель.txt\", encoding=\"utf8\") as rf:\n",
        "            for sentence in split_text(rf.read().strip()):\n",
        "                if len(sentence) <= 5: continue\n",
        "                val_text.append(sentence.strip())\n",
        "                val_labels.append(i)\n",
        "\n",
        "val_text = np.array(val_text)\n",
        "val_labels = np.array(val_labels)\n",
        "\n",
        "_, val_text, _, val_labels = train_test_split(val_text, val_labels, test_size=0.33, random_state=42)"
      ],
      "metadata": {
        "id": "ROaglS0jhXmL"
      },
      "execution_count": null,
      "outputs": []
    },
    {
      "cell_type": "code",
      "source": [
        "np.unique(val_labels)"
      ],
      "metadata": {
        "colab": {
          "base_uri": "https://localhost:8080/"
        },
        "id": "XxPuKPSsmWcY",
        "outputId": "e6795ca4-9081-428f-daa0-253a09b00e6c"
      },
      "execution_count": null,
      "outputs": [
        {
          "output_type": "execute_result",
          "data": {
            "text/plain": [
              "array([0, 1])"
            ]
          },
          "metadata": {},
          "execution_count": 10
        }
      ]
    },
    {
      "metadata": {
        "trusted": true,
        "id": "RWE1dcQ8ZscG"
      },
      "cell_type": "code",
      "source": [
        "#train_text, val_text, train_labels, val_labels = train_test_split(df_vectors['description'], df_vectors['vectorId'],\n",
        "#                                                                    random_state=2018,\n",
        "#                                                                    test_size=0.2,\n",
        "#                                                                   stratify=df_vectors['vectorId'])"
      ],
      "execution_count": null,
      "outputs": []
    },
    {
      "metadata": {
        "trusted": true,
        "colab": {
          "base_uri": "https://localhost:8080/"
        },
        "id": "6C6JhRwdZscG",
        "outputId": "4e44a1d9-4fe7-495a-a661-2f74b0147034"
      },
      "cell_type": "code",
      "source": [
        "# Load the BERT tokenizer\n",
        "tokenizer = BertTokenizer.from_pretrained(\"sberbank-ai/ruBert-base\")\n",
        "bert = BertModel.from_pretrained(\"sberbank-ai/ruBert-base\")"
      ],
      "execution_count": null,
      "outputs": [
        {
          "output_type": "stream",
          "name": "stderr",
          "text": [
            "Some weights of the model checkpoint at sberbank-ai/ruBert-base were not used when initializing BertModel: ['cls.predictions.transform.LayerNorm.bias', 'cls.predictions.transform.dense.bias', 'cls.predictions.bias', 'cls.predictions.decoder.weight', 'cls.seq_relationship.weight', 'cls.predictions.transform.dense.weight', 'cls.seq_relationship.bias', 'cls.predictions.transform.LayerNorm.weight', 'cls.predictions.decoder.bias']\n",
            "- This IS expected if you are initializing BertModel from the checkpoint of a model trained on another task or with another architecture (e.g. initializing a BertForSequenceClassification model from a BertForPreTraining model).\n",
            "- This IS NOT expected if you are initializing BertModel from the checkpoint of a model that you expect to be exactly identical (initializing a BertForSequenceClassification model from a BertForSequenceClassification model).\n"
          ]
        }
      ]
    },
    {
      "metadata": {
        "trusted": true,
        "colab": {
          "base_uri": "https://localhost:8080/",
          "height": 447
        },
        "id": "yILCzqK0ZscH",
        "outputId": "0ec4ecc3-1a3f-487d-9643-f7917e845075"
      },
      "cell_type": "code",
      "source": [
        "seq_len = [len(i.split()) for i in train_text]\n",
        "\n",
        "pd.Series(seq_len).hist(bins = 30)\n",
        "max_seq_len = max(seq_len)\n",
        "print(max_seq_len)"
      ],
      "execution_count": null,
      "outputs": [
        {
          "output_type": "stream",
          "name": "stdout",
          "text": [
            "83\n"
          ]
        },
        {
          "output_type": "display_data",
          "data": {
            "text/plain": [
              "<Figure size 640x480 with 1 Axes>"
            ],
            "image/png": "[encoded data removed]"
          },
          "metadata": {}
        }
      ]
    },
    {
      "metadata": {
        "trusted": true,
        "id": "pcgvy8wEZscI"
      },
      "cell_type": "code",
      "source": [
        "# tokenize and encode sequences in the training set\n",
        "if max_seq_len>512:\n",
        "    max_seq_len = 512\n",
        "tokens_train = tokenizer.batch_encode_plus(\n",
        "    train_text.tolist(),\n",
        "    max_length = max_seq_len,\n",
        "    pad_to_max_length=True,\n",
        "    truncation=True,\n",
        "    return_token_type_ids=False\n",
        ")\n",
        "\n",
        "# tokenize and encode sequences in the validation set\n",
        "tokens_val = tokenizer.batch_encode_plus(\n",
        "    val_text.tolist(),\n",
        "    max_length = max_seq_len,\n",
        "    pad_to_max_length=True,\n",
        "    truncation=True,\n",
        "    return_token_type_ids=False\n",
        ")\n",
        "\n"
      ],
      "execution_count": null,
      "outputs": []
    },
    {
      "metadata": {
        "trusted": true,
        "colab": {
          "base_uri": "https://localhost:8080/"
        },
        "id": "JfqOwHiEZscI",
        "outputId": "f2218d2c-7168-4dfe-953f-c7e62010be0e"
      },
      "cell_type": "code",
      "source": [
        "# for train set\n",
        "train_seq = torch.tensor(tokens_train['input_ids'])\n",
        "train_mask = torch.tensor(tokens_train['attention_mask'])\n",
        "train_y = torch.tensor(train_labels.tolist())\n",
        "print(\"train_y:\",train_y)\n",
        "# for validation set\n",
        "val_seq = torch.tensor(tokens_val['input_ids'])\n",
        "val_mask = torch.tensor(tokens_val['attention_mask'])\n",
        "val_y = torch.tensor(val_labels.tolist())\n",
        "print(\"val_y:\",val_y)\n"
      ],
      "execution_count": null,
      "outputs": [
        {
          "output_type": "stream",
          "name": "stdout",
          "text": [
            "train_y: tensor([0, 1, 0,  ..., 1, 1, 1])\n",
            "val_y: tensor([1, 1, 1,  ..., 1, 1, 1])\n"
          ]
        }
      ]
    },
    {
      "metadata": {
        "trusted": true,
        "id": "R628lET0ZscJ"
      },
      "cell_type": "code",
      "source": [
        "from torch.utils.data import TensorDataset, DataLoader, RandomSampler, SequentialSampler\n",
        "\n",
        "#define a batch size\n",
        "batch_size = 16\n",
        "\n",
        "# wrap tensors\n",
        "train_data = TensorDataset(train_seq, train_mask, train_y)\n",
        "\n",
        "# sampler for sampling the data during training\n",
        "train_sampler = RandomSampler(train_data)\n",
        "\n",
        "# dataLoader for train set\n",
        "train_dataloader = DataLoader(train_data, sampler=train_sampler, batch_size=batch_size)\n",
        "\n",
        "# wrap tensors\n",
        "val_data = TensorDataset(val_seq, val_mask, val_y)\n",
        "\n",
        "# sampler for sampling the data during training\n",
        "val_sampler = SequentialSampler(val_data)\n",
        "\n",
        "# dataLoader for validation set\n",
        "val_dataloader = DataLoader(val_data, sampler = val_sampler, batch_size=batch_size)"
      ],
      "execution_count": null,
      "outputs": []
    },
    {
      "metadata": {
        "trusted": true,
        "id": "Ae32U8K6ZscJ"
      },
      "cell_type": "code",
      "source": [
        "# freeze all the parameters\n",
        "for param in bert.parameters():\n",
        "    param.requires_grad = False"
      ],
      "execution_count": null,
      "outputs": []
    },
    {
      "metadata": {
        "trusted": true,
        "id": "VOYdFmb5ZscK"
      },
      "cell_type": "code",
      "source": [
        "class BERT_Arch(nn.Module):\n",
        "    def __init__(self, bert, num_classes):\n",
        "        super(BERT_Arch, self).__init__()\n",
        "        self.bert = bert\n",
        "\n",
        "        # dropout layer\n",
        "        self.dropout = nn.Dropout(0.1)\n",
        "\n",
        "        # relu activation function\n",
        "        self.relu =  nn.ReLU()\n",
        "\n",
        "        # dense layer 1\n",
        "        self.fc1 = nn.Linear(768, 512)\n",
        "\n",
        "        # dense layer 2 (Output layer)\n",
        "        self.fc2 = nn.Linear(512, num_classes)\n",
        "\n",
        "        #softmax activation function\n",
        "        self.softmax = nn.LogSoftmax(dim=1)\n",
        "\n",
        "        #define the forward pass\n",
        "    def forward(self, sent_id, mask):\n",
        "\n",
        "        #pass the inputs to the model\n",
        "        _, cls_hs = self.bert(sent_id, attention_mask=mask, return_dict=False)\n",
        "\n",
        "        x = self.fc1(cls_hs)\n",
        "\n",
        "        x = self.relu(x)\n",
        "\n",
        "        x = self.dropout(x)\n",
        "\n",
        "        # output layer\n",
        "        x = self.fc2(x)\n",
        "\n",
        "        # apply softmax activation\n",
        "        x = self.softmax(x)\n",
        "        return x"
      ],
      "execution_count": null,
      "outputs": []
    },
    {
      "metadata": {
        "trusted": true,
        "id": "Lm02pGy6ZscK"
      },
      "cell_type": "code",
      "source": [
        "# pass the pre-trained BERT to our define architecture\n",
        "model = BERT_Arch(bert, 2)\n",
        "\n",
        "# push the model to GPU\n",
        "model = model.to(device)"
      ],
      "execution_count": null,
      "outputs": []
    },
    {
      "metadata": {
        "trusted": true,
        "id": "r6o4tHfKZscK"
      },
      "cell_type": "code",
      "source": [
        "# optimizer from hugging face transformers\n",
        "from transformers import AdamW\n",
        "\n",
        "# define the optimizer\n",
        "optimizer = AdamW(model.parameters(), lr = 1e-3)"
      ],
      "execution_count": null,
      "outputs": []
    },
    {
      "metadata": {
        "trusted": true,
        "id": "WMgjhIwmZscK",
        "colab": {
          "base_uri": "https://localhost:8080/"
        },
        "outputId": "2dcbeac1-1e86-412c-b7b8-146ca81bc892"
      },
      "cell_type": "code",
      "source": [
        "from sklearn.utils.class_weight import compute_class_weight\n",
        "\n",
        "#compute the class weights\n",
        "class_wts = compute_class_weight('balanced', classes=np.unique(train_labels), y=train_labels)\n",
        "\n",
        "print(class_wts)"
      ],
      "execution_count": null,
      "outputs": [
        {
          "output_type": "stream",
          "name": "stdout",
          "text": [
            "[0.89650216 1.1305136 ]\n"
          ]
        }
      ]
    },
    {
      "metadata": {
        "trusted": true,
        "id": "iHmtEjhUZscL"
      },
      "cell_type": "code",
      "source": [
        "# convert class weights to tensor\n",
        "weights= torch.tensor(class_wts,dtype=torch.float)\n",
        "weights = weights.to(device)\n",
        "\n",
        "# loss function\n",
        "cross_entropy  = nn.CrossEntropyLoss()\n",
        "\n",
        "# number of training epochs\n",
        "epochs = 7"
      ],
      "execution_count": null,
      "outputs": []
    },
    {
      "metadata": {
        "trusted": true,
        "id": "F7cf-cFrZscL"
      },
      "cell_type": "code",
      "source": [
        "# function to train the model\n",
        "def train():\n",
        "    model.train()\n",
        "\n",
        "    total_loss, total_accuracy = 0, 0\n",
        "\n",
        "    # empty list to save model predictions\n",
        "    total_preds=[]\n",
        "    total_labels =[]\n",
        "\n",
        "    # iterate over batches\n",
        "    for step,batch in enumerate(train_dataloader):\n",
        "\n",
        "        # progress update after every 50 batches.\n",
        "        if step % 100 == 0 and not step == 0:\n",
        "            print('  Batch {:>5,}  of  {:>5,}.'.format(step, len(train_dataloader)))\n",
        "\n",
        "        # push the batch to gpu\n",
        "        batch = [r.to(device) for r in batch]\n",
        "\n",
        "        sent_id, mask, labels = batch\n",
        "\n",
        "        # clear previously calculated gradients\n",
        "        model.zero_grad()\n",
        "\n",
        "        # get model predictions for the current batch\n",
        "        preds = model(sent_id, mask)\n",
        "\n",
        "        # compute the loss between actual and predicted values\n",
        "        loss = cross_entropy(preds, labels)\n",
        "\n",
        "        # add on to the total loss\n",
        "        total_loss = total_loss + loss.item()\n",
        "\n",
        "        # backward pass to calculate the gradients\n",
        "        loss.backward()\n",
        "\n",
        "        # clip the the gradients to 1.0. It helps in preventing the exploding gradient problem\n",
        "        torch.nn.utils.clip_grad_norm_(model.parameters(), 1.0)\n",
        "\n",
        "        # update parameters\n",
        "        optimizer.step()\n",
        "\n",
        "        # model predictions are stored on GPU. So, push it to CPU\n",
        "        preds = preds.detach().cpu().numpy()\n",
        "        preds = np.argmax(preds, axis=1)\n",
        "        # append the model predictions\n",
        "        total_preds+=list(preds)\n",
        "        total_labels+=labels.tolist()\n",
        "\n",
        "    # compute the training loss of the epoch\n",
        "    avg_loss = total_loss / len(train_dataloader)\n",
        "\n",
        "    # predictions are in the form of (no. of batches, size of batch, no. of classes).\n",
        "    # reshape the predictions in form of (number of samples, no. of classes)\n",
        "    #total_preds  = np.concatenate(total_preds, axis=0)\n",
        "    f1 = f1_score(total_labels, total_preds, average='weighted')\n",
        "    #returns the loss and predictions\n",
        "    return avg_loss, f1"
      ],
      "execution_count": null,
      "outputs": []
    },
    {
      "metadata": {
        "trusted": true,
        "id": "hpwv7x0gZscL"
      },
      "cell_type": "code",
      "source": [
        "# function for evaluating the model\n",
        "def evaluate():\n",
        "\n",
        "    print(\"\\nEvaluating...\")\n",
        "\n",
        "    # deactivate dropout layers\n",
        "    model.eval()\n",
        "\n",
        "    total_loss, total_accuracy = 0, 0\n",
        "\n",
        "    # empty list to save the model predictions\n",
        "    total_preds = []\n",
        "    total_labels = []\n",
        "    # iterate over batches\n",
        "    for step,batch in enumerate(val_dataloader):\n",
        "\n",
        "        # Progress update every 50 batches.\n",
        "        if step % 50 == 0 and not step == 0:\n",
        "\n",
        "          # Calculate elapsed time in minutes.\n",
        "          #elapsed = format_time(time.time() - t0)\n",
        "\n",
        "          # Report progress.\n",
        "          print('  Batch {:>5,}  of  {:>5,}.'.format(step, len(val_dataloader)))\n",
        "\n",
        "        # push the batch to gpu\n",
        "        batch = [t.to(device) for t in batch]\n",
        "\n",
        "        sent_id, mask, labels = batch\n",
        "\n",
        "        # deactivate autograd\n",
        "        with torch.no_grad():\n",
        "\n",
        "            # model predictions\n",
        "            preds = model(sent_id, mask)\n",
        "\n",
        "            # compute the validation loss between actual and predicted values\n",
        "            loss = cross_entropy(preds,labels)\n",
        "\n",
        "            total_loss = total_loss + loss.item()\n",
        "\n",
        "            preds = preds.detach().cpu().numpy()\n",
        "            preds = np.argmax(preds, axis=1)\n",
        "            total_preds+=list(preds)\n",
        "            total_labels+=labels.tolist()\n",
        "    # compute the validation loss of the epoch\n",
        "    avg_loss = total_loss / len(val_dataloader)\n",
        "\n",
        "    # reshape the predictions in form of (number of samples, no. of classes)\n",
        "    #total_preds  = np.concatenate(total_preds, axis=0)\n",
        "\n",
        "    f1 = f1_score(total_labels, total_preds, average='weighted')\n",
        "    return avg_loss, f1"
      ],
      "execution_count": null,
      "outputs": []
    },
    {
      "metadata": {
        "trusted": true,
        "id": "cUK72dHnZscL"
      },
      "cell_type": "code",
      "source": [
        "def save_checkpoint(filename, epoch, model, optimizer, label_map, id2label):\n",
        "    state = {\n",
        "        'epoch': epoch,\n",
        "        'model': model,\n",
        "        'optimizer': optimizer,\n",
        "        'label_map': label_map,\n",
        "        'id_map':id2label}\n",
        "    torch.save(state, filename)"
      ],
      "execution_count": null,
      "outputs": []
    },
    {
      "metadata": {
        "trusted": true,
        "id": "IYaQ0CKeZscM",
        "colab": {
          "base_uri": "https://localhost:8080/"
        },
        "outputId": "76a3485e-e2f2-477d-8202-a814dc051446"
      },
      "cell_type": "code",
      "source": [
        "# set initial loss to infinite\n",
        "best_train_loss = float('inf')\n",
        "best_val_loss = float('inf')\n",
        "\n",
        "# empty lists to store training and validation loss of each epoch\n",
        "train_losses=[]\n",
        "valid_losses=[]\n",
        "\n",
        "#for each epoch\n",
        "for epoch in range(epochs):\n",
        "\n",
        "    print('\\n Epoch {:} / {:}'.format(epoch + 1, epochs))\n",
        "\n",
        "    #train model\n",
        "    train_loss, f1_train = train()\n",
        "\n",
        "    #evaluate model\n",
        "    valid_loss, f1_valid = evaluate()\n",
        "\n",
        "    #save the best model\n",
        "    if train_loss < best_train_loss:\n",
        "        best_train_loss = train_loss\n",
        "        file_name = 'drive/MyDrive/BERT/model_weights_pos.pt'\n",
        "        save_checkpoint(file_name, epoch, model, optimizer, label_map, id2label)\n",
        "\n",
        "    if valid_loss < best_val_loss:\n",
        "        best_val_loss = valid_loss\n",
        "        file_name = 'drive/MyDrive/BERT/model_weights_pos_val.pt'\n",
        "        save_checkpoint(file_name, epoch, model, optimizer, label_map, id2label)\n",
        "\n",
        "    # append training and validation loss\n",
        "    train_losses.append(train_loss)\n",
        "    valid_losses.append(valid_loss)\n",
        "\n",
        "    print(f'\\nTraining Loss: {train_loss:.3f}')\n",
        "    print(f'Validation Loss: {valid_loss:.3f}')\n",
        "    print(f'\\nTraining F1: {f1_train:.3f}')\n",
        "    print(f'Validation F1: {f1_valid:.3f}')"
      ],
      "execution_count": null,
      "outputs": [
        {
          "output_type": "stream",
          "name": "stdout",
          "text": [
            "\n",
            " Epoch 1 / 7\n",
            "  Batch   100  of    468.\n",
            "  Batch   200  of    468.\n",
            "  Batch   300  of    468.\n",
            "  Batch   400  of    468.\n",
            "\n",
            "Evaluating...\n",
            "  Batch    50  of    153.\n",
            "  Batch   100  of    153.\n",
            "  Batch   150  of    153.\n",
            "\n",
            "Training Loss: 0.523\n",
            "Validation Loss: 0.788\n",
            "\n",
            "Training F1: 0.738\n",
            "Validation F1: 0.687\n",
            "\n",
            " Epoch 2 / 7\n",
            "  Batch   100  of    468.\n",
            "  Batch   200  of    468.\n",
            "  Batch   300  of    468.\n",
            "  Batch   400  of    468.\n",
            "\n",
            "Evaluating...\n",
            "  Batch    50  of    153.\n",
            "  Batch   100  of    153.\n",
            "  Batch   150  of    153.\n",
            "\n",
            "Training Loss: 0.460\n",
            "Validation Loss: 0.826\n",
            "\n",
            "Training F1: 0.784\n",
            "Validation F1: 0.661\n",
            "\n",
            " Epoch 3 / 7\n",
            "  Batch   100  of    468.\n",
            "  Batch   200  of    468.\n",
            "  Batch   300  of    468.\n",
            "  Batch   400  of    468.\n",
            "\n",
            "Evaluating...\n",
            "  Batch    50  of    153.\n",
            "  Batch   100  of    153.\n",
            "  Batch   150  of    153.\n",
            "\n",
            "Training Loss: 0.450\n",
            "Validation Loss: 0.809\n",
            "\n",
            "Training F1: 0.784\n",
            "Validation F1: 0.682\n",
            "\n",
            " Epoch 4 / 7\n",
            "  Batch   100  of    468.\n",
            "  Batch   200  of    468.\n",
            "  Batch   300  of    468.\n",
            "  Batch   400  of    468.\n",
            "\n",
            "Evaluating...\n",
            "  Batch    50  of    153.\n",
            "  Batch   100  of    153.\n",
            "  Batch   150  of    153.\n",
            "\n",
            "Training Loss: 0.419\n",
            "Validation Loss: 0.455\n",
            "\n",
            "Training F1: 0.807\n",
            "Validation F1: 0.844\n",
            "\n",
            " Epoch 5 / 7\n",
            "  Batch   100  of    468.\n",
            "  Batch   200  of    468.\n",
            "  Batch   300  of    468.\n",
            "  Batch   400  of    468.\n",
            "\n",
            "Evaluating...\n",
            "  Batch    50  of    153.\n",
            "  Batch   100  of    153.\n",
            "  Batch   150  of    153.\n",
            "\n",
            "Training Loss: 0.425\n",
            "Validation Loss: 0.514\n",
            "\n",
            "Training F1: 0.808\n",
            "Validation F1: 0.824\n",
            "\n",
            " Epoch 6 / 7\n",
            "  Batch   100  of    468.\n",
            "  Batch   200  of    468.\n",
            "  Batch   300  of    468.\n",
            "  Batch   400  of    468.\n",
            "\n",
            "Evaluating...\n",
            "  Batch    50  of    153.\n",
            "  Batch   100  of    153.\n",
            "  Batch   150  of    153.\n",
            "\n",
            "Training Loss: 0.413\n",
            "Validation Loss: 0.303\n",
            "\n",
            "Training F1: 0.807\n",
            "Validation F1: 0.898\n",
            "\n",
            " Epoch 7 / 7\n",
            "  Batch   100  of    468.\n",
            "  Batch   200  of    468.\n",
            "  Batch   300  of    468.\n",
            "  Batch   400  of    468.\n",
            "\n",
            "Evaluating...\n",
            "  Batch    50  of    153.\n",
            "  Batch   100  of    153.\n",
            "  Batch   150  of    153.\n",
            "\n",
            "Training Loss: 0.414\n",
            "Validation Loss: 0.587\n",
            "\n",
            "Training F1: 0.810\n",
            "Validation F1: 0.789\n"
          ]
        }
      ]
    },
    {
      "cell_type": "code",
      "source": [
        "path = 'drive/MyDrive/BERT/model_weights_pos_val.pt'\n",
        "\n",
        "checkpoint = torch.load(path, map_location=device)\n",
        "model_pos = checkpoint.get(\"model\")"
      ],
      "metadata": {
        "id": "Kg-c-nty3MjI"
      },
      "execution_count": null,
      "outputs": []
    },
    {
      "cell_type": "code",
      "source": [
        "# tokenize and encode sequences in the test set\n",
        "test_text = []\n",
        "\n",
        "with open(\"drive/MyDrive/val/Потрошитель.txt\", encoding=\"utf8\") as rf:\n",
        "    for sentence in split_text(rf.read().strip()):\n",
        "        if len(sentence) <= 5: continue\n",
        "        test_text.append(sentence.strip())\n",
        "\n",
        "test_text = np.array(test_text)\n",
        "\n",
        "tokens_test = tokenizer.batch_encode_plus(\n",
        "    test_text.tolist(),\n",
        "    max_length = 250,\n",
        "    pad_to_max_length=True,\n",
        "    truncation=True,\n",
        "    return_token_type_ids=False\n",
        ")\n",
        "\n",
        "# for test set\n",
        "test_seq = torch.tensor(tokens_test['input_ids'])\n",
        "test_mask = torch.tensor(tokens_test['attention_mask'])"
      ],
      "metadata": {
        "id": "QFdmOytP3Zlf"
      },
      "execution_count": null,
      "outputs": []
    },
    {
      "cell_type": "code",
      "source": [
        "idx = 0\n",
        "count_seq = 500\n",
        "need_br = False\n",
        "\n",
        "vectors_pos = [0] * 2\n",
        "\n",
        "count = 0\n",
        "\n",
        "while True:\n",
        "    count += 1\n",
        "    next_idx = idx + count_seq\n",
        "    if idx + count_seq >= len(test_seq) - 1:\n",
        "        next_idx = len(test_seq)\n",
        "        need_br = True\n",
        "    #print(idx, next_idx)\n",
        "    # get predictions for test data\n",
        "    logits_pos = None\n",
        "\n",
        "    with torch.no_grad():\n",
        "        logits_pos = model(test_seq[idx: next_idx].to(device), test_mask[idx: next_idx].to(device))\n",
        "\n",
        "    probs_pos = (torch.nn.functional.softmax(logits_pos, dim=1)).detach().cpu().numpy()\n",
        "    for posId, prob in enumerate(np.mean(probs_pos, axis=0).tolist()):\n",
        "      vectors_pos[posId] += prob\n",
        "\n",
        "    idx += count_seq\n",
        "    if need_br: break\n",
        "\n",
        "vectors_pos = np.array(vectors_pos) / count"
      ],
      "metadata": {
        "id": "5wCGZdeD3eoO"
      },
      "execution_count": null,
      "outputs": []
    },
    {
      "cell_type": "code",
      "source": [
        "print('positive: {}, negative - {}'.format(vectors_pos[0], vectors_pos[1]))"
      ],
      "metadata": {
        "colab": {
          "base_uri": "https://localhost:8080/"
        },
        "id": "MmBLxuUv3w4s",
        "outputId": "99534a3f-9669-4833-8fe4-1b4128f12925"
      },
      "execution_count": null,
      "outputs": [
        {
          "output_type": "stream",
          "name": "stdout",
          "text": [
            "positive: 0.3401610334714254, negative - 0.6598389426867167\n"
          ]
        }
      ]
    }
  ],
  "metadata": {
    "kernelspec": {
      "name": "python3",
      "display_name": "Python 3"
    },
    "language_info": {
      "name": "python",
      "version": "3.7.6",
      "mimetype": "text/x-python",
      "codemirror_mode": {
        "name": "ipython",
        "version": 3
      },
      "pygments_lexer": "ipython3",
      "nbconvert_exporter": "python",
      "file_extension": ".py"
    },
    "colab": {
      "provenance": [],
      "gpuType": "T4"
    },
    "accelerator": "GPU"
  },
  "nbformat": 4,
  "nbformat_minor": 0
}