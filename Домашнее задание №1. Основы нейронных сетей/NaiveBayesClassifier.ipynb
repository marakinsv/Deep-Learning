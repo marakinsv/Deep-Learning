{
  "nbformat": 4,
  "nbformat_minor": 0,
  "metadata": {
    "colab": {
      "provenance": [],
      "collapsed_sections": []
    },
    "kernelspec": {
      "name": "python3",
      "display_name": "Python 3"
    },
    "language_info": {
      "name": "python"
    }
  },
  "cells": [
    {
      "cell_type": "code",
      "source": [
        "import numpy as np\n",
        "from sklearn.datasets import load_digits\n",
        "import matplotlib.pyplot as plt\n",
        "from sklearn.naive_bayes import GaussianNB\n",
        "from sklearn.model_selection import train_test_split\n",
        "from sklearn.metrics import accuracy_score\n",
        "from scipy.stats import norm\n",
        "from scipy.stats import multivariate_normal as mvn\n",
        "from collections import defaultdict"
      ],
      "metadata": {
        "id": "E3DoaOtHxrSw"
      },
      "execution_count": 143,
      "outputs": []
    },
    {
      "cell_type": "code",
      "source": [
        "digits = load_digits()\n",
        "print(digits.data.shape)\n",
        "(1797, 64)\n",
        "plt.gray()\n",
        "plt.matshow(digits.images[1])\n",
        "plt.matshow(digits.images[2])\n",
        "plt.show()"
      ],
      "metadata": {
        "colab": {
          "base_uri": "https://localhost:8080/",
          "height": 568
        },
        "id": "mjYJTV_KxtyC",
        "outputId": "d351d4ed-3619-4549-a8c7-34458fdaedac"
      },
      "execution_count": 63,
      "outputs": [
        {
          "output_type": "stream",
          "name": "stdout",
          "text": [
            "(1797, 64)\n"
          ]
        },
        {
          "output_type": "display_data",
          "data": {
            "text/plain": [
              "<Figure size 432x288 with 0 Axes>"
            ]
          },
          "metadata": {}
        },
        {
          "output_type": "display_data",
          "data": {
            "text/plain": [
              "<Figure size 288x288 with 1 Axes>"
            ],
            "image/png": "[encoded data removed]"
          },
          "metadata": {
            "needs_background": "light"
          }
        },
        {
          "output_type": "display_data",
          "data": {
            "text/plain": [
              "<Figure size 288x288 with 1 Axes>"
            ],
            "image/png": "[encoded data removed]"
          },
          "metadata": {
            "needs_background": "light"
          }
        }
      ]
    },
    {
      "cell_type": "code",
      "source": [
        "X = digits.data\n",
        "y = digits.target\n",
        "X.shape"
      ],
      "metadata": {
        "colab": {
          "base_uri": "https://localhost:8080/"
        },
        "id": "pt8pwOzuygAV",
        "outputId": "6c61b55c-7262-4bbd-b673-4d639eb4063a"
      },
      "execution_count": 64,
      "outputs": [
        {
          "output_type": "execute_result",
          "data": {
            "text/plain": [
              "(1797, 64)"
            ]
          },
          "metadata": {},
          "execution_count": 64
        }
      ]
    },
    {
      "cell_type": "markdown",
      "source": [
        "**Берем из набора данных цифры 1 и 2.**"
      ],
      "metadata": {
        "id": "HTGTPYFH7Bn3"
      }
    },
    {
      "cell_type": "code",
      "source": [
        "X = X[(y == 1) | (y == 2)]\n",
        "y = y[(y == 1) | (y == 2)]\n",
        "\n",
        "print(X.shape, y.shape)\n",
        "np.unique(y)"
      ],
      "metadata": {
        "colab": {
          "base_uri": "https://localhost:8080/"
        },
        "id": "w6jL2Eqkzfxx",
        "outputId": "b3425c3d-9947-48e9-d864-e460fd28af54"
      },
      "execution_count": 65,
      "outputs": [
        {
          "output_type": "stream",
          "name": "stdout",
          "text": [
            "(359, 64) (359,)\n"
          ]
        },
        {
          "output_type": "execute_result",
          "data": {
            "text/plain": [
              "array([1, 2])"
            ]
          },
          "metadata": {},
          "execution_count": 65
        }
      ]
    },
    {
      "cell_type": "markdown",
      "source": [
        "**Гауссова наивная байесовская модель.**"
      ],
      "metadata": {
        "id": "WaHkbchE7JwZ"
      }
    },
    {
      "cell_type": "code",
      "source": [
        "X_train, X_test, y_train, y_test = train_test_split(X, y, test_size=0.3, random_state=0)\n",
        "\n",
        "gnb = GaussianNB()\n",
        "\n",
        "y_pred = gnb.fit(X_train, y_train).predict(X_test)\n",
        "\n",
        "print('Доля правильных ответов: ', accuracy_score(y_test, y_pred))"
      ],
      "metadata": {
        "colab": {
          "base_uri": "https://localhost:8080/"
        },
        "id": "wjDaRnrM4q52",
        "outputId": "049ee740-8e6d-4db6-a685-4082f5abb269"
      },
      "execution_count": 109,
      "outputs": [
        {
          "output_type": "stream",
          "name": "stdout",
          "text": [
            "Доля правильных ответов:  0.9444444444444444\n"
          ]
        }
      ]
    },
    {
      "cell_type": "markdown",
      "source": [
        "**Наивный байесовский классификатор.**"
      ],
      "metadata": {
        "id": "7P3fqKGVGPS9"
      }
    },
    {
      "cell_type": "code",
      "source": [
        "class NaiveBayes(object):\n",
        "    def fit(self, X, y, noise=0.001):\n",
        "        self.data = []\n",
        "\n",
        "        for label in np.unique(y):\n",
        "            Xc = X[y == label]\n",
        "\n",
        "            self.data.append( ( Xc.mean(axis=0), Xc.var(axis=0) + noise, float(Xc.shape[0]) / len(y) ) )\n",
        "\n",
        "    def predict(self, X):\n",
        "        P = np.zeros((X.shape[0], len(self.data)))\n",
        "\n",
        "        for idx, (mean, var, prior) in enumerate(self.data):\n",
        "            P[:, idx] = mvn.pdf(X, mean=mean, cov=var) + prior\n",
        "\n",
        "        return np.argmax(P, axis=1)"
      ],
      "metadata": {
        "id": "jXQ5TkIM7lhg"
      },
      "execution_count": 139,
      "outputs": []
    },
    {
      "cell_type": "code",
      "source": [
        "model = NaiveBayes()\n",
        "\n",
        "model.fit(X_train, y_train)\n",
        "\n",
        "y_pred = model.predict(X_test)\n",
        "\n",
        "print('Доля правильных ответов: ', accuracy_score(y_test, y_pred))"
      ],
      "metadata": {
        "colab": {
          "base_uri": "https://localhost:8080/"
        },
        "id": "vJ5Pri2wHO6x",
        "outputId": "0a1da598-188d-46b9-f572-5bbf638e15e0"
      },
      "execution_count": 140,
      "outputs": [
        {
          "output_type": "stream",
          "name": "stdout",
          "text": [
            "Доля правильных ответов:  0.5462962962962963\n"
          ]
        }
      ]
    }
  ]
}