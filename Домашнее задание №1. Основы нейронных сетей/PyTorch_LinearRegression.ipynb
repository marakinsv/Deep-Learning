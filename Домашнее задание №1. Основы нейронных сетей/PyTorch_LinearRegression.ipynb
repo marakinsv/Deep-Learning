{
  "nbformat": 4,
  "nbformat_minor": 0,
  "metadata": {
    "colab": {
      "provenance": [],
      "collapsed_sections": []
    },
    "kernelspec": {
      "name": "python3",
      "display_name": "Python 3"
    },
    "language_info": {
      "name": "python"
    }
  },
  "cells": [
    {
      "cell_type": "code",
      "execution_count": null,
      "metadata": {
        "id": "OVh05Y-ktzFm"
      },
      "outputs": [],
      "source": [
        "import torch\n",
        "from torch.utils.data import TensorDataset, DataLoader\n",
        "import numpy as np\n",
        "import pandas as pd\n",
        "from matplotlib import pyplot as plt\n",
        "from sklearn.preprocessing import MinMaxScaler\n",
        "from sklearn.model_selection import train_test_split"
      ]
    },
    {
      "cell_type": "code",
      "source": [
        "raw_df = pd.read_csv('housing.csv', header=None, names=[\"values\"])\n",
        "\n",
        "raw_df.head()"
      ],
      "metadata": {
        "colab": {
          "base_uri": "https://localhost:8080/",
          "height": 206
        },
        "id": "ICr5IWt0zc_U",
        "outputId": "05417293-f63f-4d4b-b45b-392acefdf8f1"
      },
      "execution_count": null,
      "outputs": [
        {
          "output_type": "execute_result",
          "data": {
            "text/plain": [
              "                                              values\n",
              "0   0.00632  18.00   2.310  0  0.5380  6.5750  65...\n",
              "1   0.02731   0.00   7.070  0  0.4690  6.4210  78...\n",
              "2   0.02729   0.00   7.070  0  0.4690  7.1850  61...\n",
              "3   0.03237   0.00   2.180  0  0.4580  6.9980  45...\n",
              "4   0.06905   0.00   2.180  0  0.4580  7.1470  54..."
            ],
            "text/html": [
              "\n",
              "  <div id=\"df-4123ab4a-f01b-4150-b9cb-9bf4bab07901\">\n",
              "    <div class=\"colab-df-container\">\n",
              "      <div>\n",
              "<style scoped>\n",
              "    .dataframe tbody tr th:only-of-type {\n",
              "        vertical-align: middle;\n",
              "    }\n",
              "\n",
              "    .dataframe tbody tr th {\n",
              "        vertical-align: top;\n",
              "    }\n",
              "\n",
              "    .dataframe thead th {\n",
              "        text-align: right;\n",
              "    }\n",
              "</style>\n",
              "<table border=\"1\" class=\"dataframe\">\n",
              "  <thead>\n",
              "    <tr style=\"text-align: right;\">\n",
              "      <th></th>\n",
              "      <th>values</th>\n",
              "    </tr>\n",
              "  </thead>\n",
              "  <tbody>\n",
              "    <tr>\n",
              "      <th>0</th>\n",
              "      <td>0.00632  18.00   2.310  0  0.5380  6.5750  65...</td>\n",
              "    </tr>\n",
              "    <tr>\n",
              "      <th>1</th>\n",
              "      <td>0.02731   0.00   7.070  0  0.4690  6.4210  78...</td>\n",
              "    </tr>\n",
              "    <tr>\n",
              "      <th>2</th>\n",
              "      <td>0.02729   0.00   7.070  0  0.4690  7.1850  61...</td>\n",
              "    </tr>\n",
              "    <tr>\n",
              "      <th>3</th>\n",
              "      <td>0.03237   0.00   2.180  0  0.4580  6.9980  45...</td>\n",
              "    </tr>\n",
              "    <tr>\n",
              "      <th>4</th>\n",
              "      <td>0.06905   0.00   2.180  0  0.4580  7.1470  54...</td>\n",
              "    </tr>\n",
              "  </tbody>\n",
              "</table>\n",
              "</div>\n",
              "      <button class=\"colab-df-convert\" onclick=\"convertToInteractive('df-4123ab4a-f01b-4150-b9cb-9bf4bab07901')\"\n",
              "              title=\"Convert this dataframe to an interactive table.\"\n",
              "              style=\"display:none;\">\n",
              "        \n",
              "  <svg xmlns=\"http://www.w3.org/2000/svg\" height=\"24px\"viewBox=\"0 0 24 24\"\n",
              "       width=\"24px\">\n",
              "    <path d=\"M0 0h24v24H0V0z\" fill=\"none\"/>\n",
              "    <path d=\"M18.56 5.44l.94 2.06.94-2.06 2.06-.94-2.06-.94-.94-2.06-.94 2.06-2.06.94zm-11 1L8.5 8.5l.94-2.06 2.06-.94-2.06-.94L8.5 2.5l-.94 2.06-2.06.94zm10 10l.94 2.06.94-2.06 2.06-.94-2.06-.94-.94-2.06-.94 2.06-2.06.94z\"/><path d=\"M17.41 7.96l-1.37-1.37c-.4-.4-.92-.59-1.43-.59-.52 0-1.04.2-1.43.59L10.3 9.45l-7.72 7.72c-.78.78-.78 2.05 0 2.83L4 21.41c.39.39.9.59 1.41.59.51 0 1.02-.2 1.41-.59l7.78-7.78 2.81-2.81c.8-.78.8-2.07 0-2.86zM5.41 20L4 18.59l7.72-7.72 1.47 1.35L5.41 20z\"/>\n",
              "  </svg>\n",
              "      </button>\n",
              "      \n",
              "  <style>\n",
              "    .colab-df-container {\n",
              "      display:flex;\n",
              "      flex-wrap:wrap;\n",
              "      gap: 12px;\n",
              "    }\n",
              "\n",
              "    .colab-df-convert {\n",
              "      background-color: #E8F0FE;\n",
              "      border: none;\n",
              "      border-radius: 50%;\n",
              "      cursor: pointer;\n",
              "      display: none;\n",
              "      fill: #1967D2;\n",
              "      height: 32px;\n",
              "      padding: 0 0 0 0;\n",
              "      width: 32px;\n",
              "    }\n",
              "\n",
              "    .colab-df-convert:hover {\n",
              "      background-color: #E2EBFA;\n",
              "      box-shadow: 0px 1px 2px rgba(60, 64, 67, 0.3), 0px 1px 3px 1px rgba(60, 64, 67, 0.15);\n",
              "      fill: #174EA6;\n",
              "    }\n",
              "\n",
              "    [theme=dark] .colab-df-convert {\n",
              "      background-color: #3B4455;\n",
              "      fill: #D2E3FC;\n",
              "    }\n",
              "\n",
              "    [theme=dark] .colab-df-convert:hover {\n",
              "      background-color: #434B5C;\n",
              "      box-shadow: 0px 1px 3px 1px rgba(0, 0, 0, 0.15);\n",
              "      filter: drop-shadow(0px 1px 2px rgba(0, 0, 0, 0.3));\n",
              "      fill: #FFFFFF;\n",
              "    }\n",
              "  </style>\n",
              "\n",
              "      <script>\n",
              "        const buttonEl =\n",
              "          document.querySelector('#df-4123ab4a-f01b-4150-b9cb-9bf4bab07901 button.colab-df-convert');\n",
              "        buttonEl.style.display =\n",
              "          google.colab.kernel.accessAllowed ? 'block' : 'none';\n",
              "\n",
              "        async function convertToInteractive(key) {\n",
              "          const element = document.querySelector('#df-4123ab4a-f01b-4150-b9cb-9bf4bab07901');\n",
              "          const dataTable =\n",
              "            await google.colab.kernel.invokeFunction('convertToInteractive',\n",
              "                                                     [key], {});\n",
              "          if (!dataTable) return;\n",
              "\n",
              "          const docLinkHtml = 'Like what you see? Visit the ' +\n",
              "            '<a target=\"_blank\" href=https://colab.research.google.com/notebooks/data_table.ipynb>data table notebook</a>'\n",
              "            + ' to learn more about interactive tables.';\n",
              "          element.innerHTML = '';\n",
              "          dataTable['output_type'] = 'display_data';\n",
              "          await google.colab.output.renderOutput(dataTable, element);\n",
              "          const docLink = document.createElement('div');\n",
              "          docLink.innerHTML = docLinkHtml;\n",
              "          element.appendChild(docLink);\n",
              "        }\n",
              "      </script>\n",
              "    </div>\n",
              "  </div>\n",
              "  "
            ]
          },
          "metadata": {},
          "execution_count": 4
        }
      ]
    },
    {
      "cell_type": "code",
      "source": [
        "def convertStr(s):\n",
        "  st = s.strip()\n",
        "  new_str = ''\n",
        "\n",
        "  for ch in st:\n",
        "    if ch == ' ':\n",
        "      if new_str[-1] != ' ' and new_str[-1] != ';': new_str += ';'\n",
        "    else:\n",
        "      new_str += ch\n",
        "  return new_str\n",
        "\n"
      ],
      "metadata": {
        "id": "iQ9VExPvGWJ0"
      },
      "execution_count": null,
      "outputs": []
    },
    {
      "cell_type": "code",
      "source": [
        "raw_df[\"values\"] = raw_df['values'].apply(convertStr)\n",
        "raw_df.head()"
      ],
      "metadata": {
        "colab": {
          "base_uri": "https://localhost:8080/",
          "height": 215
        },
        "id": "wpa9JzH9DG_J",
        "outputId": "96f12331-ca1f-43ee-c24f-36ed67381cfe"
      },
      "execution_count": null,
      "outputs": [
        {
          "output_type": "execute_result",
          "data": {
            "text/plain": [
              "                                              values\n",
              "0  0.00632;18.00;2.310;0;0.5380;6.5750;65.20;4.09...\n",
              "1  0.02731;0.00;7.070;0;0.4690;6.4210;78.90;4.967...\n",
              "2  0.02729;0.00;7.070;0;0.4690;7.1850;61.10;4.967...\n",
              "3  0.03237;0.00;2.180;0;0.4580;6.9980;45.80;6.062...\n",
              "4  0.06905;0.00;2.180;0;0.4580;7.1470;54.20;6.062..."
            ],
            "text/html": [
              "\n",
              "  <div id=\"df-57e057c7-6463-4b74-8108-e7e0733e7d17\">\n",
              "    <div class=\"colab-df-container\">\n",
              "      <div>\n",
              "<style scoped>\n",
              "    .dataframe tbody tr th:only-of-type {\n",
              "        vertical-align: middle;\n",
              "    }\n",
              "\n",
              "    .dataframe tbody tr th {\n",
              "        vertical-align: top;\n",
              "    }\n",
              "\n",
              "    .dataframe thead th {\n",
              "        text-align: right;\n",
              "    }\n",
              "</style>\n",
              "<table border=\"1\" class=\"dataframe\">\n",
              "  <thead>\n",
              "    <tr style=\"text-align: right;\">\n",
              "      <th></th>\n",
              "      <th>values</th>\n",
              "    </tr>\n",
              "  </thead>\n",
              "  <tbody>\n",
              "    <tr>\n",
              "      <th>0</th>\n",
              "      <td>0.00632;18.00;2.310;0;0.5380;6.5750;65.20;4.09...</td>\n",
              "    </tr>\n",
              "    <tr>\n",
              "      <th>1</th>\n",
              "      <td>0.02731;0.00;7.070;0;0.4690;6.4210;78.90;4.967...</td>\n",
              "    </tr>\n",
              "    <tr>\n",
              "      <th>2</th>\n",
              "      <td>0.02729;0.00;7.070;0;0.4690;7.1850;61.10;4.967...</td>\n",
              "    </tr>\n",
              "    <tr>\n",
              "      <th>3</th>\n",
              "      <td>0.03237;0.00;2.180;0;0.4580;6.9980;45.80;6.062...</td>\n",
              "    </tr>\n",
              "    <tr>\n",
              "      <th>4</th>\n",
              "      <td>0.06905;0.00;2.180;0;0.4580;7.1470;54.20;6.062...</td>\n",
              "    </tr>\n",
              "  </tbody>\n",
              "</table>\n",
              "</div>\n",
              "      <button class=\"colab-df-convert\" onclick=\"convertToInteractive('df-57e057c7-6463-4b74-8108-e7e0733e7d17')\"\n",
              "              title=\"Convert this dataframe to an interactive table.\"\n",
              "              style=\"display:none;\">\n",
              "        \n",
              "  <svg xmlns=\"http://www.w3.org/2000/svg\" height=\"24px\"viewBox=\"0 0 24 24\"\n",
              "       width=\"24px\">\n",
              "    <path d=\"M0 0h24v24H0V0z\" fill=\"none\"/>\n",
              "    <path d=\"M18.56 5.44l.94 2.06.94-2.06 2.06-.94-2.06-.94-.94-2.06-.94 2.06-2.06.94zm-11 1L8.5 8.5l.94-2.06 2.06-.94-2.06-.94L8.5 2.5l-.94 2.06-2.06.94zm10 10l.94 2.06.94-2.06 2.06-.94-2.06-.94-.94-2.06-.94 2.06-2.06.94z\"/><path d=\"M17.41 7.96l-1.37-1.37c-.4-.4-.92-.59-1.43-.59-.52 0-1.04.2-1.43.59L10.3 9.45l-7.72 7.72c-.78.78-.78 2.05 0 2.83L4 21.41c.39.39.9.59 1.41.59.51 0 1.02-.2 1.41-.59l7.78-7.78 2.81-2.81c.8-.78.8-2.07 0-2.86zM5.41 20L4 18.59l7.72-7.72 1.47 1.35L5.41 20z\"/>\n",
              "  </svg>\n",
              "      </button>\n",
              "      \n",
              "  <style>\n",
              "    .colab-df-container {\n",
              "      display:flex;\n",
              "      flex-wrap:wrap;\n",
              "      gap: 12px;\n",
              "    }\n",
              "\n",
              "    .colab-df-convert {\n",
              "      background-color: #E8F0FE;\n",
              "      border: none;\n",
              "      border-radius: 50%;\n",
              "      cursor: pointer;\n",
              "      display: none;\n",
              "      fill: #1967D2;\n",
              "      height: 32px;\n",
              "      padding: 0 0 0 0;\n",
              "      width: 32px;\n",
              "    }\n",
              "\n",
              "    .colab-df-convert:hover {\n",
              "      background-color: #E2EBFA;\n",
              "      box-shadow: 0px 1px 2px rgba(60, 64, 67, 0.3), 0px 1px 3px 1px rgba(60, 64, 67, 0.15);\n",
              "      fill: #174EA6;\n",
              "    }\n",
              "\n",
              "    [theme=dark] .colab-df-convert {\n",
              "      background-color: #3B4455;\n",
              "      fill: #D2E3FC;\n",
              "    }\n",
              "\n",
              "    [theme=dark] .colab-df-convert:hover {\n",
              "      background-color: #434B5C;\n",
              "      box-shadow: 0px 1px 3px 1px rgba(0, 0, 0, 0.15);\n",
              "      filter: drop-shadow(0px 1px 2px rgba(0, 0, 0, 0.3));\n",
              "      fill: #FFFFFF;\n",
              "    }\n",
              "  </style>\n",
              "\n",
              "      <script>\n",
              "        const buttonEl =\n",
              "          document.querySelector('#df-57e057c7-6463-4b74-8108-e7e0733e7d17 button.colab-df-convert');\n",
              "        buttonEl.style.display =\n",
              "          google.colab.kernel.accessAllowed ? 'block' : 'none';\n",
              "\n",
              "        async function convertToInteractive(key) {\n",
              "          const element = document.querySelector('#df-57e057c7-6463-4b74-8108-e7e0733e7d17');\n",
              "          const dataTable =\n",
              "            await google.colab.kernel.invokeFunction('convertToInteractive',\n",
              "                                                     [key], {});\n",
              "          if (!dataTable) return;\n",
              "\n",
              "          const docLinkHtml = 'Like what you see? Visit the ' +\n",
              "            '<a target=\"_blank\" href=https://colab.research.google.com/notebooks/data_table.ipynb>data table notebook</a>'\n",
              "            + ' to learn more about interactive tables.';\n",
              "          element.innerHTML = '';\n",
              "          dataTable['output_type'] = 'display_data';\n",
              "          await google.colab.output.renderOutput(dataTable, element);\n",
              "          const docLink = document.createElement('div');\n",
              "          docLink.innerHTML = docLinkHtml;\n",
              "          element.appendChild(docLink);\n",
              "        }\n",
              "      </script>\n",
              "    </div>\n",
              "  </div>\n",
              "  "
            ]
          },
          "metadata": {},
          "execution_count": 7
        }
      ]
    },
    {
      "cell_type": "code",
      "source": [
        "df = raw_df['values'].str.split(';', expand=True)\n",
        "df.columns = ['CRIM', 'ZN', 'INDUS', 'CHAS', 'NOX', 'RM', 'AGE', 'DIS', 'RAD', 'TAX', 'PTRATIO', 'B', 'LSTAT', 'MEDV']\n",
        "df.head()"
      ],
      "metadata": {
        "colab": {
          "base_uri": "https://localhost:8080/",
          "height": 206
        },
        "id": "gQ2W1VbwBHkB",
        "outputId": "468fd2ca-dad3-42f4-a47d-b49af577296d"
      },
      "execution_count": null,
      "outputs": [
        {
          "output_type": "execute_result",
          "data": {
            "text/plain": [
              "      CRIM     ZN  INDUS CHAS     NOX      RM    AGE     DIS RAD    TAX  \\\n",
              "0  0.00632  18.00  2.310    0  0.5380  6.5750  65.20  4.0900   1  296.0   \n",
              "1  0.02731   0.00  7.070    0  0.4690  6.4210  78.90  4.9671   2  242.0   \n",
              "2  0.02729   0.00  7.070    0  0.4690  7.1850  61.10  4.9671   2  242.0   \n",
              "3  0.03237   0.00  2.180    0  0.4580  6.9980  45.80  6.0622   3  222.0   \n",
              "4  0.06905   0.00  2.180    0  0.4580  7.1470  54.20  6.0622   3  222.0   \n",
              "\n",
              "  PTRATIO       B LSTAT   MEDV  \n",
              "0   15.30  396.90  4.98  24.00  \n",
              "1   17.80  396.90  9.14  21.60  \n",
              "2   17.80  392.83  4.03  34.70  \n",
              "3   18.70  394.63  2.94  33.40  \n",
              "4   18.70  396.90  5.33  36.20  "
            ],
            "text/html": [
              "\n",
              "  <div id=\"df-d5bcb4c3-bed0-4f94-9452-c1ad4843fad4\">\n",
              "    <div class=\"colab-df-container\">\n",
              "      <div>\n",
              "<style scoped>\n",
              "    .dataframe tbody tr th:only-of-type {\n",
              "        vertical-align: middle;\n",
              "    }\n",
              "\n",
              "    .dataframe tbody tr th {\n",
              "        vertical-align: top;\n",
              "    }\n",
              "\n",
              "    .dataframe thead th {\n",
              "        text-align: right;\n",
              "    }\n",
              "</style>\n",
              "<table border=\"1\" class=\"dataframe\">\n",
              "  <thead>\n",
              "    <tr style=\"text-align: right;\">\n",
              "      <th></th>\n",
              "      <th>CRIM</th>\n",
              "      <th>ZN</th>\n",
              "      <th>INDUS</th>\n",
              "      <th>CHAS</th>\n",
              "      <th>NOX</th>\n",
              "      <th>RM</th>\n",
              "      <th>AGE</th>\n",
              "      <th>DIS</th>\n",
              "      <th>RAD</th>\n",
              "      <th>TAX</th>\n",
              "      <th>PTRATIO</th>\n",
              "      <th>B</th>\n",
              "      <th>LSTAT</th>\n",
              "      <th>MEDV</th>\n",
              "    </tr>\n",
              "  </thead>\n",
              "  <tbody>\n",
              "    <tr>\n",
              "      <th>0</th>\n",
              "      <td>0.00632</td>\n",
              "      <td>18.00</td>\n",
              "      <td>2.310</td>\n",
              "      <td>0</td>\n",
              "      <td>0.5380</td>\n",
              "      <td>6.5750</td>\n",
              "      <td>65.20</td>\n",
              "      <td>4.0900</td>\n",
              "      <td>1</td>\n",
              "      <td>296.0</td>\n",
              "      <td>15.30</td>\n",
              "      <td>396.90</td>\n",
              "      <td>4.98</td>\n",
              "      <td>24.00</td>\n",
              "    </tr>\n",
              "    <tr>\n",
              "      <th>1</th>\n",
              "      <td>0.02731</td>\n",
              "      <td>0.00</td>\n",
              "      <td>7.070</td>\n",
              "      <td>0</td>\n",
              "      <td>0.4690</td>\n",
              "      <td>6.4210</td>\n",
              "      <td>78.90</td>\n",
              "      <td>4.9671</td>\n",
              "      <td>2</td>\n",
              "      <td>242.0</td>\n",
              "      <td>17.80</td>\n",
              "      <td>396.90</td>\n",
              "      <td>9.14</td>\n",
              "      <td>21.60</td>\n",
              "    </tr>\n",
              "    <tr>\n",
              "      <th>2</th>\n",
              "      <td>0.02729</td>\n",
              "      <td>0.00</td>\n",
              "      <td>7.070</td>\n",
              "      <td>0</td>\n",
              "      <td>0.4690</td>\n",
              "      <td>7.1850</td>\n",
              "      <td>61.10</td>\n",
              "      <td>4.9671</td>\n",
              "      <td>2</td>\n",
              "      <td>242.0</td>\n",
              "      <td>17.80</td>\n",
              "      <td>392.83</td>\n",
              "      <td>4.03</td>\n",
              "      <td>34.70</td>\n",
              "    </tr>\n",
              "    <tr>\n",
              "      <th>3</th>\n",
              "      <td>0.03237</td>\n",
              "      <td>0.00</td>\n",
              "      <td>2.180</td>\n",
              "      <td>0</td>\n",
              "      <td>0.4580</td>\n",
              "      <td>6.9980</td>\n",
              "      <td>45.80</td>\n",
              "      <td>6.0622</td>\n",
              "      <td>3</td>\n",
              "      <td>222.0</td>\n",
              "      <td>18.70</td>\n",
              "      <td>394.63</td>\n",
              "      <td>2.94</td>\n",
              "      <td>33.40</td>\n",
              "    </tr>\n",
              "    <tr>\n",
              "      <th>4</th>\n",
              "      <td>0.06905</td>\n",
              "      <td>0.00</td>\n",
              "      <td>2.180</td>\n",
              "      <td>0</td>\n",
              "      <td>0.4580</td>\n",
              "      <td>7.1470</td>\n",
              "      <td>54.20</td>\n",
              "      <td>6.0622</td>\n",
              "      <td>3</td>\n",
              "      <td>222.0</td>\n",
              "      <td>18.70</td>\n",
              "      <td>396.90</td>\n",
              "      <td>5.33</td>\n",
              "      <td>36.20</td>\n",
              "    </tr>\n",
              "  </tbody>\n",
              "</table>\n",
              "</div>\n",
              "      <button class=\"colab-df-convert\" onclick=\"convertToInteractive('df-d5bcb4c3-bed0-4f94-9452-c1ad4843fad4')\"\n",
              "              title=\"Convert this dataframe to an interactive table.\"\n",
              "              style=\"display:none;\">\n",
              "        \n",
              "  <svg xmlns=\"http://www.w3.org/2000/svg\" height=\"24px\"viewBox=\"0 0 24 24\"\n",
              "       width=\"24px\">\n",
              "    <path d=\"M0 0h24v24H0V0z\" fill=\"none\"/>\n",
              "    <path d=\"M18.56 5.44l.94 2.06.94-2.06 2.06-.94-2.06-.94-.94-2.06-.94 2.06-2.06.94zm-11 1L8.5 8.5l.94-2.06 2.06-.94-2.06-.94L8.5 2.5l-.94 2.06-2.06.94zm10 10l.94 2.06.94-2.06 2.06-.94-2.06-.94-.94-2.06-.94 2.06-2.06.94z\"/><path d=\"M17.41 7.96l-1.37-1.37c-.4-.4-.92-.59-1.43-.59-.52 0-1.04.2-1.43.59L10.3 9.45l-7.72 7.72c-.78.78-.78 2.05 0 2.83L4 21.41c.39.39.9.59 1.41.59.51 0 1.02-.2 1.41-.59l7.78-7.78 2.81-2.81c.8-.78.8-2.07 0-2.86zM5.41 20L4 18.59l7.72-7.72 1.47 1.35L5.41 20z\"/>\n",
              "  </svg>\n",
              "      </button>\n",
              "      \n",
              "  <style>\n",
              "    .colab-df-container {\n",
              "      display:flex;\n",
              "      flex-wrap:wrap;\n",
              "      gap: 12px;\n",
              "    }\n",
              "\n",
              "    .colab-df-convert {\n",
              "      background-color: #E8F0FE;\n",
              "      border: none;\n",
              "      border-radius: 50%;\n",
              "      cursor: pointer;\n",
              "      display: none;\n",
              "      fill: #1967D2;\n",
              "      height: 32px;\n",
              "      padding: 0 0 0 0;\n",
              "      width: 32px;\n",
              "    }\n",
              "\n",
              "    .colab-df-convert:hover {\n",
              "      background-color: #E2EBFA;\n",
              "      box-shadow: 0px 1px 2px rgba(60, 64, 67, 0.3), 0px 1px 3px 1px rgba(60, 64, 67, 0.15);\n",
              "      fill: #174EA6;\n",
              "    }\n",
              "\n",
              "    [theme=dark] .colab-df-convert {\n",
              "      background-color: #3B4455;\n",
              "      fill: #D2E3FC;\n",
              "    }\n",
              "\n",
              "    [theme=dark] .colab-df-convert:hover {\n",
              "      background-color: #434B5C;\n",
              "      box-shadow: 0px 1px 3px 1px rgba(0, 0, 0, 0.15);\n",
              "      filter: drop-shadow(0px 1px 2px rgba(0, 0, 0, 0.3));\n",
              "      fill: #FFFFFF;\n",
              "    }\n",
              "  </style>\n",
              "\n",
              "      <script>\n",
              "        const buttonEl =\n",
              "          document.querySelector('#df-d5bcb4c3-bed0-4f94-9452-c1ad4843fad4 button.colab-df-convert');\n",
              "        buttonEl.style.display =\n",
              "          google.colab.kernel.accessAllowed ? 'block' : 'none';\n",
              "\n",
              "        async function convertToInteractive(key) {\n",
              "          const element = document.querySelector('#df-d5bcb4c3-bed0-4f94-9452-c1ad4843fad4');\n",
              "          const dataTable =\n",
              "            await google.colab.kernel.invokeFunction('convertToInteractive',\n",
              "                                                     [key], {});\n",
              "          if (!dataTable) return;\n",
              "\n",
              "          const docLinkHtml = 'Like what you see? Visit the ' +\n",
              "            '<a target=\"_blank\" href=https://colab.research.google.com/notebooks/data_table.ipynb>data table notebook</a>'\n",
              "            + ' to learn more about interactive tables.';\n",
              "          element.innerHTML = '';\n",
              "          dataTable['output_type'] = 'display_data';\n",
              "          await google.colab.output.renderOutput(dataTable, element);\n",
              "          const docLink = document.createElement('div');\n",
              "          docLink.innerHTML = docLinkHtml;\n",
              "          element.appendChild(docLink);\n",
              "        }\n",
              "      </script>\n",
              "    </div>\n",
              "  </div>\n",
              "  "
            ]
          },
          "metadata": {},
          "execution_count": 123
        }
      ]
    },
    {
      "cell_type": "code",
      "source": [
        "data = df.values.astype(np.float32)\n",
        "data"
      ],
      "metadata": {
        "colab": {
          "base_uri": "https://localhost:8080/"
        },
        "id": "tMTw77zJ9sDY",
        "outputId": "ee67a049-56be-4d3e-dfb7-c069d8391dd4"
      },
      "execution_count": null,
      "outputs": [
        {
          "output_type": "execute_result",
          "data": {
            "text/plain": [
              "array([[6.3200e-03, 1.8000e+01, 2.3100e+00, ..., 3.9690e+02, 4.9800e+00,\n",
              "        2.4000e+01],\n",
              "       [2.7310e-02, 0.0000e+00, 7.0700e+00, ..., 3.9690e+02, 9.1400e+00,\n",
              "        2.1600e+01],\n",
              "       [2.7290e-02, 0.0000e+00, 7.0700e+00, ..., 3.9283e+02, 4.0300e+00,\n",
              "        3.4700e+01],\n",
              "       ...,\n",
              "       [6.0760e-02, 0.0000e+00, 1.1930e+01, ..., 3.9690e+02, 5.6400e+00,\n",
              "        2.3900e+01],\n",
              "       [1.0959e-01, 0.0000e+00, 1.1930e+01, ..., 3.9345e+02, 6.4800e+00,\n",
              "        2.2000e+01],\n",
              "       [4.7410e-02, 0.0000e+00, 1.1930e+01, ..., 3.9690e+02, 7.8800e+00,\n",
              "        1.1900e+01]], dtype=float32)"
            ]
          },
          "metadata": {},
          "execution_count": 172
        }
      ]
    },
    {
      "cell_type": "code",
      "source": [
        "scaler = MinMaxScaler()\n",
        "data_scaled = scaler.fit_transform(data[:, :-1])"
      ],
      "metadata": {
        "id": "cXtXSxEn33VD"
      },
      "execution_count": null,
      "outputs": []
    },
    {
      "cell_type": "code",
      "source": [
        "features = torch.from_numpy(data_scaled)\n",
        "features"
      ],
      "metadata": {
        "colab": {
          "base_uri": "https://localhost:8080/"
        },
        "id": "ZU-9sjK0Kkrw",
        "outputId": "c4d6d81c-a7c9-4b4d-c81a-164dd13f289e"
      },
      "execution_count": null,
      "outputs": [
        {
          "output_type": "execute_result",
          "data": {
            "text/plain": [
              "tensor([[0.0000e+00, 1.8000e-01, 6.7815e-02,  ..., 2.8723e-01, 1.0000e+00,\n",
              "         8.9680e-02],\n",
              "        [2.3592e-04, 0.0000e+00, 2.4230e-01,  ..., 5.5319e-01, 1.0000e+00,\n",
              "         2.0447e-01],\n",
              "        [2.3570e-04, 0.0000e+00, 2.4230e-01,  ..., 5.5319e-01, 9.8974e-01,\n",
              "         6.3466e-02],\n",
              "        ...,\n",
              "        [6.1189e-04, 0.0000e+00, 4.2045e-01,  ..., 8.9362e-01, 1.0000e+00,\n",
              "         1.0789e-01],\n",
              "        [1.1607e-03, 0.0000e+00, 4.2045e-01,  ..., 8.9362e-01, 9.9130e-01,\n",
              "         1.3107e-01],\n",
              "        [4.6184e-04, 0.0000e+00, 4.2045e-01,  ..., 8.9362e-01, 1.0000e+00,\n",
              "         1.6970e-01]])"
            ]
          },
          "metadata": {},
          "execution_count": 218
        }
      ]
    },
    {
      "cell_type": "code",
      "source": [
        "num_inputs = features.shape[1]\n",
        "\n",
        "true_w = torch.randn(num_inputs)\n",
        "true_b = 0.0\n",
        "labels = torch.from_numpy(data[:, -1])"
      ],
      "metadata": {
        "id": "KPtiSZp1LgMI"
      },
      "execution_count": null,
      "outputs": []
    },
    {
      "cell_type": "code",
      "source": [
        "plt.figure(figsize=(12, 4))\n",
        "plt.subplot(131)\n",
        "plt.scatter(features[:, 0], labels, 1)\n",
        "plt.subplot(132)\n",
        "plt.scatter(features[:, 1], labels, 1)\n",
        "plt.show()"
      ],
      "metadata": {
        "colab": {
          "base_uri": "https://localhost:8080/",
          "height": 265
        },
        "id": "WZNbIodDph11",
        "outputId": "e6e61ab8-1b55-4e13-dd38-6ad8a7582446"
      },
      "execution_count": null,
      "outputs": [
        {
          "output_type": "display_data",
          "data": {
            "text/plain": [
              "<Figure size 864x288 with 2 Axes>"
            ],
            "image/png": "[encoded data removed]"
          },
          "metadata": {
            "needs_background": "light"
          }
        }
      ]
    },
    {
      "cell_type": "code",
      "source": [
        "batch_size = 10\n",
        "dataset = TensorDataset(features, labels)\n",
        "# Randomly reading mini-batches\n",
        "data_iter = DataLoader(dataset, batch_size, shuffle=True)"
      ],
      "metadata": {
        "id": "TFc_jNsWXue2"
      },
      "execution_count": null,
      "outputs": []
    },
    {
      "cell_type": "code",
      "source": [
        "model = torch.nn.Sequential(torch.nn.Linear(num_inputs, 1))\n",
        "\n",
        "model[0].weight.data = true_w.clone().detach().requires_grad_(True).reshape((1, num_inputs))\n",
        "model[0].bias.data = torch.tensor([true_b], requires_grad = True)\n",
        "\n",
        "loss = torch.nn.MSELoss(reduction='mean')\n",
        "\n",
        "trainer = torch.optim.SGD(model.parameters(), lr=0.01)"
      ],
      "metadata": {
        "id": "-cX1HzsqYX-S"
      },
      "execution_count": null,
      "outputs": []
    },
    {
      "cell_type": "code",
      "source": [
        "num_epochs = 200\n",
        "for epoch in range(1, num_epochs + 1):\n",
        "    for X, y in data_iter:\n",
        "        trainer.zero_grad()\n",
        "        l = loss(model(X).reshape(-1), y)\n",
        "        l.backward()\n",
        "        trainer.step()\n",
        "    l = loss(model(features).reshape(-1), labels)\n",
        "    if epoch < 5 or epoch % 5 == 0:\n",
        "      print('epoch %d, loss: %f' % (epoch, l.item()),'|\\tw', model[0].weight.data, '|\\tb', model[0].bias.data)"
      ],
      "metadata": {
        "colab": {
          "base_uri": "https://localhost:8080/"
        },
        "id": "IrHU8uX5Y2FE",
        "outputId": "d750d6de-d4dd-48d0-e923-11a8cabbb74e"
      },
      "execution_count": null,
      "outputs": [
        {
          "output_type": "stream",
          "name": "stdout",
          "text": [
            "epoch 1, loss: 93.407593 |\tw tensor([[1.8202, 2.2303, 2.2666, 1.6517, 0.9084, 3.0923, 2.8179, 1.3690, 1.0584,\n",
            "         0.6064, 3.0070, 7.7693, 0.1050]]) |\tb tensor([5.9778])\n",
            "epoch 2, loss: 73.378593 |\tw tensor([[ 1.5206,  3.0679,  1.5212,  1.9852,  0.3267,  4.4473,  2.4217,  2.0512,\n",
            "          0.0659, -0.3834,  2.4768,  9.0547, -0.8936]]) |\tb tensor([6.9989])\n",
            "epoch 3, loss: 62.931942 |\tw tensor([[ 1.2937,  3.6612,  0.8601,  2.2702, -0.1684,  5.4105,  1.9372,  2.3958,\n",
            "         -0.6381, -1.1750,  1.7911,  9.6271, -1.8328]]) |\tb tensor([7.4598])\n",
            "epoch 4, loss: 56.851040 |\tw tensor([[ 1.1345,  4.1169,  0.5378,  2.5383, -0.3556,  6.4626,  1.8962,  2.6637,\n",
            "         -0.9057, -1.5509,  1.4469, 10.3520, -2.5143]]) |\tb tensor([8.2285])\n",
            "epoch 5, loss: 52.402905 |\tw tensor([[ 0.9944,  4.4132,  0.1573,  2.7650, -0.5957,  7.1971,  1.6229,  2.7167,\n",
            "         -1.1576, -1.9600,  0.8786, 10.5363, -3.2476]]) |\tb tensor([8.4828])\n",
            "epoch 10, loss: 42.734161 |\tw tensor([[ 0.5972,  5.0674, -0.6233,  3.5770, -0.8710, 10.1387,  1.3027,  2.2366,\n",
            "         -0.8878, -2.5774, -1.1643, 10.5827, -5.9324]]) |\tb tensor([9.5178])\n",
            "epoch 15, loss: 37.437710 |\tw tensor([[ 0.3532,  5.1906, -0.7885,  4.0400, -0.7497, 12.4937,  1.4840,  1.4227,\n",
            "         -0.0385, -2.5665, -2.5535, 10.3045, -7.8835]]) |\tb tensor([10.4145])\n",
            "epoch 20, loss: 33.671532 |\tw tensor([[ 0.1327,  5.0852, -0.9493,  4.2230, -0.7667, 14.2717,  1.4990,  0.5413,\n",
            "          0.6435, -2.6384, -3.7241,  9.6900, -9.5507]]) |\tb tensor([10.9006])\n",
            "epoch 25, loss: 31.236795 |\tw tensor([[ -0.0988,   4.9533,  -1.0436,   4.2912,  -0.8424,  15.7866,   1.5092,\n",
            "          -0.2308,   1.1409,  -2.7600,  -4.6261,   9.2088, -10.9554]]) |\tb tensor([11.4018])\n",
            "epoch 30, loss: 29.296431 |\tw tensor([[ -0.2971,   4.7459,  -0.9990,   4.2580,  -0.8731,  17.0984,   1.6241,\n",
            "          -0.9686,   1.6894,  -2.7682,  -5.2006,   8.8243, -12.0706]]) |\tb tensor([11.9670])\n",
            "epoch 35, loss: 28.064039 |\tw tensor([[ -0.4927,   4.5629,  -0.9345,   4.1925,  -0.9520,  18.2678,   1.7322,\n",
            "          -1.6103,   2.0884,  -2.8406,  -5.6485,   8.5561, -12.9999]]) |\tb tensor([12.5630])\n",
            "epoch 40, loss: 26.958822 |\tw tensor([[ -0.7023,   4.3555,  -0.9029,   4.0937,  -1.0979,  19.1675,   1.7262,\n",
            "          -2.2344,   2.3655,  -2.9766,  -6.0624,   8.1850, -13.8480]]) |\tb tensor([12.9686])\n",
            "epoch 45, loss: 26.164549 |\tw tensor([[ -0.9059,   4.1514,  -0.8642,   3.9717,  -1.2746,  19.8972,   1.6917,\n",
            "          -2.8118,   2.6293,  -3.1037,  -6.3789,   7.8351, -14.5421]]) |\tb tensor([13.3248])\n",
            "epoch 50, loss: 25.566357 |\tw tensor([[ -1.0904,   3.9942,  -0.8175,   3.8465,  -1.4580,  20.5830,   1.6801,\n",
            "          -3.3257,   2.8515,  -3.2286,  -6.6078,   7.5943, -15.1334]]) |\tb tensor([13.7278])\n",
            "epoch 55, loss: 25.149805 |\tw tensor([[ -1.2655,   3.8462,  -0.7780,   3.7221,  -1.6586,  21.1201,   1.6052,\n",
            "          -3.8277,   3.0295,  -3.3655,  -6.8447,   7.2814, -15.6425]]) |\tb tensor([14.0274])\n",
            "epoch 60, loss: 24.823683 |\tw tensor([[ -1.4344,   3.7231,  -0.6523,   3.6266,  -1.8012,  21.6874,   1.6565,\n",
            "          -4.2265,   3.2447,  -3.4247,  -6.8918,   7.1988, -16.0234]]) |\tb tensor([14.5276])\n",
            "epoch 65, loss: 24.424911 |\tw tensor([[ -1.6178,   3.5873,  -0.6101,   3.5342,  -2.0116,  22.0488,   1.5633,\n",
            "          -4.6672,   3.3548,  -3.5820,  -7.0623,   6.9199, -16.3981]]) |\tb tensor([14.7814])\n",
            "epoch 70, loss: 24.261292 |\tw tensor([[ -1.7807,   3.4689,  -0.5574,   3.4226,  -2.2282,  22.3486,   1.4654,\n",
            "          -5.0907,   3.4938,  -3.7024,  -7.2005,   6.6552, -16.7126]]) |\tb tensor([15.0095])\n",
            "epoch 75, loss: 24.033928 |\tw tensor([[ -1.9324,   3.3914,  -0.4234,   3.3527,  -2.3534,  22.7260,   1.5187,\n",
            "          -5.4390,   3.6777,  -3.7457,  -7.1818,   6.6163, -16.9304]]) |\tb tensor([15.4531])\n",
            "epoch 80, loss: 23.806587 |\tw tensor([[ -2.0868,   3.3207,  -0.3770,   3.2926,  -2.5599,  22.9234,   1.4090,\n",
            "          -5.8162,   3.7639,  -3.8685,  -7.3222,   6.3784, -17.1678]]) |\tb tensor([15.6413])\n",
            "epoch 85, loss: 23.676123 |\tw tensor([[ -2.2244,   3.2890,  -0.2889,   3.2405,  -2.7267,  23.1713,   1.3954,\n",
            "          -6.1180,   3.8874,  -3.9427,  -7.3490,   6.2967, -17.3158]]) |\tb tensor([15.9958])\n",
            "epoch 90, loss: 23.797647 |\tw tensor([[ -2.3608,   3.2352,  -0.1692,   3.2227,  -2.8469,  23.3951,   1.4151,\n",
            "          -6.4333,   4.0573,  -3.9666,  -7.3339,   6.2365, -17.4469]]) |\tb tensor([16.3438])\n",
            "epoch 95, loss: 23.975576 |\tw tensor([[ -2.5197,   3.1975,  -0.0663,   3.2161,  -2.9949,  23.5686,   1.4103,\n",
            "          -6.7311,   4.1919,  -4.0019,  -7.3324,   6.1702, -17.5917]]) |\tb tensor([16.6432])\n",
            "epoch 100, loss: 23.315317 |\tw tensor([[ -2.6720,   3.1672,  -0.0832,   3.1563,  -3.2419,  23.5916,   1.2204,\n",
            "          -7.0539,   4.1806,  -4.1811,  -7.5047,   5.9257, -17.7678]]) |\tb tensor([16.6984])\n",
            "epoch 105, loss: 23.229990 |\tw tensor([[-2.8148e+00,  3.1438e+00, -2.1718e-02,  3.1324e+00, -3.4058e+00,\n",
            "          2.3679e+01,  1.1641e+00, -7.3384e+00,  4.2389e+00, -4.2692e+00,\n",
            "         -7.5597e+00,  5.8069e+00, -1.7882e+01]]) |\tb tensor([16.9082])\n",
            "epoch 110, loss: 23.190807 |\tw tensor([[ -2.9591,   3.1520,   0.0616,   3.0849,  -3.5448,  23.7974,   1.1632,\n",
            "          -7.5678,   4.3197,  -4.3178,  -7.5470,   5.7759, -17.9264]]) |\tb tensor([17.2172])\n",
            "epoch 115, loss: 23.130028 |\tw tensor([[ -3.0933,   3.1318,   0.0737,   3.0138,  -3.7420,  23.7944,   1.0378,\n",
            "          -7.8414,   4.3450,  -4.4418,  -7.6439,   5.5873, -18.0232]]) |\tb tensor([17.3160])\n",
            "epoch 120, loss: 23.019316 |\tw tensor([[ -3.2168,   3.1491,   0.1495,   2.9842,  -3.8794,  23.8906,   1.0498,\n",
            "          -8.0485,   4.4311,  -4.4863,  -7.6212,   5.6018, -18.0493]]) |\tb tensor([17.6125])\n",
            "epoch 125, loss: 22.984264 |\tw tensor([[ -3.3412,   3.1452,   0.1728,   2.9794,  -4.0411,  23.8898,   0.9636,\n",
            "          -8.3075,   4.4943,  -4.5665,  -7.6987,   5.4579, -18.1284]]) |\tb tensor([17.7396])\n",
            "epoch 130, loss: 22.921965 |\tw tensor([[ -3.4538,   3.1546,   0.2177,   2.9544,  -4.1786,  23.9316,   0.9324,\n",
            "          -8.5229,   4.5508,  -4.6308,  -7.7201,   5.3724, -18.1485]]) |\tb tensor([17.9516])\n",
            "epoch 135, loss: 22.849438 |\tw tensor([[ -3.5725,   3.1742,   0.2750,   2.9548,  -4.2954,  23.9591,   0.9150,\n",
            "          -8.7326,   4.6239,  -4.6803,  -7.7453,   5.3456, -18.1756]]) |\tb tensor([18.1665])\n",
            "epoch 140, loss: 22.891382 |\tw tensor([[ -3.6939,   3.2034,   0.3581,   2.9368,  -4.3889,  24.0022,   0.9361,\n",
            "          -8.9154,   4.7287,  -4.6792,  -7.7078,   5.3712, -18.1593]]) |\tb tensor([18.4401])\n",
            "epoch 145, loss: 23.045881 |\tw tensor([[ -3.8198,   3.1984,   0.2980,   2.9112,  -4.6029,  23.8910,   0.7419,\n",
            "          -9.1544,   4.6649,  -4.8553,  -7.8789,   5.1338, -18.2470]]) |\tb tensor([18.4091])\n",
            "epoch 150, loss: 22.721684 |\tw tensor([[ -3.9249,   3.2174,   0.3921,   2.9052,  -4.6684,  23.9407,   0.8071,\n",
            "          -9.3313,   4.7684,  -4.8553,  -7.8351,   5.1852, -18.2168]]) |\tb tensor([18.6936])\n",
            "epoch 155, loss: 22.737431 |\tw tensor([[ -4.0237,   3.2318,   0.4656,   2.8940,  -4.7466,  23.9671,   0.8442,\n",
            "          -9.4991,   4.8746,  -4.8586,  -7.7938,   5.1988, -18.1949]]) |\tb tensor([18.9476])\n",
            "epoch 160, loss: 22.642328 |\tw tensor([[ -4.1382,   3.2343,   0.4548,   2.8692,  -4.8922,  23.9072,   0.7519,\n",
            "          -9.6871,   4.8693,  -4.9632,  -7.8581,   5.0956, -18.2298]]) |\tb tensor([19.0366])\n",
            "epoch 165, loss: 22.618223 |\tw tensor([[ -4.2557,   3.2471,   0.4786,   2.8596,  -5.0080,  23.8707,   0.7117,\n",
            "          -9.8632,   4.9015,  -5.0229,  -7.8896,   5.0527, -18.2342]]) |\tb tensor([19.1771])\n",
            "epoch 170, loss: 22.577751 |\tw tensor([[ -4.3498,   3.2871,   0.5113,   2.8442,  -5.1123,  23.8341,   0.6767,\n",
            "         -10.0326,   4.9823,  -5.0441,  -7.9063,   5.0051, -18.2126]]) |\tb tensor([19.3418])\n",
            "epoch 175, loss: 22.540745 |\tw tensor([[ -4.4637,   3.3218,   0.5309,   2.8341,  -5.2137,  23.8211,   0.6306,\n",
            "         -10.1771,   5.0312,  -5.0922,  -7.9234,   4.9989, -18.2182]]) |\tb tensor([19.5188])\n",
            "epoch 180, loss: 22.540483 |\tw tensor([[ -4.5579,   3.3274,   0.5467,   2.8554,  -5.3134,  23.7585,   0.5946,\n",
            "         -10.3617,   5.0802,  -5.1429,  -7.9690,   4.9113, -18.2311]]) |\tb tensor([19.6211])\n",
            "epoch 185, loss: 22.574005 |\tw tensor([[ -4.6627,   3.3622,   0.5450,   2.8567,  -5.4311,  23.7231,   0.5433,\n",
            "         -10.5129,   5.0775,  -5.2226,  -8.0166,   4.8692, -18.2599]]) |\tb tensor([19.7430])\n",
            "epoch 190, loss: 22.466003 |\tw tensor([[ -4.7529,   3.3884,   0.6113,   2.8301,  -5.4801,  23.7221,   0.5964,\n",
            "         -10.6375,   5.1668,  -5.2157,  -7.9677,   4.9270, -18.2028]]) |\tb tensor([19.9932])\n",
            "epoch 195, loss: 22.446774 |\tw tensor([[ -4.8415,   3.4103,   0.6445,   2.8356,  -5.5629,  23.6965,   0.5828,\n",
            "         -10.7885,   5.2253,  -5.2300,  -7.9919,   4.8866, -18.2067]]) |\tb tensor([20.1295])\n",
            "epoch 200, loss: 22.585789 |\tw tensor([[ -4.9247,   3.4405,   0.7067,   2.8477,  -5.6147,  23.6834,   0.6145,\n",
            "         -10.9151,   5.3292,  -5.2083,  -7.9529,   4.9134, -18.1788]]) |\tb tensor([20.3224])\n"
          ]
        }
      ]
    },
    {
      "cell_type": "markdown",
      "source": [
        "**Проверка модели**"
      ],
      "metadata": {
        "id": "15dJLzTM9F6Y"
      }
    },
    {
      "cell_type": "code",
      "source": [
        "X_train, X_test, y_train, y_test = train_test_split(features, labels, test_size=0.25, random_state=42, shuffle=False)"
      ],
      "metadata": {
        "id": "_GL0M-cg85Yy"
      },
      "execution_count": null,
      "outputs": []
    },
    {
      "cell_type": "code",
      "source": [
        "pred = model(X_test).data.numpy()  # Предсказанные значения"
      ],
      "metadata": {
        "id": "xmR-jdy39LWi"
      },
      "execution_count": null,
      "outputs": []
    },
    {
      "cell_type": "code",
      "source": [
        "plt.clf()\n",
        "plt.plot(X_test[:, 7], y_test, 'go', label='True data', alpha=0.5)\n",
        "plt.plot(X_test[:, 7], pred, 'go', label='Predictions', color='red')\n",
        "plt.legend(loc='best')\n",
        "plt.show()"
      ],
      "metadata": {
        "colab": {
          "base_uri": "https://localhost:8080/",
          "height": 265
        },
        "id": "isvJrj13-nUL",
        "outputId": "4055dd50-3e00-4232-fdb8-b21222d874f5"
      },
      "execution_count": null,
      "outputs": [
        {
          "output_type": "display_data",
          "data": {
            "text/plain": [
              "<Figure size 432x288 with 1 Axes>"
            ],
            "image/png": "[encoded data removed]"
          },
          "metadata": {
            "needs_background": "light"
          }
        }
      ]
    }
  ]
}