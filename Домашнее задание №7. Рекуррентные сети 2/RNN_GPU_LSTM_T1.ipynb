{
  "nbformat": 4,
  "nbformat_minor": 0,
  "metadata": {
    "colab": {
      "provenance": []
    },
    "kernelspec": {
      "name": "python3",
      "display_name": "Python 3"
    },
    "language_info": {
      "name": "python"
    },
    "accelerator": "GPU",
    "gpuClass": "standard"
  },
  "cells": [
    {
      "cell_type": "code",
      "execution_count": 414,
      "metadata": {
        "id": "2HgFToyRiQJ9"
      },
      "outputs": [],
      "source": [
        "import pandas as pd\n",
        "import time\n",
        "import torch\n",
        "from torch import nn\n",
        "import re\n",
        "import numpy as np\n",
        "import tqdm"
      ]
    },
    {
      "cell_type": "markdown",
      "source": [
        "## Делаем массив с данными"
      ],
      "metadata": {
        "id": "wxdmrCvIzZT1"
      }
    },
    {
      "cell_type": "code",
      "source": [
        "X = np.random.randint(10, size=(500, 50))\n",
        "X[0, : 10], X[1, : 10], X[2, : 10]"
      ],
      "metadata": {
        "colab": {
          "base_uri": "https://localhost:8080/"
        },
        "id": "vmRw5K6IwykH",
        "outputId": "ddf43009-8352-4068-abd0-688afa3d1d14"
      },
      "execution_count": 415,
      "outputs": [
        {
          "output_type": "execute_result",
          "data": {
            "text/plain": [
              "(array([6, 2, 0, 8, 2, 7, 9, 8, 4, 2]),\n",
              " array([6, 8, 1, 7, 5, 7, 2, 2, 2, 3]),\n",
              " array([0, 5, 8, 0, 7, 3, 8, 0, 5, 4]))"
            ]
          },
          "metadata": {},
          "execution_count": 415
        }
      ]
    },
    {
      "cell_type": "code",
      "source": [
        "Y = X.copy()\n",
        "Y_ = Y[:, 1:]\n",
        "Y_ += (np.full((X.shape[1] - 1, X.shape[0]), X[:, 0])).T\n",
        "\n",
        "Y = np.where(Y >= 10, Y - 10, Y)\n",
        "\n",
        "Y[0, : 10], Y[1, : 10], Y[2, : 10]"
      ],
      "metadata": {
        "colab": {
          "base_uri": "https://localhost:8080/"
        },
        "id": "ofgTqKknw5pW",
        "outputId": "9150bb85-1f7e-4e7b-91b7-dd812b70c7d0"
      },
      "execution_count": 416,
      "outputs": [
        {
          "output_type": "execute_result",
          "data": {
            "text/plain": [
              "(array([6, 8, 6, 4, 8, 3, 5, 4, 0, 8]),\n",
              " array([6, 4, 7, 3, 1, 3, 8, 8, 8, 9]),\n",
              " array([0, 5, 8, 0, 7, 3, 8, 0, 5, 4]))"
            ]
          },
          "metadata": {},
          "execution_count": 416
        }
      ]
    },
    {
      "cell_type": "code",
      "source": [
        "X = torch.tensor(X)\n",
        "Y = torch.tensor(Y)#.astype(np.float32))"
      ],
      "metadata": {
        "id": "OGXyGmJ-5b2q"
      },
      "execution_count": 417,
      "outputs": []
    },
    {
      "cell_type": "code",
      "source": [
        "X, Y"
      ],
      "metadata": {
        "colab": {
          "base_uri": "https://localhost:8080/"
        },
        "id": "hWJQ9u0vz7Gs",
        "outputId": "1244e883-4226-4174-b2a2-1a388340bf09"
      },
      "execution_count": 418,
      "outputs": [
        {
          "output_type": "execute_result",
          "data": {
            "text/plain": [
              "(tensor([[6, 2, 0,  ..., 2, 4, 6],\n",
              "         [6, 8, 1,  ..., 5, 6, 3],\n",
              "         [0, 5, 8,  ..., 6, 7, 9],\n",
              "         ...,\n",
              "         [5, 4, 1,  ..., 8, 7, 3],\n",
              "         [4, 4, 9,  ..., 3, 1, 7],\n",
              "         [1, 7, 3,  ..., 7, 8, 7]]), tensor([[6, 8, 6,  ..., 8, 0, 2],\n",
              "         [6, 4, 7,  ..., 1, 2, 9],\n",
              "         [0, 5, 8,  ..., 6, 7, 9],\n",
              "         ...,\n",
              "         [5, 9, 6,  ..., 3, 2, 8],\n",
              "         [4, 8, 3,  ..., 7, 5, 1],\n",
              "         [1, 8, 4,  ..., 8, 9, 8]]))"
            ]
          },
          "metadata": {},
          "execution_count": 418
        }
      ]
    },
    {
      "cell_type": "code",
      "source": [
        "BATCH_SIZE=512\n",
        "dataset = torch.utils.data.TensorDataset(X, Y)\n",
        "data = torch.utils.data.DataLoader(dataset, BATCH_SIZE, shuffle=True)"
      ],
      "metadata": {
        "id": "-f8oj0yw7Svw"
      },
      "execution_count": 419,
      "outputs": []
    },
    {
      "cell_type": "markdown",
      "source": [
        "**Модель RNN.**"
      ],
      "metadata": {
        "id": "m9upKREW1ueL"
      }
    },
    {
      "cell_type": "code",
      "source": [
        "class Network(torch.nn.Module):\n",
        "    def __init__(self, rnnClass, dictionary_size, embedding_size, num_hiddens, num_classes):\n",
        "        super(Network, self).__init__()\n",
        "        self.embed = nn.Embedding(dictionary_size, embedding_size)\n",
        "        self.hidden = rnnClass(embedding_size, num_hiddens, batch_first=True)\n",
        "        self.linear = nn.Linear(num_hiddens, num_classes)\n",
        "        \n",
        "    def forward(self, sentences, state=None):\n",
        "        embed = self.embed(sentences)\n",
        "        o, s = self.hidden(embed)\n",
        "        out = self.linear(o)\n",
        "        return out"
      ],
      "metadata": {
        "id": "Zs1UzFkV1yPH"
      },
      "execution_count": 420,
      "outputs": []
    },
    {
      "cell_type": "code",
      "source": [
        "model = Network(nn.RNN, 10, 64, 128, 10)\n",
        "model = model.cuda()\n",
        "\n",
        "criterion = torch.nn.CrossEntropyLoss()\n",
        "optimizer = torch.optim.Adam(model.parameters(), lr=0.01)"
      ],
      "metadata": {
        "id": "AouuEMLV126h"
      },
      "execution_count": 421,
      "outputs": []
    },
    {
      "cell_type": "markdown",
      "source": [
        "**Обучаем модель.**"
      ],
      "metadata": {
        "id": "xUmF9qJDW8Hx"
      }
    },
    {
      "cell_type": "code",
      "source": [
        "for ep in range(200):\n",
        "    start = time.time()\n",
        "    train_loss = 0.\n",
        "    train_passed = 0\n",
        "\n",
        "    for i in range(int(len(X) / 20)):\n",
        "        X_batch = (X[i * 20:(i + 1) * 20]).cuda()\n",
        "        Y_batch = (Y[i * 20:(i + 1) * 20].flatten()).cuda()\n",
        "\n",
        "        optimizer.zero_grad()\n",
        "        answers = model(X_batch)\n",
        "        answers = answers.view(-1, 10)\n",
        "        loss = criterion(answers, Y_batch)\n",
        "        train_loss += loss.item()\n",
        "\n",
        "        loss.backward()\n",
        "        optimizer.step()\n",
        "        train_passed += 1 \n",
        "\n",
        "    if ep%5 == 0: \n",
        "        print(\"\\nEpoch {}. Time: {:.3f}, Train loss: {:.3f}\".format(ep, time.time() - start, train_loss / train_passed))\n",
        "    else:\n",
        "        print(f\"\\rEpoch {ep}, loss: {train_loss / train_passed:.3f}\", end='') "
      ],
      "metadata": {
        "colab": {
          "base_uri": "https://localhost:8080/"
        },
        "id": "oldygAR4DdkQ",
        "outputId": "e86fcc83-e085-43e6-9416-4bf3d6bb3ca9"
      },
      "execution_count": 422,
      "outputs": [
        {
          "output_type": "stream",
          "name": "stdout",
          "text": [
            "\n",
            "Epoch 0. Time: 0.062, Train loss: 2.355\n",
            "Epoch 4, loss: 1.950\n",
            "Epoch 5. Time: 0.058, Train loss: 1.825\n",
            "Epoch 9, loss: 1.690\n",
            "Epoch 10. Time: 0.058, Train loss: 1.681\n",
            "Epoch 14, loss: 1.675\n",
            "Epoch 15. Time: 0.056, Train loss: 1.664\n",
            "Epoch 19, loss: 1.460\n",
            "Epoch 20. Time: 0.060, Train loss: 1.365\n",
            "Epoch 24, loss: 1.304\n",
            "Epoch 25. Time: 0.060, Train loss: 1.543\n",
            "Epoch 29, loss: 1.205\n",
            "Epoch 30. Time: 0.058, Train loss: 1.209\n",
            "Epoch 34, loss: 1.099\n",
            "Epoch 35. Time: 0.061, Train loss: 1.088\n",
            "Epoch 39, loss: 1.153\n",
            "Epoch 40. Time: 0.058, Train loss: 1.160\n",
            "Epoch 44, loss: 0.902\n",
            "Epoch 45. Time: 0.059, Train loss: 0.955\n",
            "Epoch 49, loss: 0.867\n",
            "Epoch 50. Time: 0.057, Train loss: 0.858\n",
            "Epoch 54, loss: 0.879\n",
            "Epoch 55. Time: 0.061, Train loss: 0.866\n",
            "Epoch 59, loss: 0.881\n",
            "Epoch 60. Time: 0.059, Train loss: 0.853\n",
            "Epoch 64, loss: 0.670\n",
            "Epoch 65. Time: 0.057, Train loss: 0.820\n",
            "Epoch 69, loss: 0.650\n",
            "Epoch 70. Time: 0.058, Train loss: 1.175\n",
            "Epoch 74, loss: 0.813\n",
            "Epoch 75. Time: 0.068, Train loss: 0.818\n",
            "Epoch 79, loss: 1.075\n",
            "Epoch 80. Time: 0.058, Train loss: 0.857\n",
            "Epoch 84, loss: 0.808\n",
            "Epoch 85. Time: 0.059, Train loss: 0.815\n",
            "Epoch 89, loss: 0.881\n",
            "Epoch 90. Time: 0.058, Train loss: 0.824\n",
            "Epoch 94, loss: 0.773\n",
            "Epoch 95. Time: 0.060, Train loss: 0.764\n",
            "Epoch 99, loss: 0.751\n",
            "Epoch 100. Time: 0.057, Train loss: 0.747\n",
            "Epoch 104, loss: 0.743\n",
            "Epoch 105. Time: 0.058, Train loss: 0.738\n",
            "Epoch 109, loss: 0.733\n",
            "Epoch 110. Time: 0.150, Train loss: 0.735\n",
            "Epoch 114, loss: 0.734\n",
            "Epoch 115. Time: 0.060, Train loss: 0.732\n",
            "Epoch 119, loss: 0.728\n",
            "Epoch 120. Time: 0.120, Train loss: 0.729\n",
            "Epoch 124, loss: 0.729\n",
            "Epoch 125. Time: 0.060, Train loss: 0.750\n",
            "Epoch 129, loss: 0.755\n",
            "Epoch 130. Time: 0.064, Train loss: 0.771\n",
            "Epoch 134, loss: 0.734\n",
            "Epoch 135. Time: 0.059, Train loss: 0.754\n",
            "Epoch 139, loss: 0.740\n",
            "Epoch 140. Time: 0.060, Train loss: 0.745\n",
            "Epoch 144, loss: 0.848\n",
            "Epoch 145. Time: 0.060, Train loss: 0.898\n",
            "Epoch 149, loss: 0.719\n",
            "Epoch 150. Time: 0.058, Train loss: 0.788\n",
            "Epoch 154, loss: 0.928\n",
            "Epoch 155. Time: 0.064, Train loss: 1.244\n",
            "Epoch 159, loss: 0.920\n",
            "Epoch 160. Time: 0.060, Train loss: 0.904\n",
            "Epoch 164, loss: 1.293\n",
            "Epoch 165. Time: 0.058, Train loss: 1.144\n",
            "Epoch 169, loss: 0.970\n",
            "Epoch 170. Time: 0.058, Train loss: 0.958\n",
            "Epoch 174, loss: 0.933\n",
            "Epoch 175. Time: 0.056, Train loss: 0.932\n",
            "Epoch 179, loss: 1.097\n",
            "Epoch 180. Time: 0.061, Train loss: 1.084\n",
            "Epoch 184, loss: 0.994\n",
            "Epoch 185. Time: 0.059, Train loss: 0.996\n",
            "Epoch 189, loss: 0.972\n",
            "Epoch 190. Time: 0.059, Train loss: 1.249\n",
            "Epoch 194, loss: 1.275\n",
            "Epoch 195. Time: 0.060, Train loss: 1.247\n",
            "Epoch 199, loss: 1.216"
          ]
        }
      ]
    },
    {
      "cell_type": "markdown",
      "source": [
        "**Модель GRU.**"
      ],
      "metadata": {
        "id": "2ZHM38RTKLAN"
      }
    },
    {
      "cell_type": "code",
      "source": [
        "model = Network(nn.GRU, 10, 64, 128, 10)\n",
        "model = model.cuda()\n",
        "\n",
        "criterion = torch.nn.CrossEntropyLoss()\n",
        "optimizer = torch.optim.Adam(model.parameters(), lr=0.002)"
      ],
      "metadata": {
        "id": "XJgoJo5BU2iM"
      },
      "execution_count": 433,
      "outputs": []
    },
    {
      "cell_type": "code",
      "source": [
        "for ep in range(100):\n",
        "    start = time.time()\n",
        "    train_loss = 0.\n",
        "    train_passed = 0\n",
        "\n",
        "    for i in range(int(len(X) / 20)):\n",
        "        X_batch = (X[i * 20:(i + 1) * 20]).cuda()\n",
        "        Y_batch = (Y[i * 20:(i + 1) * 20].flatten()).cuda()\n",
        "\n",
        "        optimizer.zero_grad()\n",
        "        answers = model(X_batch)\n",
        "        answers = answers.view(-1, 10)\n",
        "        loss = criterion(answers, Y_batch)\n",
        "        train_loss += loss.item()\n",
        "\n",
        "        loss.backward()\n",
        "        optimizer.step()\n",
        "        train_passed += 1 \n",
        "\n",
        "    if ep%5 == 0: \n",
        "        print(\"\\nEpoch {}. Time: {:.3f}, Train loss: {:.3f}\".format(ep, time.time() - start, train_loss / train_passed))\n",
        "    else:\n",
        "        print(f\"\\rEpoch {ep}, loss: {train_loss / train_passed:.3f}\", end='') "
      ],
      "metadata": {
        "colab": {
          "base_uri": "https://localhost:8080/"
        },
        "id": "9-20J7G-U8Gk",
        "outputId": "30e4fc51-aca3-45d2-fa7e-fdeca7cc790a"
      },
      "execution_count": 434,
      "outputs": [
        {
          "output_type": "stream",
          "name": "stdout",
          "text": [
            "\n",
            "Epoch 0. Time: 0.073, Train loss: 2.308\n",
            "Epoch 4, loss: 2.275\n",
            "Epoch 5. Time: 0.064, Train loss: 2.242\n",
            "Epoch 9, loss: 1.383\n",
            "Epoch 10. Time: 0.064, Train loss: 0.845\n",
            "Epoch 14, loss: 0.080\n",
            "Epoch 15. Time: 0.068, Train loss: 0.057\n",
            "Epoch 19, loss: 0.024\n",
            "Epoch 20. Time: 0.064, Train loss: 0.020\n",
            "Epoch 24, loss: 0.013\n",
            "Epoch 25. Time: 0.060, Train loss: 0.012\n",
            "Epoch 29, loss: 0.008\n",
            "Epoch 30. Time: 0.062, Train loss: 0.008\n",
            "Epoch 34, loss: 0.006\n",
            "Epoch 35. Time: 0.061, Train loss: 0.006\n",
            "Epoch 39, loss: 0.004\n",
            "Epoch 40. Time: 0.065, Train loss: 0.004\n",
            "Epoch 44, loss: 0.004\n",
            "Epoch 45. Time: 0.060, Train loss: 0.003\n",
            "Epoch 49, loss: 0.003\n",
            "Epoch 50. Time: 0.063, Train loss: 0.003\n",
            "Epoch 54, loss: 0.002\n",
            "Epoch 55. Time: 0.059, Train loss: 0.002\n",
            "Epoch 59, loss: 0.002\n",
            "Epoch 60. Time: 0.068, Train loss: 0.002\n",
            "Epoch 64, loss: 0.002\n",
            "Epoch 65. Time: 0.067, Train loss: 0.002\n",
            "Epoch 69, loss: 0.001\n",
            "Epoch 70. Time: 0.060, Train loss: 0.001\n",
            "Epoch 74, loss: 0.001\n",
            "Epoch 75. Time: 0.059, Train loss: 0.001\n",
            "Epoch 79, loss: 0.001\n",
            "Epoch 80. Time: 0.064, Train loss: 0.001\n",
            "Epoch 84, loss: 0.001\n",
            "Epoch 85. Time: 0.060, Train loss: 0.001\n",
            "Epoch 89, loss: 0.001\n",
            "Epoch 90. Time: 0.059, Train loss: 0.001\n",
            "Epoch 94, loss: 0.001\n",
            "Epoch 95. Time: 0.061, Train loss: 0.001\n",
            "Epoch 99, loss: 0.001"
          ]
        }
      ]
    },
    {
      "cell_type": "markdown",
      "source": [
        "**Модель LSTM.**"
      ],
      "metadata": {
        "id": "Y8DixAclVmt1"
      }
    },
    {
      "cell_type": "code",
      "source": [
        "model = Network(nn.LSTM, 10, 64, 128, 10)\n",
        "model = model.cuda()\n",
        "\n",
        "criterion = torch.nn.CrossEntropyLoss()\n",
        "optimizer = torch.optim.Adam(model.parameters(), lr=0.002)"
      ],
      "metadata": {
        "id": "yZhxz1wKVrMR"
      },
      "execution_count": 436,
      "outputs": []
    },
    {
      "cell_type": "code",
      "source": [
        "for ep in range(100):\n",
        "    start = time.time()\n",
        "    train_loss = 0.\n",
        "    train_passed = 0\n",
        "\n",
        "    for i in range(int(len(X) / 20)):\n",
        "        X_batch = (X[i * 20:(i + 1) * 20]).cuda()\n",
        "        Y_batch = (Y[i * 20:(i + 1) * 20].flatten()).cuda()\n",
        "\n",
        "        optimizer.zero_grad()\n",
        "        answers = model(X_batch)\n",
        "        answers = answers.view(-1, 10)\n",
        "        loss = criterion(answers, Y_batch)\n",
        "        train_loss += loss.item()\n",
        "\n",
        "        loss.backward()\n",
        "        optimizer.step()\n",
        "        train_passed += 1 \n",
        "\n",
        "    if ep%5 == 0: \n",
        "        print(\"\\nEpoch {}. Time: {:.3f}, Train loss: {:.3f}\".format(ep, time.time() - start, train_loss / train_passed))\n",
        "    else:\n",
        "        print(f\"\\rEpoch {ep}, loss: {train_loss / train_passed:.3f}\", end='') "
      ],
      "metadata": {
        "colab": {
          "base_uri": "https://localhost:8080/"
        },
        "id": "XW3MszldVxHw",
        "outputId": "918bc1cf-04ce-4dce-9df7-a8a1e126f645"
      },
      "execution_count": 437,
      "outputs": [
        {
          "output_type": "stream",
          "name": "stdout",
          "text": [
            "\n",
            "Epoch 0. Time: 0.074, Train loss: 2.303\n",
            "Epoch 4, loss: 2.268\n",
            "Epoch 5. Time: 0.063, Train loss: 2.171\n",
            "Epoch 9, loss: 1.252\n",
            "Epoch 10. Time: 0.061, Train loss: 1.038\n",
            "Epoch 14, loss: 0.597\n",
            "Epoch 15. Time: 0.062, Train loss: 0.493\n",
            "Epoch 19, loss: 0.182\n",
            "Epoch 20. Time: 0.062, Train loss: 0.128\n",
            "Epoch 24, loss: 0.045\n",
            "Epoch 25. Time: 0.067, Train loss: 0.037\n",
            "Epoch 29, loss: 0.021\n",
            "Epoch 30. Time: 0.065, Train loss: 0.019\n",
            "Epoch 34, loss: 0.013\n",
            "Epoch 35. Time: 0.064, Train loss: 0.012\n",
            "Epoch 39, loss: 0.009\n",
            "Epoch 40. Time: 0.067, Train loss: 0.008\n",
            "Epoch 44, loss: 0.007\n",
            "Epoch 45. Time: 0.062, Train loss: 0.006\n",
            "Epoch 49, loss: 0.005\n",
            "Epoch 50. Time: 0.063, Train loss: 0.005\n",
            "Epoch 54, loss: 0.004\n",
            "Epoch 55. Time: 0.070, Train loss: 0.004\n",
            "Epoch 59, loss: 0.003\n",
            "Epoch 60. Time: 0.061, Train loss: 0.003\n",
            "Epoch 64, loss: 0.003\n",
            "Epoch 65. Time: 0.059, Train loss: 0.003\n",
            "Epoch 69, loss: 0.002\n",
            "Epoch 70. Time: 0.065, Train loss: 0.002\n",
            "Epoch 74, loss: 0.002\n",
            "Epoch 75. Time: 0.070, Train loss: 0.002\n",
            "Epoch 79, loss: 0.002\n",
            "Epoch 80. Time: 0.059, Train loss: 0.002\n",
            "Epoch 84, loss: 0.001\n",
            "Epoch 85. Time: 0.061, Train loss: 0.001\n",
            "Epoch 89, loss: 0.001\n",
            "Epoch 90. Time: 0.064, Train loss: 0.001\n",
            "Epoch 94, loss: 0.001\n",
            "Epoch 95. Time: 0.066, Train loss: 0.001\n",
            "Epoch 99, loss: 0.001"
          ]
        }
      ]
    },
    {
      "cell_type": "markdown",
      "source": [
        "**Проверка модели.**"
      ],
      "metadata": {
        "id": "Ttr9ye7HV7J_"
      }
    },
    {
      "cell_type": "code",
      "source": [
        "def predict_digits(x):\n",
        "    ret = []\n",
        "        \n",
        "    o = model(x.cuda())\n",
        "\n",
        "    for i in range(len(x)):\n",
        "        d = torch.argmax(o[i, :], keepdim=True).cpu().numpy()[0]\n",
        "\n",
        "        ret.append(d)\n",
        "        \n",
        "    return np.array(ret)"
      ],
      "metadata": {
        "id": "KlgMMk1AV-wV"
      },
      "execution_count": 476,
      "outputs": []
    },
    {
      "cell_type": "code",
      "source": [
        "predict_digits(X[7])"
      ],
      "metadata": {
        "colab": {
          "base_uri": "https://localhost:8080/"
        },
        "id": "HGfpd4WtWuE_",
        "outputId": "db77dc63-8d68-4242-a12b-652451220e51"
      },
      "execution_count": 477,
      "outputs": [
        {
          "output_type": "execute_result",
          "data": {
            "text/plain": [
              "array([1, 0, 8, 9, 6, 7, 8, 8, 1, 4, 2, 3, 1, 7, 6, 9, 2, 2, 6, 1, 4, 4,\n",
              "       5, 6, 1, 3, 9, 9, 1, 4, 1, 0, 3, 1, 3, 4, 2, 1, 4, 4, 7, 6, 0, 7,\n",
              "       6, 4, 5, 0, 1, 1])"
            ]
          },
          "metadata": {},
          "execution_count": 477
        }
      ]
    },
    {
      "cell_type": "code",
      "source": [
        "Y[7]"
      ],
      "metadata": {
        "colab": {
          "base_uri": "https://localhost:8080/"
        },
        "id": "RhrRKG5wZLOM",
        "outputId": "a1f23901-5722-4d10-caac-629c019d9307"
      },
      "execution_count": 478,
      "outputs": [
        {
          "output_type": "execute_result",
          "data": {
            "text/plain": [
              "tensor([1, 0, 8, 9, 6, 7, 8, 8, 1, 4, 2, 3, 1, 7, 6, 9, 2, 2, 6, 1, 4, 4, 5, 6,\n",
              "        1, 3, 9, 9, 1, 4, 1, 0, 3, 1, 3, 4, 2, 1, 4, 4, 7, 6, 0, 7, 6, 4, 5, 0,\n",
              "        1, 1])"
            ]
          },
          "metadata": {},
          "execution_count": 478
        }
      ]
    },
    {
      "cell_type": "markdown",
      "source": [
        "**Видно, что модель LSTM отлично обучена.**"
      ],
      "metadata": {
        "id": "SQAI26D-ZXbH"
      }
    },
    {
      "cell_type": "markdown",
      "source": [
        "Выводы: Модель GPU и LST обучаются идеально, до нулевого loss, а модель RNN имеет среднее качество, самый низкий loss = 0.732.\n",
        "Для получения лучшего качества модели RNN требуется увеличить обучающую выборку."
      ],
      "metadata": {
        "id": "wwXtNb1haP7x"
      }
    }
  ]
}