{
  "cells": [
    {
      "cell_type": "markdown",
      "metadata": {
        "id": "7jFQN3VfRM-R"
      },
      "source": [
        "#### Определения"
      ]
    },
    {
      "cell_type": "code",
      "execution_count": null,
      "metadata": {
        "colab": {
          "base_uri": "https://localhost:8080/"
        },
        "id": "bO7MNBB5RM-U",
        "outputId": "29a97d1d-a600-437b-c006-6c0136dfab66"
      },
      "outputs": [
        {
          "output_type": "stream",
          "name": "stdout",
          "text": [
            "Looking in indexes: https://pypi.org/simple, https://us-python.pkg.dev/colab-wheels/public/simple/\n",
            "Requirement already satisfied: gensim in /usr/local/lib/python3.10/dist-packages (4.3.1)\n",
            "Requirement already satisfied: numpy>=1.18.5 in /usr/local/lib/python3.10/dist-packages (from gensim) (1.22.4)\n",
            "Requirement already satisfied: scipy>=1.7.0 in /usr/local/lib/python3.10/dist-packages (from gensim) (1.10.1)\n",
            "Requirement already satisfied: smart-open>=1.8.1 in /usr/local/lib/python3.10/dist-packages (from gensim) (6.3.0)\n",
            "Looking in indexes: https://pypi.org/simple, https://us-python.pkg.dev/colab-wheels/public/simple/\n",
            "Requirement already satisfied: compress-fasttext in /usr/local/lib/python3.10/dist-packages (0.1.3)\n",
            "Requirement already satisfied: gensim>=4.0.0 in /usr/local/lib/python3.10/dist-packages (from compress-fasttext) (4.3.1)\n",
            "Requirement already satisfied: numpy in /usr/local/lib/python3.10/dist-packages (from compress-fasttext) (1.22.4)\n",
            "Requirement already satisfied: scipy>=1.7.0 in /usr/local/lib/python3.10/dist-packages (from gensim>=4.0.0->compress-fasttext) (1.10.1)\n",
            "Requirement already satisfied: smart-open>=1.8.1 in /usr/local/lib/python3.10/dist-packages (from gensim>=4.0.0->compress-fasttext) (6.3.0)\n"
          ]
        }
      ],
      "source": [
        "!pip install gensim\n",
        "!pip install compress-fasttext"
      ]
    },
    {
      "cell_type": "code",
      "source": [
        "!pip install pymorphy2"
      ],
      "metadata": {
        "colab": {
          "base_uri": "https://localhost:8080/"
        },
        "id": "RI9D2shPmYqE",
        "outputId": "07baf90d-966b-4f6c-aa93-99a7cc473dca"
      },
      "execution_count": null,
      "outputs": [
        {
          "output_type": "stream",
          "name": "stdout",
          "text": [
            "Looking in indexes: https://pypi.org/simple, https://us-python.pkg.dev/colab-wheels/public/simple/\n",
            "Requirement already satisfied: pymorphy2 in /usr/local/lib/python3.10/dist-packages (0.9.1)\n",
            "Requirement already satisfied: dawg-python>=0.7.1 in /usr/local/lib/python3.10/dist-packages (from pymorphy2) (0.7.2)\n",
            "Requirement already satisfied: pymorphy2-dicts-ru<3.0,>=2.4 in /usr/local/lib/python3.10/dist-packages (from pymorphy2) (2.4.417127.4579844)\n",
            "Requirement already satisfied: docopt>=0.6 in /usr/local/lib/python3.10/dist-packages (from pymorphy2) (0.6.2)\n"
          ]
        }
      ]
    },
    {
      "cell_type": "code",
      "source": [
        "!pip install catboost"
      ],
      "metadata": {
        "colab": {
          "base_uri": "https://localhost:8080/"
        },
        "id": "ygH5WXFN8oW-",
        "outputId": "694d9a13-74ee-493b-b329-e39131a214d8"
      },
      "execution_count": null,
      "outputs": [
        {
          "output_type": "stream",
          "name": "stdout",
          "text": [
            "Looking in indexes: https://pypi.org/simple, https://us-python.pkg.dev/colab-wheels/public/simple/\n",
            "Requirement already satisfied: catboost in /usr/local/lib/python3.10/dist-packages (1.2)\n",
            "Requirement already satisfied: graphviz in /usr/local/lib/python3.10/dist-packages (from catboost) (0.20.1)\n",
            "Requirement already satisfied: matplotlib in /usr/local/lib/python3.10/dist-packages (from catboost) (3.7.1)\n",
            "Requirement already satisfied: numpy>=1.16.0 in /usr/local/lib/python3.10/dist-packages (from catboost) (1.22.4)\n",
            "Requirement already satisfied: pandas>=0.24 in /usr/local/lib/python3.10/dist-packages (from catboost) (1.5.3)\n",
            "Requirement already satisfied: scipy in /usr/local/lib/python3.10/dist-packages (from catboost) (1.10.1)\n",
            "Requirement already satisfied: plotly in /usr/local/lib/python3.10/dist-packages (from catboost) (5.13.1)\n",
            "Requirement already satisfied: six in /usr/local/lib/python3.10/dist-packages (from catboost) (1.16.0)\n",
            "Requirement already satisfied: python-dateutil>=2.8.1 in /usr/local/lib/python3.10/dist-packages (from pandas>=0.24->catboost) (2.8.2)\n",
            "Requirement already satisfied: pytz>=2020.1 in /usr/local/lib/python3.10/dist-packages (from pandas>=0.24->catboost) (2022.7.1)\n",
            "Requirement already satisfied: contourpy>=1.0.1 in /usr/local/lib/python3.10/dist-packages (from matplotlib->catboost) (1.0.7)\n",
            "Requirement already satisfied: cycler>=0.10 in /usr/local/lib/python3.10/dist-packages (from matplotlib->catboost) (0.11.0)\n",
            "Requirement already satisfied: fonttools>=4.22.0 in /usr/local/lib/python3.10/dist-packages (from matplotlib->catboost) (4.39.3)\n",
            "Requirement already satisfied: kiwisolver>=1.0.1 in /usr/local/lib/python3.10/dist-packages (from matplotlib->catboost) (1.4.4)\n",
            "Requirement already satisfied: packaging>=20.0 in /usr/local/lib/python3.10/dist-packages (from matplotlib->catboost) (23.1)\n",
            "Requirement already satisfied: pillow>=6.2.0 in /usr/local/lib/python3.10/dist-packages (from matplotlib->catboost) (8.4.0)\n",
            "Requirement already satisfied: pyparsing>=2.3.1 in /usr/local/lib/python3.10/dist-packages (from matplotlib->catboost) (3.0.9)\n",
            "Requirement already satisfied: tenacity>=6.2.0 in /usr/local/lib/python3.10/dist-packages (from plotly->catboost) (8.2.2)\n"
          ]
        }
      ]
    },
    {
      "cell_type": "code",
      "execution_count": null,
      "metadata": {
        "id": "jidEZF62RM-W"
      },
      "outputs": [],
      "source": [
        "from gensim import models\n",
        "import pandas as pd\n",
        "import numpy as np\n",
        "from collections import Counter, defaultdict\n",
        "\n",
        "import re\n",
        "import string # библиотека для работы со строками\n",
        "import nltk   # Natural Language Toolkit\n",
        "\n",
        "# загружаем библиотеку для лемматизации\n",
        "import pymorphy2 # Морфологический анализатор\n",
        "\n",
        "from sklearn.manifold import TSNE\n",
        "\n",
        "import matplotlib\n",
        "import matplotlib.pyplot as plt\n",
        "import matplotlib.cm as cm\n",
        "import seaborn as sns\n",
        "\n",
        "from bokeh.models import ColumnDataSource, LabelSet\n",
        "from bokeh.plotting import figure, show, output_file\n",
        "from bokeh.io import output_notebook\n",
        "output_notebook()\n",
        "\n",
        "from sklearn.feature_extraction.text import TfidfVectorizer\n",
        "from catboost import CatBoostClassifier\n",
        "\n",
        "from sklearn.model_selection import train_test_split"
      ]
    },
    {
      "cell_type": "code",
      "execution_count": null,
      "metadata": {
        "colab": {
          "base_uri": "https://localhost:8080/"
        },
        "id": "CG_EIMceRM-W",
        "outputId": "ecd999fe-eade-44fe-e06e-6039aa7b8741"
      },
      "outputs": [
        {
          "output_type": "stream",
          "name": "stdout",
          "text": [
            "1.0\n",
            "0.0\n",
            "-1.0\n"
          ]
        }
      ],
      "source": [
        "from numpy import dot\n",
        "from numpy.linalg import norm\n",
        "\n",
        "def cos_sim(x, y):\n",
        "    return dot(x, y) / (norm(x) * norm(y))\n",
        "\n",
        "print(cos_sim([1, 0, 0], (1, 0, 0)))\n",
        "print(cos_sim([1, 0, 0], (0, 1, 0)))\n",
        "print(cos_sim([1, 0, 0], (-1, 0, 0)))"
      ]
    },
    {
      "cell_type": "code",
      "source": [
        "from google.colab import drive\n",
        "drive.mount('/content/drive')"
      ],
      "metadata": {
        "colab": {
          "base_uri": "https://localhost:8080/"
        },
        "id": "RfV4TEAednhC",
        "outputId": "2b097477-ff7d-4c67-d4be-5331a0168cdc"
      },
      "execution_count": null,
      "outputs": [
        {
          "output_type": "stream",
          "name": "stdout",
          "text": [
            "Drive already mounted at /content/drive; to attempt to forcibly remount, call drive.mount(\"/content/drive\", force_remount=True).\n"
          ]
        }
      ]
    },
    {
      "cell_type": "code",
      "source": [
        "data = pd.read_csv(\"drive/MyDrive/Text-mining-with-Simpsons-Data-master/simpsons_script_lines.csv\", usecols = [\"raw_character_text\", \"normalized_text\"])"
      ],
      "metadata": {
        "id": "JY6IRIFadojO"
      },
      "execution_count": null,
      "outputs": []
    },
    {
      "cell_type": "code",
      "source": [
        "data.head()"
      ],
      "metadata": {
        "colab": {
          "base_uri": "https://localhost:8080/",
          "height": 206
        },
        "id": "IMHQcbaueWBO",
        "outputId": "cf4478e2-9402-4a59-b555-e9d9859f8659"
      },
      "execution_count": null,
      "outputs": [
        {
          "output_type": "execute_result",
          "data": {
            "text/plain": [
              "        raw_character_text                                    normalized_text\n",
              "0              Miss Hoover  no actually it was a little of both sometimes ...\n",
              "1             Lisa Simpson                                wheres mr bergstrom\n",
              "2              Miss Hoover  i dont know although id sure like to talk to h...\n",
              "3             Lisa Simpson                          that life is worth living\n",
              "4  Edna Krabappel-Flanders  the polls will be open from now until the end ..."
            ],
            "text/html": [
              "\n",
              "  <div id=\"df-eb288cbd-444b-4a62-aa69-3f8b0f3d1d9e\">\n",
              "    <div class=\"colab-df-container\">\n",
              "      <div>\n",
              "<style scoped>\n",
              "    .dataframe tbody tr th:only-of-type {\n",
              "        vertical-align: middle;\n",
              "    }\n",
              "\n",
              "    .dataframe tbody tr th {\n",
              "        vertical-align: top;\n",
              "    }\n",
              "\n",
              "    .dataframe thead th {\n",
              "        text-align: right;\n",
              "    }\n",
              "</style>\n",
              "<table border=\"1\" class=\"dataframe\">\n",
              "  <thead>\n",
              "    <tr style=\"text-align: right;\">\n",
              "      <th></th>\n",
              "      <th>raw_character_text</th>\n",
              "      <th>normalized_text</th>\n",
              "    </tr>\n",
              "  </thead>\n",
              "  <tbody>\n",
              "    <tr>\n",
              "      <th>0</th>\n",
              "      <td>Miss Hoover</td>\n",
              "      <td>no actually it was a little of both sometimes ...</td>\n",
              "    </tr>\n",
              "    <tr>\n",
              "      <th>1</th>\n",
              "      <td>Lisa Simpson</td>\n",
              "      <td>wheres mr bergstrom</td>\n",
              "    </tr>\n",
              "    <tr>\n",
              "      <th>2</th>\n",
              "      <td>Miss Hoover</td>\n",
              "      <td>i dont know although id sure like to talk to h...</td>\n",
              "    </tr>\n",
              "    <tr>\n",
              "      <th>3</th>\n",
              "      <td>Lisa Simpson</td>\n",
              "      <td>that life is worth living</td>\n",
              "    </tr>\n",
              "    <tr>\n",
              "      <th>4</th>\n",
              "      <td>Edna Krabappel-Flanders</td>\n",
              "      <td>the polls will be open from now until the end ...</td>\n",
              "    </tr>\n",
              "  </tbody>\n",
              "</table>\n",
              "</div>\n",
              "      <button class=\"colab-df-convert\" onclick=\"convertToInteractive('df-eb288cbd-444b-4a62-aa69-3f8b0f3d1d9e')\"\n",
              "              title=\"Convert this dataframe to an interactive table.\"\n",
              "              style=\"display:none;\">\n",
              "        \n",
              "  <svg xmlns=\"http://www.w3.org/2000/svg\" height=\"24px\"viewBox=\"0 0 24 24\"\n",
              "       width=\"24px\">\n",
              "    <path d=\"M0 0h24v24H0V0z\" fill=\"none\"/>\n",
              "    <path d=\"M18.56 5.44l.94 2.06.94-2.06 2.06-.94-2.06-.94-.94-2.06-.94 2.06-2.06.94zm-11 1L8.5 8.5l.94-2.06 2.06-.94-2.06-.94L8.5 2.5l-.94 2.06-2.06.94zm10 10l.94 2.06.94-2.06 2.06-.94-2.06-.94-.94-2.06-.94 2.06-2.06.94z\"/><path d=\"M17.41 7.96l-1.37-1.37c-.4-.4-.92-.59-1.43-.59-.52 0-1.04.2-1.43.59L10.3 9.45l-7.72 7.72c-.78.78-.78 2.05 0 2.83L4 21.41c.39.39.9.59 1.41.59.51 0 1.02-.2 1.41-.59l7.78-7.78 2.81-2.81c.8-.78.8-2.07 0-2.86zM5.41 20L4 18.59l7.72-7.72 1.47 1.35L5.41 20z\"/>\n",
              "  </svg>\n",
              "      </button>\n",
              "      \n",
              "  <style>\n",
              "    .colab-df-container {\n",
              "      display:flex;\n",
              "      flex-wrap:wrap;\n",
              "      gap: 12px;\n",
              "    }\n",
              "\n",
              "    .colab-df-convert {\n",
              "      background-color: #E8F0FE;\n",
              "      border: none;\n",
              "      border-radius: 50%;\n",
              "      cursor: pointer;\n",
              "      display: none;\n",
              "      fill: #1967D2;\n",
              "      height: 32px;\n",
              "      padding: 0 0 0 0;\n",
              "      width: 32px;\n",
              "    }\n",
              "\n",
              "    .colab-df-convert:hover {\n",
              "      background-color: #E2EBFA;\n",
              "      box-shadow: 0px 1px 2px rgba(60, 64, 67, 0.3), 0px 1px 3px 1px rgba(60, 64, 67, 0.15);\n",
              "      fill: #174EA6;\n",
              "    }\n",
              "\n",
              "    [theme=dark] .colab-df-convert {\n",
              "      background-color: #3B4455;\n",
              "      fill: #D2E3FC;\n",
              "    }\n",
              "\n",
              "    [theme=dark] .colab-df-convert:hover {\n",
              "      background-color: #434B5C;\n",
              "      box-shadow: 0px 1px 3px 1px rgba(0, 0, 0, 0.15);\n",
              "      filter: drop-shadow(0px 1px 2px rgba(0, 0, 0, 0.3));\n",
              "      fill: #FFFFFF;\n",
              "    }\n",
              "  </style>\n",
              "\n",
              "      <script>\n",
              "        const buttonEl =\n",
              "          document.querySelector('#df-eb288cbd-444b-4a62-aa69-3f8b0f3d1d9e button.colab-df-convert');\n",
              "        buttonEl.style.display =\n",
              "          google.colab.kernel.accessAllowed ? 'block' : 'none';\n",
              "\n",
              "        async function convertToInteractive(key) {\n",
              "          const element = document.querySelector('#df-eb288cbd-444b-4a62-aa69-3f8b0f3d1d9e');\n",
              "          const dataTable =\n",
              "            await google.colab.kernel.invokeFunction('convertToInteractive',\n",
              "                                                     [key], {});\n",
              "          if (!dataTable) return;\n",
              "\n",
              "          const docLinkHtml = 'Like what you see? Visit the ' +\n",
              "            '<a target=\"_blank\" href=https://colab.research.google.com/notebooks/data_table.ipynb>data table notebook</a>'\n",
              "            + ' to learn more about interactive tables.';\n",
              "          element.innerHTML = '';\n",
              "          dataTable['output_type'] = 'display_data';\n",
              "          await google.colab.output.renderOutput(dataTable, element);\n",
              "          const docLink = document.createElement('div');\n",
              "          docLink.innerHTML = docLinkHtml;\n",
              "          element.appendChild(docLink);\n",
              "        }\n",
              "      </script>\n",
              "    </div>\n",
              "  </div>\n",
              "  "
            ]
          },
          "metadata": {},
          "execution_count": 58
        }
      ]
    },
    {
      "cell_type": "code",
      "source": [
        "data.info()"
      ],
      "metadata": {
        "colab": {
          "base_uri": "https://localhost:8080/"
        },
        "id": "s03nVWmPqwG0",
        "outputId": "c490dca2-b900-4b5a-c19d-f09259ba864b"
      },
      "execution_count": null,
      "outputs": [
        {
          "output_type": "stream",
          "name": "stdout",
          "text": [
            "<class 'pandas.core.frame.DataFrame'>\n",
            "RangeIndex: 158271 entries, 0 to 158270\n",
            "Data columns (total 2 columns):\n",
            " #   Column              Non-Null Count   Dtype \n",
            "---  ------              --------------   ----- \n",
            " 0   raw_character_text  140749 non-null  object\n",
            " 1   normalized_text     132087 non-null  object\n",
            "dtypes: object(2)\n",
            "memory usage: 2.4+ MB\n"
          ]
        }
      ]
    },
    {
      "cell_type": "code",
      "source": [
        "data = data.dropna(how=\"any\", axis=0)"
      ],
      "metadata": {
        "id": "Y6UVtT-mq5MM"
      },
      "execution_count": null,
      "outputs": []
    },
    {
      "cell_type": "code",
      "source": [
        "data.rename(columns={\"raw_character_text\": \"person\", \"normalized_text\": \"text\"}, inplace=True)"
      ],
      "metadata": {
        "id": "VxMIcC6hlG_9"
      },
      "execution_count": null,
      "outputs": []
    },
    {
      "cell_type": "code",
      "source": [
        "data.head(1)"
      ],
      "metadata": {
        "colab": {
          "base_uri": "https://localhost:8080/",
          "height": 81
        },
        "id": "kmvC5HW9lc6O",
        "outputId": "61e2b444-4c9a-4aad-9a27-c330959406cf"
      },
      "execution_count": null,
      "outputs": [
        {
          "output_type": "execute_result",
          "data": {
            "text/plain": [
              "        person                                               text\n",
              "0  Miss Hoover  no actually it was a little of both sometimes ..."
            ],
            "text/html": [
              "\n",
              "  <div id=\"df-5ec983b7-5f05-42c5-a395-6ebdd713a6dc\">\n",
              "    <div class=\"colab-df-container\">\n",
              "      <div>\n",
              "<style scoped>\n",
              "    .dataframe tbody tr th:only-of-type {\n",
              "        vertical-align: middle;\n",
              "    }\n",
              "\n",
              "    .dataframe tbody tr th {\n",
              "        vertical-align: top;\n",
              "    }\n",
              "\n",
              "    .dataframe thead th {\n",
              "        text-align: right;\n",
              "    }\n",
              "</style>\n",
              "<table border=\"1\" class=\"dataframe\">\n",
              "  <thead>\n",
              "    <tr style=\"text-align: right;\">\n",
              "      <th></th>\n",
              "      <th>person</th>\n",
              "      <th>text</th>\n",
              "    </tr>\n",
              "  </thead>\n",
              "  <tbody>\n",
              "    <tr>\n",
              "      <th>0</th>\n",
              "      <td>Miss Hoover</td>\n",
              "      <td>no actually it was a little of both sometimes ...</td>\n",
              "    </tr>\n",
              "  </tbody>\n",
              "</table>\n",
              "</div>\n",
              "      <button class=\"colab-df-convert\" onclick=\"convertToInteractive('df-5ec983b7-5f05-42c5-a395-6ebdd713a6dc')\"\n",
              "              title=\"Convert this dataframe to an interactive table.\"\n",
              "              style=\"display:none;\">\n",
              "        \n",
              "  <svg xmlns=\"http://www.w3.org/2000/svg\" height=\"24px\"viewBox=\"0 0 24 24\"\n",
              "       width=\"24px\">\n",
              "    <path d=\"M0 0h24v24H0V0z\" fill=\"none\"/>\n",
              "    <path d=\"M18.56 5.44l.94 2.06.94-2.06 2.06-.94-2.06-.94-.94-2.06-.94 2.06-2.06.94zm-11 1L8.5 8.5l.94-2.06 2.06-.94-2.06-.94L8.5 2.5l-.94 2.06-2.06.94zm10 10l.94 2.06.94-2.06 2.06-.94-2.06-.94-.94-2.06-.94 2.06-2.06.94z\"/><path d=\"M17.41 7.96l-1.37-1.37c-.4-.4-.92-.59-1.43-.59-.52 0-1.04.2-1.43.59L10.3 9.45l-7.72 7.72c-.78.78-.78 2.05 0 2.83L4 21.41c.39.39.9.59 1.41.59.51 0 1.02-.2 1.41-.59l7.78-7.78 2.81-2.81c.8-.78.8-2.07 0-2.86zM5.41 20L4 18.59l7.72-7.72 1.47 1.35L5.41 20z\"/>\n",
              "  </svg>\n",
              "      </button>\n",
              "      \n",
              "  <style>\n",
              "    .colab-df-container {\n",
              "      display:flex;\n",
              "      flex-wrap:wrap;\n",
              "      gap: 12px;\n",
              "    }\n",
              "\n",
              "    .colab-df-convert {\n",
              "      background-color: #E8F0FE;\n",
              "      border: none;\n",
              "      border-radius: 50%;\n",
              "      cursor: pointer;\n",
              "      display: none;\n",
              "      fill: #1967D2;\n",
              "      height: 32px;\n",
              "      padding: 0 0 0 0;\n",
              "      width: 32px;\n",
              "    }\n",
              "\n",
              "    .colab-df-convert:hover {\n",
              "      background-color: #E2EBFA;\n",
              "      box-shadow: 0px 1px 2px rgba(60, 64, 67, 0.3), 0px 1px 3px 1px rgba(60, 64, 67, 0.15);\n",
              "      fill: #174EA6;\n",
              "    }\n",
              "\n",
              "    [theme=dark] .colab-df-convert {\n",
              "      background-color: #3B4455;\n",
              "      fill: #D2E3FC;\n",
              "    }\n",
              "\n",
              "    [theme=dark] .colab-df-convert:hover {\n",
              "      background-color: #434B5C;\n",
              "      box-shadow: 0px 1px 3px 1px rgba(0, 0, 0, 0.15);\n",
              "      filter: drop-shadow(0px 1px 2px rgba(0, 0, 0, 0.3));\n",
              "      fill: #FFFFFF;\n",
              "    }\n",
              "  </style>\n",
              "\n",
              "      <script>\n",
              "        const buttonEl =\n",
              "          document.querySelector('#df-5ec983b7-5f05-42c5-a395-6ebdd713a6dc button.colab-df-convert');\n",
              "        buttonEl.style.display =\n",
              "          google.colab.kernel.accessAllowed ? 'block' : 'none';\n",
              "\n",
              "        async function convertToInteractive(key) {\n",
              "          const element = document.querySelector('#df-5ec983b7-5f05-42c5-a395-6ebdd713a6dc');\n",
              "          const dataTable =\n",
              "            await google.colab.kernel.invokeFunction('convertToInteractive',\n",
              "                                                     [key], {});\n",
              "          if (!dataTable) return;\n",
              "\n",
              "          const docLinkHtml = 'Like what you see? Visit the ' +\n",
              "            '<a target=\"_blank\" href=https://colab.research.google.com/notebooks/data_table.ipynb>data table notebook</a>'\n",
              "            + ' to learn more about interactive tables.';\n",
              "          element.innerHTML = '';\n",
              "          dataTable['output_type'] = 'display_data';\n",
              "          await google.colab.output.renderOutput(dataTable, element);\n",
              "          const docLink = document.createElement('div');\n",
              "          docLink.innerHTML = docLinkHtml;\n",
              "          element.appendChild(docLink);\n",
              "        }\n",
              "      </script>\n",
              "    </div>\n",
              "  </div>\n",
              "  "
            ]
          },
          "metadata": {},
          "execution_count": 62
        }
      ]
    },
    {
      "cell_type": "code",
      "source": [
        "data.shape"
      ],
      "metadata": {
        "colab": {
          "base_uri": "https://localhost:8080/"
        },
        "id": "UaPFkJBxf8zF",
        "outputId": "dcbdf81f-3f59-4a27-ebce-38ab502cfd2a"
      },
      "execution_count": null,
      "outputs": [
        {
          "output_type": "execute_result",
          "data": {
            "text/plain": [
              "(132085, 2)"
            ]
          },
          "metadata": {},
          "execution_count": 63
        }
      ]
    },
    {
      "cell_type": "code",
      "source": [
        "persons = list(data[\"person\"].unique())\n",
        "persons[:10]"
      ],
      "metadata": {
        "colab": {
          "base_uri": "https://localhost:8080/"
        },
        "id": "FxKpUZcGiXGI",
        "outputId": "582ad618-d969-4388-97a4-e20dc8e135e4"
      },
      "execution_count": null,
      "outputs": [
        {
          "output_type": "execute_result",
          "data": {
            "text/plain": [
              "['Miss Hoover',\n",
              " 'Lisa Simpson',\n",
              " 'Edna Krabappel-Flanders',\n",
              " 'Martin Prince',\n",
              " 'Bart Simpson',\n",
              " 'Landlady',\n",
              " 'Nelson Muntz',\n",
              " 'Terri/sherri',\n",
              " 'Milhouse Van Houten',\n",
              " 'Wendell Borton']"
            ]
          },
          "metadata": {},
          "execution_count": 64
        }
      ]
    },
    {
      "cell_type": "code",
      "source": [
        "#data[\"person\"] = data[\"person\"].apply(lambda txt: persons.index(txt))\n",
        "#data.rename(columns={\"person\": \"personId\"}, inplace=True)\n"
      ],
      "metadata": {
        "id": "tg3umHNVE_N0"
      },
      "execution_count": null,
      "outputs": []
    },
    {
      "cell_type": "markdown",
      "source": [
        "**Предобработка данных.**"
      ],
      "metadata": {
        "id": "R0VTTOUvmihe"
      }
    },
    {
      "cell_type": "code",
      "source": [
        "# загружаем список стоп-слов\n",
        "nltk.download('stopwords')\n",
        "stop_words = nltk.corpus.stopwords.words('english')\n",
        "stop_words[:5]"
      ],
      "metadata": {
        "colab": {
          "base_uri": "https://localhost:8080/"
        },
        "id": "wSL92-DCkiyW",
        "outputId": "a7f170f8-2b3e-4470-b3f9-64fe98b3afde"
      },
      "execution_count": null,
      "outputs": [
        {
          "output_type": "stream",
          "name": "stderr",
          "text": [
            "[nltk_data] Downloading package stopwords to /root/nltk_data...\n",
            "[nltk_data]   Package stopwords is already up-to-date!\n"
          ]
        },
        {
          "output_type": "execute_result",
          "data": {
            "text/plain": [
              "['i', 'me', 'my', 'myself', 'we']"
            ]
          },
          "metadata": {},
          "execution_count": 66
        }
      ]
    },
    {
      "cell_type": "code",
      "source": [
        "word_tokenizer = nltk.WordPunctTokenizer()"
      ],
      "metadata": {
        "id": "Zs2n1CgYm5LV"
      },
      "execution_count": null,
      "outputs": []
    },
    {
      "cell_type": "code",
      "source": [
        "# инициализируем лемматизатор\n",
        "morph = pymorphy2.MorphAnalyzer()"
      ],
      "metadata": {
        "id": "W0f-WVSCm6I4"
      },
      "execution_count": null,
      "outputs": []
    },
    {
      "cell_type": "code",
      "source": [
        "# Токенизация\n",
        "data[\"text\"] = data[\"text\"].apply(lambda txt: word_tokenizer.tokenize(txt))\n",
        "\n",
        "# Удаление стоп-слов\n",
        "data[\"text\"] = data[\"text\"].apply(lambda tokens: [word.lower() for word in tokens if (word not in string.punctuation and word not in stop_words and word.isalpha())])\n",
        "\n",
        "# Лемматизация\n",
        "data[\"text\"] = data[\"text\"].apply(lambda txt: [morph.parse(word)[0].normal_form for word in txt])"
      ],
      "metadata": {
        "id": "WOMleX0ynIqQ"
      },
      "execution_count": null,
      "outputs": []
    },
    {
      "cell_type": "code",
      "source": [
        "data.head()"
      ],
      "metadata": {
        "colab": {
          "base_uri": "https://localhost:8080/",
          "height": 206
        },
        "id": "SKAHRn6urJH-",
        "outputId": "a301efd5-7cc7-4644-c643-862a1e7af508"
      },
      "execution_count": null,
      "outputs": [
        {
          "output_type": "execute_result",
          "data": {
            "text/plain": [
              "                    person                                               text\n",
              "0              Miss Hoover  [actually, little, sometimes, disease, magazin...\n",
              "1             Lisa Simpson                            [wheres, mr, bergstrom]\n",
              "2              Miss Hoover  [dont, know, although, id, sure, like, talk, d...\n",
              "3             Lisa Simpson                              [life, worth, living]\n",
              "4  Edna Krabappel-Flanders  [polls, open, end, recess, case, decided, put,..."
            ],
            "text/html": [
              "\n",
              "  <div id=\"df-7a0a45bb-5764-4489-9458-207c5af95937\">\n",
              "    <div class=\"colab-df-container\">\n",
              "      <div>\n",
              "<style scoped>\n",
              "    .dataframe tbody tr th:only-of-type {\n",
              "        vertical-align: middle;\n",
              "    }\n",
              "\n",
              "    .dataframe tbody tr th {\n",
              "        vertical-align: top;\n",
              "    }\n",
              "\n",
              "    .dataframe thead th {\n",
              "        text-align: right;\n",
              "    }\n",
              "</style>\n",
              "<table border=\"1\" class=\"dataframe\">\n",
              "  <thead>\n",
              "    <tr style=\"text-align: right;\">\n",
              "      <th></th>\n",
              "      <th>person</th>\n",
              "      <th>text</th>\n",
              "    </tr>\n",
              "  </thead>\n",
              "  <tbody>\n",
              "    <tr>\n",
              "      <th>0</th>\n",
              "      <td>Miss Hoover</td>\n",
              "      <td>[actually, little, sometimes, disease, magazin...</td>\n",
              "    </tr>\n",
              "    <tr>\n",
              "      <th>1</th>\n",
              "      <td>Lisa Simpson</td>\n",
              "      <td>[wheres, mr, bergstrom]</td>\n",
              "    </tr>\n",
              "    <tr>\n",
              "      <th>2</th>\n",
              "      <td>Miss Hoover</td>\n",
              "      <td>[dont, know, although, id, sure, like, talk, d...</td>\n",
              "    </tr>\n",
              "    <tr>\n",
              "      <th>3</th>\n",
              "      <td>Lisa Simpson</td>\n",
              "      <td>[life, worth, living]</td>\n",
              "    </tr>\n",
              "    <tr>\n",
              "      <th>4</th>\n",
              "      <td>Edna Krabappel-Flanders</td>\n",
              "      <td>[polls, open, end, recess, case, decided, put,...</td>\n",
              "    </tr>\n",
              "  </tbody>\n",
              "</table>\n",
              "</div>\n",
              "      <button class=\"colab-df-convert\" onclick=\"convertToInteractive('df-7a0a45bb-5764-4489-9458-207c5af95937')\"\n",
              "              title=\"Convert this dataframe to an interactive table.\"\n",
              "              style=\"display:none;\">\n",
              "        \n",
              "  <svg xmlns=\"http://www.w3.org/2000/svg\" height=\"24px\"viewBox=\"0 0 24 24\"\n",
              "       width=\"24px\">\n",
              "    <path d=\"M0 0h24v24H0V0z\" fill=\"none\"/>\n",
              "    <path d=\"M18.56 5.44l.94 2.06.94-2.06 2.06-.94-2.06-.94-.94-2.06-.94 2.06-2.06.94zm-11 1L8.5 8.5l.94-2.06 2.06-.94-2.06-.94L8.5 2.5l-.94 2.06-2.06.94zm10 10l.94 2.06.94-2.06 2.06-.94-2.06-.94-.94-2.06-.94 2.06-2.06.94z\"/><path d=\"M17.41 7.96l-1.37-1.37c-.4-.4-.92-.59-1.43-.59-.52 0-1.04.2-1.43.59L10.3 9.45l-7.72 7.72c-.78.78-.78 2.05 0 2.83L4 21.41c.39.39.9.59 1.41.59.51 0 1.02-.2 1.41-.59l7.78-7.78 2.81-2.81c.8-.78.8-2.07 0-2.86zM5.41 20L4 18.59l7.72-7.72 1.47 1.35L5.41 20z\"/>\n",
              "  </svg>\n",
              "      </button>\n",
              "      \n",
              "  <style>\n",
              "    .colab-df-container {\n",
              "      display:flex;\n",
              "      flex-wrap:wrap;\n",
              "      gap: 12px;\n",
              "    }\n",
              "\n",
              "    .colab-df-convert {\n",
              "      background-color: #E8F0FE;\n",
              "      border: none;\n",
              "      border-radius: 50%;\n",
              "      cursor: pointer;\n",
              "      display: none;\n",
              "      fill: #1967D2;\n",
              "      height: 32px;\n",
              "      padding: 0 0 0 0;\n",
              "      width: 32px;\n",
              "    }\n",
              "\n",
              "    .colab-df-convert:hover {\n",
              "      background-color: #E2EBFA;\n",
              "      box-shadow: 0px 1px 2px rgba(60, 64, 67, 0.3), 0px 1px 3px 1px rgba(60, 64, 67, 0.15);\n",
              "      fill: #174EA6;\n",
              "    }\n",
              "\n",
              "    [theme=dark] .colab-df-convert {\n",
              "      background-color: #3B4455;\n",
              "      fill: #D2E3FC;\n",
              "    }\n",
              "\n",
              "    [theme=dark] .colab-df-convert:hover {\n",
              "      background-color: #434B5C;\n",
              "      box-shadow: 0px 1px 3px 1px rgba(0, 0, 0, 0.15);\n",
              "      filter: drop-shadow(0px 1px 2px rgba(0, 0, 0, 0.3));\n",
              "      fill: #FFFFFF;\n",
              "    }\n",
              "  </style>\n",
              "\n",
              "      <script>\n",
              "        const buttonEl =\n",
              "          document.querySelector('#df-7a0a45bb-5764-4489-9458-207c5af95937 button.colab-df-convert');\n",
              "        buttonEl.style.display =\n",
              "          google.colab.kernel.accessAllowed ? 'block' : 'none';\n",
              "\n",
              "        async function convertToInteractive(key) {\n",
              "          const element = document.querySelector('#df-7a0a45bb-5764-4489-9458-207c5af95937');\n",
              "          const dataTable =\n",
              "            await google.colab.kernel.invokeFunction('convertToInteractive',\n",
              "                                                     [key], {});\n",
              "          if (!dataTable) return;\n",
              "\n",
              "          const docLinkHtml = 'Like what you see? Visit the ' +\n",
              "            '<a target=\"_blank\" href=https://colab.research.google.com/notebooks/data_table.ipynb>data table notebook</a>'\n",
              "            + ' to learn more about interactive tables.';\n",
              "          element.innerHTML = '';\n",
              "          dataTable['output_type'] = 'display_data';\n",
              "          await google.colab.output.renderOutput(dataTable, element);\n",
              "          const docLink = document.createElement('div');\n",
              "          docLink.innerHTML = docLinkHtml;\n",
              "          element.appendChild(docLink);\n",
              "        }\n",
              "      </script>\n",
              "    </div>\n",
              "  </div>\n",
              "  "
            ]
          },
          "metadata": {},
          "execution_count": 70
        }
      ]
    },
    {
      "cell_type": "markdown",
      "metadata": {
        "id": "IGCtDqfDRM-W"
      },
      "source": [
        "#### Обучим модель word2vec"
      ]
    },
    {
      "cell_type": "code",
      "execution_count": null,
      "metadata": {
        "colab": {
          "base_uri": "https://localhost:8080/"
        },
        "id": "-D_HbyrQRM-X",
        "outputId": "c336de80-9746-43f0-82b8-7ee5e70c7912"
      },
      "outputs": [
        {
          "output_type": "execute_result",
          "data": {
            "text/plain": [
              "(3190452, 3723840)"
            ]
          },
          "metadata": {},
          "execution_count": 71
        }
      ],
      "source": [
        "model = models.Word2Vec()\n",
        "model.build_vocab(data[\"text\"].values)\n",
        "model.train(data[\"text\"].values, total_examples=model.corpus_count, epochs=model.epochs)"
      ]
    },
    {
      "cell_type": "code",
      "execution_count": null,
      "metadata": {
        "colab": {
          "base_uri": "https://localhost:8080/"
        },
        "id": "t7EZaBi-RM-X",
        "outputId": "51bbf896-7ad9-424f-93bc-58cc5ff94248"
      },
      "outputs": [
        {
          "output_type": "stream",
          "name": "stdout",
          "text": [
            "0.472965\n",
            "0.7801208\n",
            "0.7263508\n",
            "0.75965214\n"
          ]
        }
      ],
      "source": [
        "try:\n",
        "    print(cos_sim(model.wv['good'], model.wv['like']))\n",
        "    print(cos_sim(model.wv['good'], model.wv['bad']))\n",
        "    print(cos_sim(model.wv['man'], model.wv['woman']))\n",
        "    print(cos_sim(model.wv['point'], model.wv['line']))\n",
        "except Exception as e:\n",
        "    print(e)"
      ]
    },
    {
      "cell_type": "markdown",
      "source": [
        "**Топ 30 слов.**"
      ],
      "metadata": {
        "id": "bOlo5P9w2LUF"
      }
    },
    {
      "cell_type": "code",
      "source": [
        "model.wv.index_to_key[:30]"
      ],
      "metadata": {
        "colab": {
          "base_uri": "https://localhost:8080/"
        },
        "id": "O5dEwZd90GL8",
        "outputId": "05a1b53a-3c47-4bd8-a5b7-41ccd7867491"
      },
      "execution_count": null,
      "outputs": [
        {
          "output_type": "execute_result",
          "data": {
            "text/plain": [
              "['im',\n",
              " 'oh',\n",
              " 'well',\n",
              " 'dont',\n",
              " 'like',\n",
              " 'get',\n",
              " 'youre',\n",
              " 'one',\n",
              " 'know',\n",
              " 'thats',\n",
              " 'hey',\n",
              " 'homer',\n",
              " 'right',\n",
              " 'go',\n",
              " 'got',\n",
              " 'bart',\n",
              " 'ill',\n",
              " 'uh',\n",
              " 'good',\n",
              " 'see',\n",
              " 'yeah',\n",
              " 'think',\n",
              " 'want',\n",
              " 'cant',\n",
              " 'look',\n",
              " 'man',\n",
              " 'marge',\n",
              " 'gonna',\n",
              " 'back',\n",
              " 'little']"
            ]
          },
          "metadata": {},
          "execution_count": 73
        }
      ]
    },
    {
      "cell_type": "code",
      "source": [
        "embedding = model.wv[model.wv.index_to_key[:1000]]\n",
        "embedding"
      ],
      "metadata": {
        "colab": {
          "base_uri": "https://localhost:8080/"
        },
        "id": "RmZLlx2k05Tv",
        "outputId": "ca1896ac-fd8e-47e7-fc0c-09e2bed3efa8"
      },
      "execution_count": null,
      "outputs": [
        {
          "output_type": "execute_result",
          "data": {
            "text/plain": [
              "array([[-1.0733597 ,  0.38026398,  0.7549571 , ..., -0.9507026 ,\n",
              "        -0.3013287 ,  0.6771909 ],\n",
              "       [-0.43573132,  0.5829406 ,  0.07036531, ..., -0.5516442 ,\n",
              "        -0.02049379,  0.24810845],\n",
              "       [-0.5151944 , -0.2074301 , -0.19551836, ...,  0.19684526,\n",
              "         0.5964999 ,  0.46189353],\n",
              "       ...,\n",
              "       [ 0.01749039, -0.04066623,  0.08196614, ..., -0.2777419 ,\n",
              "         0.0899467 , -0.05879227],\n",
              "       [-0.01466685,  0.0862652 , -0.11416172, ..., -0.15706713,\n",
              "         0.14429362, -0.15392867],\n",
              "       [-0.25587916,  0.29727313,  0.14887024, ..., -0.21414521,\n",
              "        -0.00478979,  0.15554586]], dtype=float32)"
            ]
          },
          "metadata": {},
          "execution_count": 74
        }
      ]
    },
    {
      "cell_type": "code",
      "source": [
        "tsne = TSNE(n_components=2, learning_rate='auto', init='random')\n",
        "embedding_new = tsne.fit_transform(embedding)\n",
        "\n",
        "p = figure(tools=\"pan,wheel_zoom,reset,save\",\n",
        "           toolbar_location=\"above\",\n",
        "           title=\"word2vec T-SNE for most common words\")\n",
        "\n",
        "source = ColumnDataSource(data=dict(x1=embedding_new[:,0],\n",
        "                                    x2=embedding_new[:,1],\n",
        "                                    names=model.wv.index_to_key[:1000]))\n",
        "\n",
        "p.scatter(x=\"x1\", y=\"x2\", size=8, source=source)\n",
        "\n",
        "labels = LabelSet(x=\"x1\", y=\"x2\", text=\"names\", y_offset=6,\n",
        "                  text_font_size=\"8pt\", text_color=\"#555555\",\n",
        "                  source=source, text_align='center')\n",
        "p.add_layout(labels)\n",
        "\n",
        "show(p)"
      ],
      "metadata": {
        "colab": {
          "base_uri": "https://localhost:8080/",
          "height": 617
        },
        "id": "mNkZk4HM4wnt",
        "outputId": "e808cc69-e120-401c-e10f-dddbd4da8df7"
      },
      "execution_count": null,
      "outputs": [
        {
          "output_type": "display_data",
          "data": {
            "application/javascript": [
              "(function(root) {\n",
              "  function now() {\n",
              "    return new Date();\n",
              "  }\n",
              "\n",
              "  const force = true;\n",
              "\n",
              "  if (typeof root._bokeh_onload_callbacks === \"undefined\" || force === true) {\n",
              "    root._bokeh_onload_callbacks = [];\n",
              "    root._bokeh_is_loading = undefined;\n",
              "  }\n",
              "\n",
              "const JS_MIME_TYPE = 'application/javascript';\n",
              "  const HTML_MIME_TYPE = 'text/html';\n",
              "  const EXEC_MIME_TYPE = 'application/vnd.bokehjs_exec.v0+json';\n",
              "  const CLASS_NAME = 'output_bokeh rendered_html';\n",
              "\n",
              "  /**\n",
              "   * Render data to the DOM node\n",
              "   */\n",
              "  function render(props, node) {\n",
              "    const script = document.createElement(\"script\");\n",
              "    node.appendChild(script);\n",
              "  }\n",
              "\n",
              "  /**\n",
              "   * Handle when an output is cleared or removed\n",
              "   */\n",
              "  function handleClearOutput(event, handle) {\n",
              "    const cell = handle.cell;\n",
              "\n",
              "    const id = cell.output_area._bokeh_element_id;\n",
              "    const server_id = cell.output_area._bokeh_server_id;\n",
              "    // Clean up Bokeh references\n",
              "    if (id != null && id in Bokeh.index) {\n",
              "      Bokeh.index[id].model.document.clear();\n",
              "      delete Bokeh.index[id];\n",
              "    }\n",
              "\n",
              "    if (server_id !== undefined) {\n",
              "      // Clean up Bokeh references\n",
              "      const cmd_clean = \"from bokeh.io.state import curstate; print(curstate().uuid_to_server['\" + server_id + \"'].get_sessions()[0].document.roots[0]._id)\";\n",
              "      cell.notebook.kernel.execute(cmd_clean, {\n",
              "        iopub: {\n",
              "          output: function(msg) {\n",
              "            const id = msg.content.text.trim();\n",
              "            if (id in Bokeh.index) {\n",
              "              Bokeh.index[id].model.document.clear();\n",
              "              delete Bokeh.index[id];\n",
              "            }\n",
              "          }\n",
              "        }\n",
              "      });\n",
              "      // Destroy server and session\n",
              "      const cmd_destroy = \"import bokeh.io.notebook as ion; ion.destroy_server('\" + server_id + \"')\";\n",
              "      cell.notebook.kernel.execute(cmd_destroy);\n",
              "    }\n",
              "  }\n",
              "\n",
              "  /**\n",
              "   * Handle when a new output is added\n",
              "   */\n",
              "  function handleAddOutput(event, handle) {\n",
              "    const output_area = handle.output_area;\n",
              "    const output = handle.output;\n",
              "\n",
              "    // limit handleAddOutput to display_data with EXEC_MIME_TYPE content only\n",
              "    if ((output.output_type != \"display_data\") || (!Object.prototype.hasOwnProperty.call(output.data, EXEC_MIME_TYPE))) {\n",
              "      return\n",
              "    }\n",
              "\n",
              "    const toinsert = output_area.element.find(\".\" + CLASS_NAME.split(' ')[0]);\n",
              "\n",
              "    if (output.metadata[EXEC_MIME_TYPE][\"id\"] !== undefined) {\n",
              "      toinsert[toinsert.length - 1].firstChild.textContent = output.data[JS_MIME_TYPE];\n",
              "      // store reference to embed id on output_area\n",
              "      output_area._bokeh_element_id = output.metadata[EXEC_MIME_TYPE][\"id\"];\n",
              "    }\n",
              "    if (output.metadata[EXEC_MIME_TYPE][\"server_id\"] !== undefined) {\n",
              "      const bk_div = document.createElement(\"div\");\n",
              "      bk_div.innerHTML = output.data[HTML_MIME_TYPE];\n",
              "      const script_attrs = bk_div.children[0].attributes;\n",
              "      for (let i = 0; i < script_attrs.length; i++) {\n",
              "        toinsert[toinsert.length - 1].firstChild.setAttribute(script_attrs[i].name, script_attrs[i].value);\n",
              "        toinsert[toinsert.length - 1].firstChild.textContent = bk_div.children[0].textContent\n",
              "      }\n",
              "      // store reference to server id on output_area\n",
              "      output_area._bokeh_server_id = output.metadata[EXEC_MIME_TYPE][\"server_id\"];\n",
              "    }\n",
              "  }\n",
              "\n",
              "  function register_renderer(events, OutputArea) {\n",
              "\n",
              "    function append_mime(data, metadata, element) {\n",
              "      // create a DOM node to render to\n",
              "      const toinsert = this.create_output_subarea(\n",
              "        metadata,\n",
              "        CLASS_NAME,\n",
              "        EXEC_MIME_TYPE\n",
              "      );\n",
              "      this.keyboard_manager.register_events(toinsert);\n",
              "      // Render to node\n",
              "      const props = {data: data, metadata: metadata[EXEC_MIME_TYPE]};\n",
              "      render(props, toinsert[toinsert.length - 1]);\n",
              "      element.append(toinsert);\n",
              "      return toinsert\n",
              "    }\n",
              "\n",
              "    /* Handle when an output is cleared or removed */\n",
              "    events.on('clear_output.CodeCell', handleClearOutput);\n",
              "    events.on('delete.Cell', handleClearOutput);\n",
              "\n",
              "    /* Handle when a new output is added */\n",
              "    events.on('output_added.OutputArea', handleAddOutput);\n",
              "\n",
              "    /**\n",
              "     * Register the mime type and append_mime function with output_area\n",
              "     */\n",
              "    OutputArea.prototype.register_mime_type(EXEC_MIME_TYPE, append_mime, {\n",
              "      /* Is output safe? */\n",
              "      safe: true,\n",
              "      /* Index of renderer in `output_area.display_order` */\n",
              "      index: 0\n",
              "    });\n",
              "  }\n",
              "\n",
              "  // register the mime type if in Jupyter Notebook environment and previously unregistered\n",
              "  if (root.Jupyter !== undefined) {\n",
              "    const events = require('base/js/events');\n",
              "    const OutputArea = require('notebook/js/outputarea').OutputArea;\n",
              "\n",
              "    if (OutputArea.prototype.mime_types().indexOf(EXEC_MIME_TYPE) == -1) {\n",
              "      register_renderer(events, OutputArea);\n",
              "    }\n",
              "  }\n",
              "  if (typeof (root._bokeh_timeout) === \"undefined\" || force === true) {\n",
              "    root._bokeh_timeout = Date.now() + 5000;\n",
              "    root._bokeh_failed_load = false;\n",
              "  }\n",
              "\n",
              "  const NB_LOAD_WARNING = {'data': {'text/html':\n",
              "     \"<div style='background-color: #fdd'>\\n\"+\n",
              "     \"<p>\\n\"+\n",
              "     \"BokehJS does not appear to have successfully loaded. If loading BokehJS from CDN, this \\n\"+\n",
              "     \"may be due to a slow or bad network connection. Possible fixes:\\n\"+\n",
              "     \"</p>\\n\"+\n",
              "     \"<ul>\\n\"+\n",
              "     \"<li>re-rerun `output_notebook()` to attempt to load from CDN again, or</li>\\n\"+\n",
              "     \"<li>use INLINE resources instead, as so:</li>\\n\"+\n",
              "     \"</ul>\\n\"+\n",
              "     \"<code>\\n\"+\n",
              "     \"from bokeh.resources import INLINE\\n\"+\n",
              "     \"output_notebook(resources=INLINE)\\n\"+\n",
              "     \"</code>\\n\"+\n",
              "     \"</div>\"}};\n",
              "\n",
              "  function display_loaded() {\n",
              "    const el = document.getElementById(null);\n",
              "    if (el != null) {\n",
              "      el.textContent = \"BokehJS is loading...\";\n",
              "    }\n",
              "    if (root.Bokeh !== undefined) {\n",
              "      if (el != null) {\n",
              "        el.textContent = \"BokehJS \" + root.Bokeh.version + \" successfully loaded.\";\n",
              "      }\n",
              "    } else if (Date.now() < root._bokeh_timeout) {\n",
              "      setTimeout(display_loaded, 100)\n",
              "    }\n",
              "  }\n",
              "\n",
              "  function run_callbacks() {\n",
              "    try {\n",
              "      root._bokeh_onload_callbacks.forEach(function(callback) {\n",
              "        if (callback != null)\n",
              "          callback();\n",
              "      });\n",
              "    } finally {\n",
              "      delete root._bokeh_onload_callbacks\n",
              "    }\n",
              "    console.debug(\"Bokeh: all callbacks have finished\");\n",
              "  }\n",
              "\n",
              "  function load_libs(css_urls, js_urls, callback) {\n",
              "    if (css_urls == null) css_urls = [];\n",
              "    if (js_urls == null) js_urls = [];\n",
              "\n",
              "    root._bokeh_onload_callbacks.push(callback);\n",
              "    if (root._bokeh_is_loading > 0) {\n",
              "      console.debug(\"Bokeh: BokehJS is being loaded, scheduling callback at\", now());\n",
              "      return null;\n",
              "    }\n",
              "    if (js_urls == null || js_urls.length === 0) {\n",
              "      run_callbacks();\n",
              "      return null;\n",
              "    }\n",
              "    console.debug(\"Bokeh: BokehJS not loaded, scheduling load and callback at\", now());\n",
              "    root._bokeh_is_loading = css_urls.length + js_urls.length;\n",
              "\n",
              "    function on_load() {\n",
              "      root._bokeh_is_loading--;\n",
              "      if (root._bokeh_is_loading === 0) {\n",
              "        console.debug(\"Bokeh: all BokehJS libraries/stylesheets loaded\");\n",
              "        run_callbacks()\n",
              "      }\n",
              "    }\n",
              "\n",
              "    function on_error(url) {\n",
              "      console.error(\"failed to load \" + url);\n",
              "    }\n",
              "\n",
              "    for (let i = 0; i < css_urls.length; i++) {\n",
              "      const url = css_urls[i];\n",
              "      const element = document.createElement(\"link\");\n",
              "      element.onload = on_load;\n",
              "      element.onerror = on_error.bind(null, url);\n",
              "      element.rel = \"stylesheet\";\n",
              "      element.type = \"text/css\";\n",
              "      element.href = url;\n",
              "      console.debug(\"Bokeh: injecting link tag for BokehJS stylesheet: \", url);\n",
              "      document.body.appendChild(element);\n",
              "    }\n",
              "\n",
              "    for (let i = 0; i < js_urls.length; i++) {\n",
              "      const url = js_urls[i];\n",
              "      const element = document.createElement('script');\n",
              "      element.onload = on_load;\n",
              "      element.onerror = on_error.bind(null, url);\n",
              "      element.async = false;\n",
              "      element.src = url;\n",
              "      console.debug(\"Bokeh: injecting script tag for BokehJS library: \", url);\n",
              "      document.head.appendChild(element);\n",
              "    }\n",
              "  };\n",
              "\n",
              "  function inject_raw_css(css) {\n",
              "    const element = document.createElement(\"style\");\n",
              "    element.appendChild(document.createTextNode(css));\n",
              "    document.body.appendChild(element);\n",
              "  }\n",
              "\n",
              "  const js_urls = [\"https://cdn.bokeh.org/bokeh/release/bokeh-2.4.3.min.js\", \"https://cdn.bokeh.org/bokeh/release/bokeh-gl-2.4.3.min.js\", \"https://cdn.bokeh.org/bokeh/release/bokeh-widgets-2.4.3.min.js\", \"https://cdn.bokeh.org/bokeh/release/bokeh-tables-2.4.3.min.js\", \"https://cdn.bokeh.org/bokeh/release/bokeh-mathjax-2.4.3.min.js\"];\n",
              "  const css_urls = [];\n",
              "\n",
              "  const inline_js = [    function(Bokeh) {\n",
              "      Bokeh.set_log_level(\"info\");\n",
              "    },\n",
              "function(Bokeh) {\n",
              "    }\n",
              "  ];\n",
              "\n",
              "  function run_inline_js() {\n",
              "    if (root.Bokeh !== undefined || force === true) {\n",
              "          for (let i = 0; i < inline_js.length; i++) {\n",
              "      inline_js[i].call(root, root.Bokeh);\n",
              "    }\n",
              "} else if (Date.now() < root._bokeh_timeout) {\n",
              "      setTimeout(run_inline_js, 100);\n",
              "    } else if (!root._bokeh_failed_load) {\n",
              "      console.log(\"Bokeh: BokehJS failed to load within specified timeout.\");\n",
              "      root._bokeh_failed_load = true;\n",
              "    } else if (force !== true) {\n",
              "      const cell = $(document.getElementById(null)).parents('.cell').data().cell;\n",
              "      cell.output_area.append_execute_result(NB_LOAD_WARNING)\n",
              "    }\n",
              "  }\n",
              "\n",
              "  if (root._bokeh_is_loading === 0) {\n",
              "    console.debug(\"Bokeh: BokehJS loaded, going straight to plotting\");\n",
              "    run_inline_js();\n",
              "  } else {\n",
              "    load_libs(css_urls, js_urls, function() {\n",
              "      console.debug(\"Bokeh: BokehJS plotting callback run at\", now());\n",
              "      run_inline_js();\n",
              "    });\n",
              "  }\n",
              "}(window));"
            ],
            "application/vnd.bokehjs_load.v0+json": "(function(root) {\n  function now() {\n    return new Date();\n  }\n\n  const force = true;\n\n  if (typeof root._bokeh_onload_callbacks === \"undefined\" || force === true) {\n    root._bokeh_onload_callbacks = [];\n    root._bokeh_is_loading = undefined;\n  }\n\n\n  if (typeof (root._bokeh_timeout) === \"undefined\" || force === true) {\n    root._bokeh_timeout = Date.now() + 5000;\n    root._bokeh_failed_load = false;\n  }\n\n  const NB_LOAD_WARNING = {'data': {'text/html':\n     \"<div style='background-color: #fdd'>\\n\"+\n     \"<p>\\n\"+\n     \"BokehJS does not appear to have successfully loaded. If loading BokehJS from CDN, this \\n\"+\n     \"may be due to a slow or bad network connection. Possible fixes:\\n\"+\n     \"</p>\\n\"+\n     \"<ul>\\n\"+\n     \"<li>re-rerun `output_notebook()` to attempt to load from CDN again, or</li>\\n\"+\n     \"<li>use INLINE resources instead, as so:</li>\\n\"+\n     \"</ul>\\n\"+\n     \"<code>\\n\"+\n     \"from bokeh.resources import INLINE\\n\"+\n     \"output_notebook(resources=INLINE)\\n\"+\n     \"</code>\\n\"+\n     \"</div>\"}};\n\n  function display_loaded() {\n    const el = document.getElementById(null);\n    if (el != null) {\n      el.textContent = \"BokehJS is loading...\";\n    }\n    if (root.Bokeh !== undefined) {\n      if (el != null) {\n        el.textContent = \"BokehJS \" + root.Bokeh.version + \" successfully loaded.\";\n      }\n    } else if (Date.now() < root._bokeh_timeout) {\n      setTimeout(display_loaded, 100)\n    }\n  }\n\n  function run_callbacks() {\n    try {\n      root._bokeh_onload_callbacks.forEach(function(callback) {\n        if (callback != null)\n          callback();\n      });\n    } finally {\n      delete root._bokeh_onload_callbacks\n    }\n    console.debug(\"Bokeh: all callbacks have finished\");\n  }\n\n  function load_libs(css_urls, js_urls, callback) {\n    if (css_urls == null) css_urls = [];\n    if (js_urls == null) js_urls = [];\n\n    root._bokeh_onload_callbacks.push(callback);\n    if (root._bokeh_is_loading > 0) {\n      console.debug(\"Bokeh: BokehJS is being loaded, scheduling callback at\", now());\n      return null;\n    }\n    if (js_urls == null || js_urls.length === 0) {\n      run_callbacks();\n      return null;\n    }\n    console.debug(\"Bokeh: BokehJS not loaded, scheduling load and callback at\", now());\n    root._bokeh_is_loading = css_urls.length + js_urls.length;\n\n    function on_load() {\n      root._bokeh_is_loading--;\n      if (root._bokeh_is_loading === 0) {\n        console.debug(\"Bokeh: all BokehJS libraries/stylesheets loaded\");\n        run_callbacks()\n      }\n    }\n\n    function on_error(url) {\n      console.error(\"failed to load \" + url);\n    }\n\n    for (let i = 0; i < css_urls.length; i++) {\n      const url = css_urls[i];\n      const element = document.createElement(\"link\");\n      element.onload = on_load;\n      element.onerror = on_error.bind(null, url);\n      element.rel = \"stylesheet\";\n      element.type = \"text/css\";\n      element.href = url;\n      console.debug(\"Bokeh: injecting link tag for BokehJS stylesheet: \", url);\n      document.body.appendChild(element);\n    }\n\n    for (let i = 0; i < js_urls.length; i++) {\n      const url = js_urls[i];\n      const element = document.createElement('script');\n      element.onload = on_load;\n      element.onerror = on_error.bind(null, url);\n      element.async = false;\n      element.src = url;\n      console.debug(\"Bokeh: injecting script tag for BokehJS library: \", url);\n      document.head.appendChild(element);\n    }\n  };\n\n  function inject_raw_css(css) {\n    const element = document.createElement(\"style\");\n    element.appendChild(document.createTextNode(css));\n    document.body.appendChild(element);\n  }\n\n  const js_urls = [\"https://cdn.bokeh.org/bokeh/release/bokeh-2.4.3.min.js\", \"https://cdn.bokeh.org/bokeh/release/bokeh-gl-2.4.3.min.js\", \"https://cdn.bokeh.org/bokeh/release/bokeh-widgets-2.4.3.min.js\", \"https://cdn.bokeh.org/bokeh/release/bokeh-tables-2.4.3.min.js\", \"https://cdn.bokeh.org/bokeh/release/bokeh-mathjax-2.4.3.min.js\"];\n  const css_urls = [];\n\n  const inline_js = [    function(Bokeh) {\n      Bokeh.set_log_level(\"info\");\n    },\nfunction(Bokeh) {\n    }\n  ];\n\n  function run_inline_js() {\n    if (root.Bokeh !== undefined || force === true) {\n          for (let i = 0; i < inline_js.length; i++) {\n      inline_js[i].call(root, root.Bokeh);\n    }\n} else if (Date.now() < root._bokeh_timeout) {\n      setTimeout(run_inline_js, 100);\n    } else if (!root._bokeh_failed_load) {\n      console.log(\"Bokeh: BokehJS failed to load within specified timeout.\");\n      root._bokeh_failed_load = true;\n    } else if (force !== true) {\n      const cell = $(document.getElementById(null)).parents('.cell').data().cell;\n      cell.output_area.append_execute_result(NB_LOAD_WARNING)\n    }\n  }\n\n  if (root._bokeh_is_loading === 0) {\n    console.debug(\"Bokeh: BokehJS loaded, going straight to plotting\");\n    run_inline_js();\n  } else {\n    load_libs(css_urls, js_urls, function() {\n      console.debug(\"Bokeh: BokehJS plotting callback run at\", now());\n      run_inline_js();\n    });\n  }\n}(window));"
          },
          "metadata": {}
        },
        {
          "output_type": "display_data",
          "data": {
            "text/html": [
              "\n",
              "  <div class=\"bk-root\" id=\"5a532447-9b89-4207-abf6-664069dd5112\" data-root-id=\"1093\"></div>\n"
            ]
          },
          "metadata": {}
        },
        {
          "output_type": "display_data",
          "data": {
            "application/javascript": [
              "(function(root) {\n",
              "  function embed_document(root) {\n",
              "  const docs_json = {\"0e120a26-3d95-43e0-b1e1-11ff89b629ec\":{\"defs\":[],\"roots\":{\"references\":[{\"attributes\":{\"below\":[{\"id\":\"1104\"}],\"center\":[{\"id\":\"1107\"},{\"id\":\"1111\"},{\"id\":\"1128\"}],\"left\":[{\"id\":\"1108\"}],\"renderers\":[{\"id\":\"1126\"}],\"title\":{\"id\":\"1094\"},\"toolbar\":{\"id\":\"1116\"},\"toolbar_location\":\"above\",\"x_range\":{\"id\":\"1096\"},\"x_scale\":{\"id\":\"1100\"},\"y_range\":{\"id\":\"1098\"},\"y_scale\":{\"id\":\"1102\"}},\"id\":\"1093\",\"subtype\":\"Figure\",\"type\":\"Plot\"},{\"attributes\":{},\"id\":\"1113\",\"type\":\"WheelZoomTool\"},{\"attributes\":{\"fill_color\":{\"value\":\"#1f77b4\"},\"line_color\":{\"value\":\"#1f77b4\"},\"size\":{\"value\":8},\"x\":{\"field\":\"x1\"},\"y\":{\"field\":\"x2\"}},\"id\":\"1123\",\"type\":\"Scatter\"},{\"attributes\":{},\"id\":\"1105\",\"type\":\"BasicTicker\"},{\"attributes\":{},\"id\":\"1146\",\"type\":\"UnionRenderers\"},{\"attributes\":{\"source\":{\"id\":\"1121\"}},\"id\":\"1127\",\"type\":\"CDSView\"},{\"attributes\":{\"coordinates\":null,\"formatter\":{\"id\":\"1144\"},\"group\":null,\"major_label_policy\":{\"id\":\"1145\"},\"ticker\":{\"id\":\"1105\"}},\"id\":\"1104\",\"type\":\"LinearAxis\"},{\"attributes\":{\"fill_alpha\":{\"value\":0.1},\"fill_color\":{\"value\":\"#1f77b4\"},\"hatch_alpha\":{\"value\":0.1},\"line_alpha\":{\"value\":0.1},\"line_color\":{\"value\":\"#1f77b4\"},\"size\":{\"value\":8},\"x\":{\"field\":\"x1\"},\"y\":{\"field\":\"x2\"}},\"id\":\"1124\",\"type\":\"Scatter\"},{\"attributes\":{},\"id\":\"1145\",\"type\":\"AllLabels\"},{\"attributes\":{\"coordinates\":null,\"group\":null,\"source\":{\"id\":\"1121\"},\"text\":{\"field\":\"names\"},\"text_align\":{\"value\":\"center\"},\"text_color\":{\"value\":\"#555555\"},\"text_font_size\":{\"value\":\"8pt\"},\"x\":{\"field\":\"x1\"},\"y\":{\"field\":\"x2\"},\"y_offset\":{\"value\":6}},\"id\":\"1128\",\"type\":\"LabelSet\"},{\"attributes\":{},\"id\":\"1114\",\"type\":\"ResetTool\"},{\"attributes\":{\"data\":{\"names\":[\"im\",\"oh\",\"well\",\"dont\",\"like\",\"get\",\"youre\",\"one\",\"know\",\"thats\",\"hey\",\"homer\",\"right\",\"go\",\"got\",\"bart\",\"ill\",\"uh\",\"good\",\"see\",\"yeah\",\"think\",\"want\",\"cant\",\"look\",\"man\",\"marge\",\"gonna\",\"back\",\"little\",\"dad\",\"time\",\"okay\",\"us\",\"come\",\"ive\",\"could\",\"take\",\"never\",\"say\",\"simpson\",\"make\",\"lisa\",\"yes\",\"hes\",\"would\",\"really\",\"two\",\"love\",\"going\",\"lets\",\"theres\",\"way\",\"something\",\"mr\",\"boy\",\"need\",\"sorry\",\"day\",\"people\",\"tell\",\"please\",\"sure\",\"give\",\"kids\",\"let\",\"whats\",\"thing\",\"new\",\"didnt\",\"mom\",\"wait\",\"first\",\"great\",\"ever\",\"old\",\"god\",\"better\",\"stop\",\"sir\",\"life\",\"even\",\"maybe\",\"help\",\"id\",\"youve\",\"thank\",\"home\",\"theyre\",\"big\",\"made\",\"three\",\"mean\",\"much\",\"show\",\"said\",\"put\",\"work\",\"son\",\"huh\",\"still\",\"money\",\"school\",\"ya\",\"call\",\"springfield\",\"always\",\"youll\",\"last\",\"ah\",\"thought\",\"gotta\",\"name\",\"every\",\"family\",\"must\",\"house\",\"find\",\"guys\",\"hello\",\"bad\",\"baby\",\"guy\",\"five\",\"years\",\"guess\",\"things\",\"anything\",\"night\",\"feel\",\"wont\",\"weve\",\"thanks\",\"away\",\"next\",\"burns\",\"place\",\"wow\",\"isnt\",\"keep\",\"world\",\"hell\",\"believe\",\"lot\",\"long\",\"nice\",\"nothing\",\"real\",\"best\",\"remember\",\"doesnt\",\"another\",\"ooh\",\"moe\",\"shes\",\"krusty\",\"car\",\"hear\",\"fine\",\"stupid\",\"everything\",\"around\",\"use\",\"talk\",\"happy\",\"done\",\"eat\",\"today\",\"everyone\",\"kill\",\"eh\",\"fun\",\"wrong\",\"play\",\"heres\",\"dog\",\"may\",\"father\",\"girl\",\"wanna\",\"honey\",\"ow\",\"em\",\"someone\",\"worry\",\"looks\",\"whoa\",\"dollars\",\"four\",\"children\",\"aw\",\"job\",\"left\",\"mother\",\"um\",\"enough\",\"minute\",\"turn\",\"milhouse\",\"listen\",\"kind\",\"friend\",\"many\",\"town\",\"free\",\"homie\",\"getting\",\"friends\",\"without\",\"cause\",\"cool\",\"hundred\",\"might\",\"try\",\"kid\",\"leave\",\"tonight\",\"live\",\"watch\",\"boys\",\"beer\",\"hi\",\"flanders\",\"year\",\"care\",\"seen\",\"ha\",\"head\",\"room\",\"maggie\",\"whos\",\"dead\",\"check\",\"pretty\",\"shut\",\"coming\",\"used\",\"ten\",\"tv\",\"stay\",\"cmon\",\"face\",\"says\",\"book\",\"hope\",\"welcome\",\"miss\",\"sweet\",\"told\",\"wife\",\"woo\",\"everybody\",\"whole\",\"actually\",\"start\",\"buy\",\"wanted\",\"already\",\"game\",\"six\",\"young\",\"hoo\",\"course\",\"movie\",\"wouldnt\",\"trying\",\"lost\",\"talking\",\"twenty\",\"gone\",\"heard\",\"pay\",\"hmm\",\"smithers\",\"run\",\"hard\",\"stuff\",\"wish\",\"forget\",\"found\",\"called\",\"hot\",\"crazy\",\"fat\",\"la\",\"read\",\"youd\",\"came\",\"beautiful\",\"heh\",\"together\",\"eight\",\"mind\",\"dear\",\"since\",\"party\",\"idea\",\"die\",\"afraid\",\"problem\",\"true\",\"makes\",\"happened\",\"hate\",\"aint\",\"wheres\",\"end\",\"haw\",\"story\",\"finally\",\"christmas\",\"food\",\"anyone\",\"word\",\"ask\",\"ho\",\"chief\",\"bring\",\"hold\",\"cut\",\"win\",\"looking\",\"heart\",\"lady\",\"woman\",\"open\",\"tomorrow\",\"funny\",\"excuse\",\"eyes\",\"ned\",\"else\",\"yet\",\"making\",\"power\",\"part\",\"went\",\"full\",\"havent\",\"number\",\"days\",\"least\",\"hair\",\"perfect\",\"second\",\"also\",\"week\",\"saying\",\"mrs\",\"save\",\"special\",\"arent\",\"lord\",\"couldnt\",\"hm\",\"business\",\"took\",\"thousand\",\"class\",\"point\",\"hand\",\"knew\",\"change\",\"ready\",\"saw\",\"wasnt\",\"wants\",\"taking\",\"morning\",\"comes\",\"fifty\",\"fire\",\"move\",\"hit\",\"pick\",\"skinner\",\"easy\",\"dinner\",\"grampa\",\"meet\",\"times\",\"gave\",\"news\",\"seven\",\"means\",\"daddy\",\"break\",\"gets\",\"drink\",\"bar\",\"understand\",\"ones\",\"husband\",\"sleep\",\"half\",\"thirty\",\"goes\",\"married\",\"dream\",\"bed\",\"supposed\",\"anymore\",\"city\",\"store\",\"deal\",\"nine\",\"water\",\"minutes\",\"hurt\",\"brother\",\"high\",\"door\",\"fight\",\"men\",\"bob\",\"simpsons\",\"needs\",\"music\",\"set\",\"thinking\",\"phone\",\"barts\",\"song\",\"girls\",\"drive\",\"stand\",\"sounds\",\"rock\",\"alone\",\"side\",\"late\",\"sign\",\"hands\",\"sit\",\"answer\",\"whatever\",\"hmmm\",\"top\",\"million\",\"test\",\"brought\",\"mad\",\"outta\",\"kiss\",\"ice\",\"attention\",\"watching\",\"rest\",\"poor\",\"hours\",\"important\",\"doctor\",\"pants\",\"soon\",\"enjoy\",\"death\",\"bet\",\"eye\",\"till\",\"president\",\"wonderful\",\"line\",\"mine\",\"ladies\",\"glad\",\"ball\",\"birthday\",\"american\",\"ago\",\"chance\",\"walk\",\"e\",\"anyway\",\"working\",\"matter\",\"plant\",\"air\",\"forever\",\"quit\",\"damn\",\"secret\",\"inside\",\"learn\",\"close\",\"box\",\"except\",\"team\",\"throw\",\"fair\",\"mmm\",\"clown\",\"probably\",\"country\",\"america\",\"later\",\"da\",\"sound\",\"parents\",\"marriage\",\"ride\",\"card\",\"eating\",\"lis\",\"sister\",\"apu\",\"trouble\",\"picture\",\"gentlemen\",\"plan\",\"write\",\"shot\",\"nelson\",\"behind\",\"clean\",\"question\",\"goodbye\",\"seems\",\"alive\",\"quite\",\"nobody\",\"learned\",\"church\",\"bye\",\"shall\",\"killed\",\"send\",\"front\",\"goin\",\"exactly\",\"dance\",\"lenny\",\"seymour\",\"spend\",\"women\",\"future\",\"happen\",\"case\",\"folks\",\"bit\",\"bus\",\"words\",\"sweetie\",\"beat\",\"dr\",\"fast\",\"saved\",\"red\",\"sick\",\"super\",\"bout\",\"police\",\"principal\",\"far\",\"person\",\"terrible\",\"candy\",\"truth\",\"cream\",\"knows\",\"state\",\"doin\",\"order\",\"started\",\"theyll\",\"king\",\"lose\",\"sell\",\"war\",\"itll\",\"blue\",\"dogs\",\"wed\",\"ralph\",\"proud\",\"star\",\"child\",\"kent\",\"worse\",\"living\",\"hour\",\"favorite\",\"dude\",\"blood\",\"bought\",\"lives\",\"teach\",\"pie\",\"gimme\",\"butt\",\"almost\",\"mouth\",\"body\",\"catch\",\"smell\",\"earth\",\"cat\",\"rich\",\"ass\",\"lie\",\"bill\",\"dollar\",\"yo\",\"itchy\",\"telling\",\"tree\",\"become\",\"turned\",\"moment\",\"honor\",\"quiet\",\"less\",\"somebody\",\"reason\",\"brain\",\"along\",\"moes\",\"comin\",\"wedding\",\"couple\",\"fish\",\"b\",\"willie\",\"safe\",\"light\",\"human\",\"bucks\",\"tried\",\"worst\",\"wear\",\"nothin\",\"playing\",\"art\",\"gay\",\"ahead\",\"greatest\",\"cold\",\"nuclear\",\"paper\",\"roll\",\"oooh\",\"bear\",\"smart\",\"small\",\"different\",\"daughter\",\"stick\",\"forty\",\"likes\",\"date\",\"ooo\",\"monkey\",\"soul\",\"join\",\"return\",\"law\",\"feeling\",\"extra\",\"act\",\"seem\",\"promise\",\"sometimes\",\"hat\",\"pass\",\"shouldnt\",\"wonder\",\"ring\",\"perhaps\",\"outside\",\"lucky\",\"machine\",\"met\",\"instead\",\"paid\",\"wearing\",\"giving\",\"quick\",\"using\",\"lunch\",\"drunk\",\"gas\",\"excellent\",\"wake\",\"either\",\"movies\",\"bag\",\"street\",\"floor\",\"crap\",\"sex\",\"selma\",\"trip\",\"hero\",\"books\",\"lisas\",\"film\",\"fact\",\"club\",\"land\",\"kinda\",\"pull\",\"speak\",\"sad\",\"de\",\"taken\",\"shirt\",\"straight\",\"fault\",\"white\",\"monster\",\"sold\",\"barney\",\"worth\",\"present\",\"black\",\"tired\",\"relax\",\"takes\",\"third\",\"voice\",\"names\",\"space\",\"teacher\",\"piece\",\"drop\",\"fly\",\"touch\",\"hang\",\"carl\",\"lousy\",\"homers\",\"sideshow\",\"low\",\"weeks\",\"evil\",\"age\",\"works\",\"nose\",\"fired\",\"edna\",\"company\",\"gun\",\"laugh\",\"step\",\"werent\",\"feet\",\"doo\",\"plus\",\"luck\",\"shows\",\"shoot\",\"forgot\",\"office\",\"drinking\",\"cute\",\"broke\",\"college\",\"park\",\"dads\",\"grade\",\"choice\",\"sing\",\"horrible\",\"duff\",\"sugar\",\"past\",\"gettin\",\"unless\",\"problems\",\"surprise\",\"thinks\",\"scratchy\",\"known\",\"pizza\",\"lou\",\"blow\",\"died\",\"leaving\",\"angry\",\"anybody\",\"afford\",\"idiot\",\"though\",\"field\",\"driving\",\"seat\",\"boss\",\"weird\",\"running\",\"loves\",\"cheese\",\"fresh\",\"hows\",\"hurry\",\"prison\",\"longer\",\"judge\",\"stuck\",\"worked\",\"mm\",\"knock\",\"clear\",\"cake\",\"dreams\",\"coffee\",\"asked\",\"buddy\",\"nah\",\"twelve\",\"months\",\"awesome\",\"band\",\"trust\",\"blah\",\"loved\",\"evening\",\"happens\",\"fall\",\"system\",\"table\",\"hole\",\"burn\",\"felt\",\"calling\",\"milk\",\"nuts\",\"public\",\"local\",\"wrote\",\"certainly\",\"court\",\"share\",\"follow\",\"theyve\",\"pain\",\"magic\",\"grow\",\"gee\",\"vote\",\"meat\",\"maam\",\"mayor\",\"babies\",\"letter\",\"heaven\",\"n\",\"breakfast\",\"gift\",\"changed\",\"questions\",\"bird\",\"double\",\"early\",\"yay\",\"lesson\",\"visit\",\"history\",\"jerk\",\"absolutely\",\"ruined\",\"missed\",\"short\",\"suit\",\"report\",\"missing\",\"chair\",\"sea\",\"lookin\",\"chicken\",\"mister\",\"self\",\"sense\",\"peace\",\"tickets\",\"wiggum\",\"finish\",\"science\",\"chocolate\",\"service\",\"tough\",\"reading\",\"somewhere\",\"safety\",\"ate\",\"born\",\"animals\",\"sent\",\"ninety\",\"marry\",\"fool\",\"jesus\",\"month\",\"bite\",\"cost\",\"garbage\",\"todays\",\"joe\",\"window\",\"channel\",\"clothes\",\"thatll\",\"respect\",\"horse\",\"cover\",\"gold\",\"yep\",\"toilet\",\"center\",\"shoes\",\"summer\",\"ohhh\",\"ba\",\"wall\",\"green\",\"sort\",\"steal\",\"caught\",\"key\",\"starting\",\"fear\",\"kick\",\"explain\",\"none\",\"talkin\",\"meant\",\"queen\",\"bathroom\",\"list\",\"able\",\"swear\",\"bowl\",\"kidding\",\"teeth\",\"crime\",\"deep\",\"dress\",\"c\",\"martin\",\"abe\",\"forgive\",\"boat\",\"round\",\"broken\",\"gives\",\"john\",\"foot\",\"rules\",\"rather\",\"control\",\"meeting\",\"gotten\",\"handle\",\"fix\",\"lots\",\"smoke\",\"raise\",\"taste\",\"feelings\",\"agree\",\"build\",\"winner\",\"admit\",\"amazing\",\"gods\",\"bottle\",\"animal\",\"waiting\",\"pal\",\"tape\",\"single\",\"taught\",\"exciting\",\"deserve\",\"ugly\",\"boring\",\"seeing\",\"brockman\",\"building\",\"geez\",\"named\",\"suck\",\"seconds\",\"slow\",\"realize\",\"famous\",\"pop\",\"sixty\",\"hungry\",\"charge\",\"ye\",\"ohh\",\"non\",\"credit\",\"push\",\"fell\",\"joke\",\"race\",\"promised\",\"ticket\",\"apple\",\"honest\"],\"x1\":{\"__ndarray__\":\"GYhVwWDYt8GtggrBfshPQS/Ws8EY0O9BR9RTwWkQA0FhCMJBPsBWwcF8REFE/ktBy+VXQSYy7kHehajBksZYQQQuW0FdZxvAA3ZzwZGt+0GVGaLA6RzCQVqc1UFbTlVBc9xDwYY4YcFpJ0lB0fSWQKYDsEGv+pLBHpgQQewiyMGeWWpBYGirQCSe20Gw4dHBXoAdQQxe+UF/pb/B26LyQQZ7hcFyC/FBeKtYQfeeFMG8n1nB50QOQfwPnMHJIAFB89uYwVS/lkCkcstBpvR2P4NgnEEwa83AzlpBwQthykBzVJlBku2GP3P0wcErtqjBcbDEQRsw8UCpUYO/iab3QbTinEH60YtBfKwgwbIckMHw+IbBIqw7QUuDEEHXpKpBXx6IwQVqZsEzfr7B04l5wdotxsEO9a7BIoKHQWnfEMGxd57B4R8GwcEMGsHy29NBHkMLQWQA0sGY/sbBNbawQSFnKcHnYvDB/wWWwU/F9UDndSLB58ZrwTOy5kF9UafBFATtQdJPrsEJvfY+GfUywBHHjcEEQppBMmGMwUSQWEHXcgBC8KEhwUU4n8F8yD9BnK68wRf5i0B5+MHBOZ7GQYBKtEB3p73Bls2bwSsbIUH9j5dBNU3ZQYumO0EGxvxAy1DewAkgGkH+xP/AegjUQC2odUC0Ew3Bw9+gwZEX38Bwp8PB0/NOwbyWUkGrPdLBkvSkQFs0sEExvQlBBbaEwQ2giMFWHX7BCR1CwaVz5EFprJXBIvR0QUMf1EF+75/BWB+vwcCI7MBiS4bB8CtxwW6vv8F8k7NBUf1EQcIhAkF1jss/wFwmQaZUUMEs6KbBPfZ7QTa980HhOXZB6oiEQJDcksEpDJpBRPDUQdjF7UH7+j3AFPSswXb13UGxoIPBHCQHwbZt5EHJwE/A2fCjwdp92MBqzNdBO3YLQQMyXEDeJhdBSSQLwRv7kMF8vNJBzqQSQaKbskGJ08VBFhLVwOrYvEF78G7B4nQ4QVBR7kB2Md5AbJnHQDOOOUEFkHHBzwDAQBSaCsHFsDDAF26VwbZ8qkHXqdpBoPklQf9dpEHqg4LBPoO+wd8Gqz+Ph47Bop2NQSjbEkHrWlK/yL0TwaUHoMHtFIzBwUKnwJz69EAq9jJBF6TRQQwZikDLp9pBKM1VQayApMFngtdBkyhDQc9Hw0EvZQ5BoHy+QD6nGUDilbFBXkS1we+3kEB4tmJBk2c5QcOtEUGi7zHB4L7iv8z1f0HS3NPAFOJvQcYxXj9P/DHBS2akQEs5G8HKK+VBzSN0QWMwskDsL4HAjtqSwD+BEsFzmEfBg0urQd84XsDITaTBHpLsv8c2WkGynBtBhMyWwc28RcGKt+VBCXzsQWa2l8GeQaHB4o8LQeTnp0BTUXXBT0NaQXH18cDB2oPBP+E0QeNvckApYZzBBNgoP7wxwkBXH6HB092uwemk7UHRjnvAiRB9wWo5tEHR0JXBpXgzwfWovcHogLdBir6FwWcBCsH/pypAssDBwMjAgsDTWt3A1ae4QS2cGEHwRW7BAi9ywbyDxEBLBKBB5b6gQE9fskHX6MLBPta0wZRYWUFb11fBzJ/jQTQ9Cz/gxsnAJJhtwU3KbcF0cYfBTjGWwWLFUMFvlBhB1T2IwQ3nxb9UtpfBEvKDwVqXjMFK84hBe7LZwIQ4NMG0XsNB0GMjQcUJRkCUh9tBb/qmQeJnsEHtO+dBB1alv8HPpr9O01/BP2uAwalHWUGyN6rB4f37wNwB3MB++vtABRa5QIOls8AglY/BAliLwZ3tEcGQ8ZPBux52wTAlCcHtK7jBzybfQH/JaUBdsRDBnh2SPyr3XMEME5RBH8IJwUO5F0AhD9A+Q9Y/wWzU20H8+ADBpdsfwXZFw8FlRy1Bzah3wBDdAEEb7kTBggrTQMJ7esGzwdXAGLRfQZ12vsGamMxB/Ey5QZEqeMGvN0bBLG4tQWgO8z8wdLvBATofvyhA10CjKTtBX3DOQcf6tEFOQ8dB+6fFQN89X0H/Y6dBrp/GQMyN/EFdJjVAHNFGwbgVvsGrSb5AyqhTwWl9BUGu3rpBwHW5PjSOwkGTuUVBsXTDQRqsV8GQVgK/LJmyQZz6iUCqMrBAjJwMwW6YjsEgW9fADMGuQc+cUkDBB95BGekMwbJKxEA0Fe/BfZfBQIrSzEBb5sNAHELKQZnDFr2EGX3BvBljQR6Ee0FxKi5Adk43wVQ3gsHqIRxAAf4IwcZzAsGXKsm/ZcEqQeXan0AUod7A4a4wwdFI00Gg5NdBpfxswcIGI0ES4oRBQy+DwJN9HUAxpohBs0dqQbXA0EHAzPfA9nVywBk3aMBA5WtAdBLfQDFvskDWqm7BtTAbQBCiTkFId5FBAUwHQVq+4ED5AAJA/+uiwadTrb3AtY5A8YiLwSGUzD+TvrI/2gyPQdqt00H2rDjBh/fBQSMb/EAXYZZBsGZvwS3BbMGXXCpBxTBjQDRQPsFuXKQ+7y9IQVlX8L3C9NbA0ml/QLade0EHqctBrw7OwCMHJ8AqQw3AQwfRwOh7EcHN6c1Afg2ewciugkFIkohAGGfhv8/z00Au8MpBukuGQbpODz9HGUjBbD/CwKeI4EEY2//AC+iJwM2apsH5wMHAEJ0DwUFk1cDCB5dBUtXawNCBScH6KxPB0FlYwY4Hx0Gd1ky9IpgpQAirL0H5dbG+Vwsmv95ot8CJsShBY/dCwZjFFEEdPL5BOBkav7CU1D/QSw/Ago+pQVt69cDpKLM/nx0kwZxQtb8Uzw3Bd3NsQWMQpcF+VyfBzsisQC+7K8EhZWfBq4aFQQpHS0Hl4T9BVO0zwauVhEFIpR1Ba5cPQNJCrsHZIAPBmioZwV2FxkGust3Aa2EFQQCRj8Fx7FBB/zYzwTfgBUEWD7tBAVCawN77CkEEwY7BaW0wQEQpWT8OyGBA3fiJQE22gUCtLsRA24XZQAOkgsHVHE7B4V0UQXNhKsANRQdBraVhwDjCAsF4S0BBOUF0vqDAZcEsqkhBukeuwCxtykH4p8dBOeZLQATJR0GidSpA/xJZQBGp8UCvz+0/gfSqvlT1l8COujzBTpfIwAe/cMFpI1fBLRyDQLdJgcCjC8c/+W6XQOMWP8Ew55jBNqzMQflnnUBOS3NBboGAQPgA/8CEc6RAtzLVwBdctEGxelRAbf9ewYuprL+WlWXAayKIQKOgo0GydQS/1crNQNODHEF6VDrBhGc1P/OGgcAK/I3BV1OIwYb9S8EVy0vBDg0/QEBwPcGIwRVBiv8mwXZ26kCuFURBoEFRQTniRkHHCPHAKfeDQPt0hT52KZ3A6J8EQUwg28Ah7N1A4Sj3wFek5UBdCZnBxmSdwUCov0GD7CnBx1Tgvl9L4cARW03A5qO7QXtWm8E1019A48cLwQ+fjT91QytBI8oDQJtwN8HzbGbAPnZSwbTUPMHLlJ+/mECsQT18ukAlhgzBdpITwQ8Bvz+06QZB7RQqwYEJ0kESCUjB55TDwEAulMDfPWtAvpPUwADYOsEWk4pBOwY0wVjtj0Da1nxBjQMmwBgS0sA4VIxAWMBOwWboKkG3OETBg/bSv8PMp8ETbSLA99+KQH5rUMAdS9U+aK1LQWY6sMAcSEFBeaqwP/etyT/7U9vAYkvyQEe/gkB5RR7BK2WuQERJGEBaXeZA+4iJQLLf7j+tQ2NAEB/6wI+oMMB2gZzANmmnQC7aw8A5QQrBvdsOwXXMEMFoUe/AMZurQe0OjkGyUvbAUEvZwKGresGLTw1Blc9IQegtRsBuVC1AHEwxv1LbbsGWithAvbSDQArys7/SN5zAvSK8P1EA/0B/AMRA3S0twPtpK78V3UPA0JU7wMCtkb+6z/FA7bVMQfnJJUHNe7FBVoGwQdZF+0AwrDhAcmo2P17dMMGWLf/A5lWJQLMA9cDVgy3BvV8pwchXj0DKFM8/pb0PQHxNcsAiQw5Bnem7wB0gfkGXVFfB/kyAQB5Az8A3m59AtZ5awZlnP71zT7dBaM7VvmCOKsFamphAUFBqwAHq3sCrmB1Bx44EQPsis0CMxSzAC6k4wfedvMHqgTzBnCoLQdEBykCn1zHB6c4hQK0icEDJtQzBldmPwD/DJ8Ae8DnBl3lcwSchIED0BSJBiYWpQY0q6sDECVM/au8uvjEIeUHc9tVBCszQP81sZsF6wHJA9I8AQK3lW0GUACJAqTEOwbryDb+Kzh7AftENQMK/2kDemcdAsPRgQUlFoMCU8BrBrbOWwHt21T+3GpDBDYZ4wDjnZUHKb+VANg19QMSPgMCaP0hBUL5CwYFiDUEkR/S/gV+kQMpWkkCfqKDAfObFwKI5psDTiv7AKexawboBvMG8qhfBZxIOP1rRpcB/rg1BljWoQKDbOUFd2G7BcMB/QNxtDkF9TiFBb+DmwPBAp8AyzazABGwDwb74KsHFpFTB4QudQRrJFcHppYTAeZT1v3rHwEFK0t/ACD4OwMGiOz8bLpc/YaBuwUtiHkCP+sDAQF8hwGBZkcAoYRJBZWnmwAPei8GV1iTA/XKQPtfkDkBAyBJB4H42QCzxj8En53hBjGa8wOCUHEDDd1jAMK+HwUW4nMBAEZLApUaIPeiH9MBqKcG/V+wlQdDKssBCz1RANYIaP7KcukCY3CfBMZacwL0oLsHbAoxAHQVxQOkOsEHs29bA054jQHjJQsDHVQ7BHS0hwBjntEBI8WPAG7wPwO12NcEeJzW/O9KFwHh7ukBRZLFBkHyZwB+BksCrJY9ASWdzQa8/Y0GO6cm/PgXMwKW1YcDiBSZB2GcFPp0MdjzSsBtBUnNZwFiUZL+X0VNBI1+ZPm5NycAsm/JAmp8AwSRrE0Fka3fB6yl8P9yCnMBYqs4/8LUfQNp/j8DM5rZByk8JwambOsA+P18/G2i/wAU8okHURpxB8ea0wBd2sj+EVj7BUWeLwHtxIkEUoKvAKlGMQVYml0G/fU5ArJ09P2ZdZ0CXt/nA6deLviKTUz96nKHAR/MJwGbDxEAHAJFBBUgTQSPmjkCk6wvAkoCqwJW7JcEaz/y9OcmSwIchusEorlXAjrXlwLAKj8EDuKZBG7uwQcjDOsHbY0JBjBl0QTBNuj/ufdXAUburwBQOxkEsBmnA0q5YwOCPtcDM6F3AK6DWQEZDor8V9ErBR2oIQcRL50CMgFvBHCpKwec89cDUY8bAg27av6aawsB48XfAd3TKwEh2ur8ujnxA6AYbwQefyT+5NaxA71k8QGcHqUEgdebAkGUKQNBCvkDoDwNAA/NoQEPg4UCUC1U+PwtPwJJewr8+FqFBkDCFwPeMtcAvW+m+o0GTQdSaJ0HLynBAYDWqwA==\",\"dtype\":\"float32\",\"order\":\"little\",\"shape\":[1000]},\"x2\":{\"__ndarray__\":\"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\",\"dtype\":\"float32\",\"order\":\"little\",\"shape\":[1000]}},\"selected\":{\"id\":\"1147\"},\"selection_policy\":{\"id\":\"1146\"}},\"id\":\"1121\",\"type\":\"ColumnDataSource\"},{\"attributes\":{\"coordinates\":null,\"data_source\":{\"id\":\"1121\"},\"glyph\":{\"id\":\"1123\"},\"group\":null,\"hover_glyph\":null,\"muted_glyph\":{\"id\":\"1125\"},\"nonselection_glyph\":{\"id\":\"1124\"},\"view\":{\"id\":\"1127\"}},\"id\":\"1126\",\"type\":\"GlyphRenderer\"},{\"attributes\":{\"axis\":{\"id\":\"1104\"},\"coordinates\":null,\"group\":null,\"ticker\":null},\"id\":\"1107\",\"type\":\"Grid\"},{\"attributes\":{},\"id\":\"1102\",\"type\":\"LinearScale\"},{\"attributes\":{},\"id\":\"1147\",\"type\":\"Selection\"},{\"attributes\":{\"axis\":{\"id\":\"1108\"},\"coordinates\":null,\"dimension\":1,\"group\":null,\"ticker\":null},\"id\":\"1111\",\"type\":\"Grid\"},{\"attributes\":{},\"id\":\"1109\",\"type\":\"BasicTicker\"},{\"attributes\":{},\"id\":\"1100\",\"type\":\"LinearScale\"},{\"attributes\":{},\"id\":\"1142\",\"type\":\"AllLabels\"},{\"attributes\":{\"coordinates\":null,\"formatter\":{\"id\":\"1141\"},\"group\":null,\"major_label_policy\":{\"id\":\"1142\"},\"ticker\":{\"id\":\"1109\"}},\"id\":\"1108\",\"type\":\"LinearAxis\"},{\"attributes\":{},\"id\":\"1115\",\"type\":\"SaveTool\"},{\"attributes\":{\"coordinates\":null,\"group\":null,\"text\":\"word2vec T-SNE for most common words\"},\"id\":\"1094\",\"type\":\"Title\"},{\"attributes\":{\"tools\":[{\"id\":\"1112\"},{\"id\":\"1113\"},{\"id\":\"1114\"},{\"id\":\"1115\"}]},\"id\":\"1116\",\"type\":\"Toolbar\"},{\"attributes\":{},\"id\":\"1144\",\"type\":\"BasicTickFormatter\"},{\"attributes\":{},\"id\":\"1112\",\"type\":\"PanTool\"},{\"attributes\":{},\"id\":\"1096\",\"type\":\"DataRange1d\"},{\"attributes\":{\"fill_alpha\":{\"value\":0.2},\"fill_color\":{\"value\":\"#1f77b4\"},\"hatch_alpha\":{\"value\":0.2},\"line_alpha\":{\"value\":0.2},\"line_color\":{\"value\":\"#1f77b4\"},\"size\":{\"value\":8},\"x\":{\"field\":\"x1\"},\"y\":{\"field\":\"x2\"}},\"id\":\"1125\",\"type\":\"Scatter\"},{\"attributes\":{},\"id\":\"1098\",\"type\":\"DataRange1d\"},{\"attributes\":{},\"id\":\"1141\",\"type\":\"BasicTickFormatter\"}],\"root_ids\":[\"1093\"]},\"title\":\"Bokeh Application\",\"version\":\"2.4.3\"}};\n",
              "  const render_items = [{\"docid\":\"0e120a26-3d95-43e0-b1e1-11ff89b629ec\",\"root_ids\":[\"1093\"],\"roots\":{\"1093\":\"5a532447-9b89-4207-abf6-664069dd5112\"}}];\n",
              "  root.Bokeh.embed.embed_items_notebook(docs_json, render_items);\n",
              "  }\n",
              "  if (root.Bokeh !== undefined) {\n",
              "    embed_document(root);\n",
              "  } else {\n",
              "    let attempts = 0;\n",
              "    const timer = setInterval(function(root) {\n",
              "      if (root.Bokeh !== undefined) {\n",
              "        clearInterval(timer);\n",
              "        embed_document(root);\n",
              "      } else {\n",
              "        attempts++;\n",
              "        if (attempts > 100) {\n",
              "          clearInterval(timer);\n",
              "          console.log(\"Bokeh: ERROR: Unable to run BokehJS code because BokehJS library is missing\");\n",
              "        }\n",
              "      }\n",
              "    }, 10, root)\n",
              "  }\n",
              "})(window);"
            ],
            "application/vnd.bokehjs_exec.v0+json": ""
          },
          "metadata": {
            "application/vnd.bokehjs_exec.v0+json": {
              "id": "1093"
            }
          }
        }
      ]
    },
    {
      "cell_type": "markdown",
      "source": [
        "**Cамые близкие слова**"
      ],
      "metadata": {
        "id": "595nnmXQ7ARQ"
      }
    },
    {
      "cell_type": "code",
      "source": [
        "vec = model.wv[\"homer\"] - model.wv[\"marge\"] + model.wv[\"bart\"]\n",
        "model.wv.similar_by_vector(vec)"
      ],
      "metadata": {
        "colab": {
          "base_uri": "https://localhost:8080/"
        },
        "id": "mSmjDMno6dvI",
        "outputId": "ff011c25-a5cc-4671-dce8-7b04392144df"
      },
      "execution_count": null,
      "outputs": [
        {
          "output_type": "execute_result",
          "data": {
            "text/plain": [
              "[('bart', 0.8990170955657959),\n",
              " ('homer', 0.8600276708602905),\n",
              " ('lisa', 0.8358585238456726),\n",
              " ('eliza', 0.7657955884933472),\n",
              " ('mrs', 0.749053418636322),\n",
              " ('abe', 0.7397520542144775),\n",
              " ('grampa', 0.7330268025398254),\n",
              " ('abraham', 0.7203943133354187),\n",
              " ('bartholomew', 0.7185417413711548),\n",
              " ('j', 0.7182782292366028)]"
            ]
          },
          "metadata": {},
          "execution_count": 76
        }
      ]
    },
    {
      "cell_type": "code",
      "source": [
        "vec = model.wv[\"bart\"] - model.wv[\"lisa\"] + model.wv[\"school\"]\n",
        "model.wv.similar_by_vector(vec)"
      ],
      "metadata": {
        "colab": {
          "base_uri": "https://localhost:8080/"
        },
        "id": "rtfFvHlC7F0N",
        "outputId": "233390d5-54ed-4cb7-f146-b76c73a212a2"
      },
      "execution_count": null,
      "outputs": [
        {
          "output_type": "execute_result",
          "data": {
            "text/plain": [
              "[('school', 0.9336652755737305),\n",
              " ('together', 0.7543725371360779),\n",
              " ('lives', 0.7492193579673767),\n",
              " ('rest', 0.7427104711532593),\n",
              " ('high', 0.7379917502403259),\n",
              " ('away', 0.7366161346435547),\n",
              " ('tomorrow', 0.7279853820800781),\n",
              " ('town', 0.7231345176696777),\n",
              " ('game', 0.7192825078964233),\n",
              " ('sundays', 0.7146451473236084)]"
            ]
          },
          "metadata": {},
          "execution_count": 77
        }
      ]
    },
    {
      "cell_type": "code",
      "source": [
        "vec = model.wv[\"marge\"] - model.wv[\"homer\"] + model.wv[\"home\"]\n",
        "model.wv.similar_by_vector(vec)"
      ],
      "metadata": {
        "colab": {
          "base_uri": "https://localhost:8080/"
        },
        "id": "ILk8a-6K7Q6P",
        "outputId": "4ef717a1-cd8c-4eda-81c6-86b2913c8d11"
      },
      "execution_count": null,
      "outputs": [
        {
          "output_type": "execute_result",
          "data": {
            "text/plain": [
              "[('home', 0.9009953737258911),\n",
              " ('bed', 0.8568058013916016),\n",
              " ('together', 0.7980523705482483),\n",
              " ('sleep', 0.7833420634269714),\n",
              " ('dinner', 0.7720690965652466),\n",
              " ('back', 0.7655618190765381),\n",
              " ('stay', 0.760530412197113),\n",
              " ('tomorrow', 0.7412276268005371),\n",
              " ('outta', 0.7350122928619385),\n",
              " ('college', 0.7165538668632507)]"
            ]
          },
          "metadata": {},
          "execution_count": 78
        }
      ]
    },
    {
      "cell_type": "markdown",
      "source": [
        "**Классификатор bart/lisa**"
      ],
      "metadata": {
        "id": "RBi08AqqHUy1"
      }
    },
    {
      "cell_type": "markdown",
      "source": [
        "**Средние вектора с весами tf-idf**"
      ],
      "metadata": {
        "id": "KqS2Vtr9_dRp"
      }
    },
    {
      "cell_type": "code",
      "source": [
        "class TfidfEmbeddingVectorizer(object):\n",
        "    def __init__(self, word2vec):\n",
        "        self.word2vec = word2vec\n",
        "        self.word2weight = None\n",
        "        self.dim = len(word2vec.popitem()[1])\n",
        "\n",
        "    def fit(self, X, y=None):\n",
        "        tfidf = TfidfVectorizer(analyzer=lambda x: x)\n",
        "        tfidf.fit(X)\n",
        "        max_idf = max(tfidf.idf_)\n",
        "        self.word2weight = defaultdict(\n",
        "            lambda: max_idf,\n",
        "            [(w, tfidf.idf_[i]) for w, i in tfidf.vocabulary_.items()])\n",
        "\n",
        "        return self\n",
        "\n",
        "    def transform(self, X):\n",
        "        return np.array([\n",
        "                np.mean([self.word2vec[w] * self.word2weight[w]\n",
        "                         for w in words if w in self.word2vec] or\n",
        "                        [np.zeros(self.dim)], axis=0)\n",
        "                for words in X\n",
        "            ])"
      ],
      "metadata": {
        "id": "PoVKb8bX_dhu"
      },
      "execution_count": null,
      "outputs": []
    },
    {
      "cell_type": "code",
      "source": [
        "data_train = data[(data[\"person\"] == \"Bart Simpson\") | (data[\"person\"] == \"Lisa Simpson\")]\n",
        "data_train.head()"
      ],
      "metadata": {
        "colab": {
          "base_uri": "https://localhost:8080/",
          "height": 206
        },
        "id": "Iv2sU7aYIFt1",
        "outputId": "7aee7ccd-0f46-476a-b263-e6f615353b58"
      },
      "execution_count": null,
      "outputs": [
        {
          "output_type": "execute_result",
          "data": {
            "text/plain": [
              "          person                            text\n",
              "1   Lisa Simpson         [wheres, mr, bergstrom]\n",
              "3   Lisa Simpson           [life, worth, living]\n",
              "7   Bart Simpson         [victory, party, slide]\n",
              "9   Lisa Simpson  [mr, bergstrom, mr, bergstrom]\n",
              "11  Lisa Simpson             [know, could, find]"
            ],
            "text/html": [
              "\n",
              "  <div id=\"df-12bd5531-4337-4676-8cd5-54c1add5c158\">\n",
              "    <div class=\"colab-df-container\">\n",
              "      <div>\n",
              "<style scoped>\n",
              "    .dataframe tbody tr th:only-of-type {\n",
              "        vertical-align: middle;\n",
              "    }\n",
              "\n",
              "    .dataframe tbody tr th {\n",
              "        vertical-align: top;\n",
              "    }\n",
              "\n",
              "    .dataframe thead th {\n",
              "        text-align: right;\n",
              "    }\n",
              "</style>\n",
              "<table border=\"1\" class=\"dataframe\">\n",
              "  <thead>\n",
              "    <tr style=\"text-align: right;\">\n",
              "      <th></th>\n",
              "      <th>person</th>\n",
              "      <th>text</th>\n",
              "    </tr>\n",
              "  </thead>\n",
              "  <tbody>\n",
              "    <tr>\n",
              "      <th>1</th>\n",
              "      <td>Lisa Simpson</td>\n",
              "      <td>[wheres, mr, bergstrom]</td>\n",
              "    </tr>\n",
              "    <tr>\n",
              "      <th>3</th>\n",
              "      <td>Lisa Simpson</td>\n",
              "      <td>[life, worth, living]</td>\n",
              "    </tr>\n",
              "    <tr>\n",
              "      <th>7</th>\n",
              "      <td>Bart Simpson</td>\n",
              "      <td>[victory, party, slide]</td>\n",
              "    </tr>\n",
              "    <tr>\n",
              "      <th>9</th>\n",
              "      <td>Lisa Simpson</td>\n",
              "      <td>[mr, bergstrom, mr, bergstrom]</td>\n",
              "    </tr>\n",
              "    <tr>\n",
              "      <th>11</th>\n",
              "      <td>Lisa Simpson</td>\n",
              "      <td>[know, could, find]</td>\n",
              "    </tr>\n",
              "  </tbody>\n",
              "</table>\n",
              "</div>\n",
              "      <button class=\"colab-df-convert\" onclick=\"convertToInteractive('df-12bd5531-4337-4676-8cd5-54c1add5c158')\"\n",
              "              title=\"Convert this dataframe to an interactive table.\"\n",
              "              style=\"display:none;\">\n",
              "        \n",
              "  <svg xmlns=\"http://www.w3.org/2000/svg\" height=\"24px\"viewBox=\"0 0 24 24\"\n",
              "       width=\"24px\">\n",
              "    <path d=\"M0 0h24v24H0V0z\" fill=\"none\"/>\n",
              "    <path d=\"M18.56 5.44l.94 2.06.94-2.06 2.06-.94-2.06-.94-.94-2.06-.94 2.06-2.06.94zm-11 1L8.5 8.5l.94-2.06 2.06-.94-2.06-.94L8.5 2.5l-.94 2.06-2.06.94zm10 10l.94 2.06.94-2.06 2.06-.94-2.06-.94-.94-2.06-.94 2.06-2.06.94z\"/><path d=\"M17.41 7.96l-1.37-1.37c-.4-.4-.92-.59-1.43-.59-.52 0-1.04.2-1.43.59L10.3 9.45l-7.72 7.72c-.78.78-.78 2.05 0 2.83L4 21.41c.39.39.9.59 1.41.59.51 0 1.02-.2 1.41-.59l7.78-7.78 2.81-2.81c.8-.78.8-2.07 0-2.86zM5.41 20L4 18.59l7.72-7.72 1.47 1.35L5.41 20z\"/>\n",
              "  </svg>\n",
              "      </button>\n",
              "      \n",
              "  <style>\n",
              "    .colab-df-container {\n",
              "      display:flex;\n",
              "      flex-wrap:wrap;\n",
              "      gap: 12px;\n",
              "    }\n",
              "\n",
              "    .colab-df-convert {\n",
              "      background-color: #E8F0FE;\n",
              "      border: none;\n",
              "      border-radius: 50%;\n",
              "      cursor: pointer;\n",
              "      display: none;\n",
              "      fill: #1967D2;\n",
              "      height: 32px;\n",
              "      padding: 0 0 0 0;\n",
              "      width: 32px;\n",
              "    }\n",
              "\n",
              "    .colab-df-convert:hover {\n",
              "      background-color: #E2EBFA;\n",
              "      box-shadow: 0px 1px 2px rgba(60, 64, 67, 0.3), 0px 1px 3px 1px rgba(60, 64, 67, 0.15);\n",
              "      fill: #174EA6;\n",
              "    }\n",
              "\n",
              "    [theme=dark] .colab-df-convert {\n",
              "      background-color: #3B4455;\n",
              "      fill: #D2E3FC;\n",
              "    }\n",
              "\n",
              "    [theme=dark] .colab-df-convert:hover {\n",
              "      background-color: #434B5C;\n",
              "      box-shadow: 0px 1px 3px 1px rgba(0, 0, 0, 0.15);\n",
              "      filter: drop-shadow(0px 1px 2px rgba(0, 0, 0, 0.3));\n",
              "      fill: #FFFFFF;\n",
              "    }\n",
              "  </style>\n",
              "\n",
              "      <script>\n",
              "        const buttonEl =\n",
              "          document.querySelector('#df-12bd5531-4337-4676-8cd5-54c1add5c158 button.colab-df-convert');\n",
              "        buttonEl.style.display =\n",
              "          google.colab.kernel.accessAllowed ? 'block' : 'none';\n",
              "\n",
              "        async function convertToInteractive(key) {\n",
              "          const element = document.querySelector('#df-12bd5531-4337-4676-8cd5-54c1add5c158');\n",
              "          const dataTable =\n",
              "            await google.colab.kernel.invokeFunction('convertToInteractive',\n",
              "                                                     [key], {});\n",
              "          if (!dataTable) return;\n",
              "\n",
              "          const docLinkHtml = 'Like what you see? Visit the ' +\n",
              "            '<a target=\"_blank\" href=https://colab.research.google.com/notebooks/data_table.ipynb>data table notebook</a>'\n",
              "            + ' to learn more about interactive tables.';\n",
              "          element.innerHTML = '';\n",
              "          dataTable['output_type'] = 'display_data';\n",
              "          await google.colab.output.renderOutput(dataTable, element);\n",
              "          const docLink = document.createElement('div');\n",
              "          docLink.innerHTML = docLinkHtml;\n",
              "          element.appendChild(docLink);\n",
              "        }\n",
              "      </script>\n",
              "    </div>\n",
              "  </div>\n",
              "  "
            ]
          },
          "metadata": {},
          "execution_count": 89
        }
      ]
    },
    {
      "cell_type": "code",
      "source": [
        "X_train, X_test, y_train, y_test = train_test_split(data_train[\"text\"].values, data_train[\"person\"].values, test_size=0.1, random_state=42)"
      ],
      "metadata": {
        "id": "PsaSTXMsO5Qf"
      },
      "execution_count": null,
      "outputs": []
    },
    {
      "cell_type": "code",
      "source": [
        "w2v = dict(zip(model.wv.index_to_key, model.wv.vectors))\n",
        "\n",
        "tfidfEmbVect = TfidfEmbeddingVectorizer(w2v)\n",
        "\n",
        "embedding_train = tfidfEmbVect.fit(X_train).transform(X_train)"
      ],
      "metadata": {
        "id": "oXrdTA7h_q9r"
      },
      "execution_count": null,
      "outputs": []
    },
    {
      "cell_type": "code",
      "source": [
        "classifier = CatBoostClassifier(loss_function=\"Logloss\", iterations=500, depth=3,\n",
        "                                eval_metric=\"Accuracy\", custom_metric=\"AUC\",\n",
        "                                random_seed=42, logging_level=\"Silent\", use_best_model=False, task_type=\"GPU\", devices='0')\n",
        "\n",
        "classifier.fit(embedding_train, y_train)"
      ],
      "metadata": {
        "colab": {
          "base_uri": "https://localhost:8080/"
        },
        "id": "vxIXRB1o7itC",
        "outputId": "3596ad0f-bd3e-4e94-a225-6ff4afa04ceb"
      },
      "execution_count": null,
      "outputs": [
        {
          "output_type": "stream",
          "name": "stderr",
          "text": [
            "Default metric period is 5 because AUC is/are not implemented for GPU\n"
          ]
        },
        {
          "output_type": "execute_result",
          "data": {
            "text/plain": [
              "<catboost.core.CatBoostClassifier at 0x7f734ab15bd0>"
            ]
          },
          "metadata": {},
          "execution_count": 118
        }
      ]
    },
    {
      "cell_type": "code",
      "source": [
        "persons = [\"Bart Simpson\", \"Lisa Simpson\"]"
      ],
      "metadata": {
        "id": "5__o9AHbQedg"
      },
      "execution_count": null,
      "outputs": []
    },
    {
      "cell_type": "code",
      "source": [
        "embedding_test = tfidfEmbVect.transform(X_test)"
      ],
      "metadata": {
        "id": "2KqRqVrZRPFb"
      },
      "execution_count": null,
      "outputs": []
    },
    {
      "cell_type": "code",
      "source": [
        "predict_proba = classifier.predict_proba(embedding_test)\n",
        "\n",
        "cnt = 0\n",
        "for idx, prob in enumerate(predict_proba):\n",
        "    if persons[np.argmax(prob)] == y_test[idx]: cnt += 1\n",
        "\n",
        "print(\"accuracy = {}\".format(cnt / len(y_test)))"
      ],
      "metadata": {
        "id": "KkVx74fR74pu",
        "colab": {
          "base_uri": "https://localhost:8080/"
        },
        "outputId": "aa004ea8-62f4-4af2-b35d-6db318365273"
      },
      "execution_count": null,
      "outputs": [
        {
          "output_type": "stream",
          "name": "stdout",
          "text": [
            "accuracy = 0.6320437342304458\n"
          ]
        }
      ]
    }
  ],
  "metadata": {
    "colab": {
      "machine_shape": "hm",
      "provenance": [],
      "gpuType": "T4"
    },
    "kernelspec": {
      "display_name": "Python 3",
      "language": "python",
      "name": "python3"
    },
    "language_info": {
      "codemirror_mode": {
        "name": "ipython",
        "version": 3
      },
      "file_extension": ".py",
      "mimetype": "text/x-python",
      "name": "python",
      "nbconvert_exporter": "python",
      "pygments_lexer": "ipython3",
      "version": "3.8.8"
    },
    "accelerator": "GPU",
    "gpuClass": "standard"
  },
  "nbformat": 4,
  "nbformat_minor": 0
}